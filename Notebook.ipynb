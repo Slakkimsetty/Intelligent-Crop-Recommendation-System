{
  "nbformat": 4,
  "nbformat_minor": 0,
  "metadata": {
    "colab": {
      "name": "Crop_Recommender_System.ipynb",
      "provenance": [],
      "collapsed_sections": [
        "BsBC0WhMrkv2",
        "EYonA6cZw15f",
        "esEtprf_BleA",
        "h_aQ--Axsb2_",
        "_ztY3RPPuNH3",
        "kUjtcFK5utou",
        "nc_MMu4ttWFC",
        "GGqFYTuwqb6y",
        "70GWfvn9r67U",
        "4fgoMqDpigzy"
      ]
    },
    "kernelspec": {
      "name": "python3",
      "display_name": "Python 3"
    },
    "language_info": {
      "name": "python"
    }
  },
  "cells": [
    {
      "cell_type": "markdown",
      "metadata": {
        "id": "pg-pGX6A_oOk"
      },
      "source": [
        "***Intelligent Crop Recommendation System***\n"
      ]
    },
    {
      "cell_type": "code",
      "metadata": {
        "id": "QBjF1hr2ZCMJ"
      },
      "source": [
        "import pandas as pd\n",
        "import numpy as np\n",
        "import seaborn as sns\n",
        "from sklearn.model_selection import train_test_split\n",
        "from sklearn.preprocessing import StandardScaler\n",
        "from sklearn.neighbors import KNeighborsClassifier\n",
        "from math import sqrt,ceil\n",
        "from sklearn.metrics import f1_score , confusion_matrix, precision_score, recall_score, accuracy_score\n",
        "import matplotlib.pyplot as plt"
      ],
      "execution_count": 80,
      "outputs": []
    },
    {
      "cell_type": "code",
      "metadata": {
        "id": "XqvmeggbZUYX"
      },
      "source": [
        "df = pd.read_csv('https://gist.githubusercontent.com/gunalabs/68a5daeb5af151558a8701194dd68189/raw/4bd62b61cb36da0bc1c000a039c1547a45cd062a/cropsdata.csv')\n"
      ],
      "execution_count": 81,
      "outputs": []
    },
    {
      "cell_type": "markdown",
      "metadata": {
        "id": "_fzjWsSOkYmO"
      },
      "source": [
        "## DataSet Understanding"
      ]
    },
    {
      "cell_type": "markdown",
      "metadata": {
        "id": "nD-QNGveFVh7"
      },
      "source": [
        "describe() calls the method, and returns the result."
      ]
    },
    {
      "cell_type": "code",
      "metadata": {
        "colab": {
          "base_uri": "https://localhost:8080/",
          "height": 300
        },
        "id": "IyB1VZnIkTz0",
        "outputId": "1c1b472f-94c1-4374-cf1a-391b68734a11"
      },
      "source": [
        "df.describe()"
      ],
      "execution_count": 82,
      "outputs": [
        {
          "output_type": "execute_result",
          "data": {
            "text/html": [
              "\n",
              "  <div id=\"df-86ab14e0-09f2-4bc7-a339-baa3d628c082\">\n",
              "    <div class=\"colab-df-container\">\n",
              "      <div>\n",
              "<style scoped>\n",
              "    .dataframe tbody tr th:only-of-type {\n",
              "        vertical-align: middle;\n",
              "    }\n",
              "\n",
              "    .dataframe tbody tr th {\n",
              "        vertical-align: top;\n",
              "    }\n",
              "\n",
              "    .dataframe thead th {\n",
              "        text-align: right;\n",
              "    }\n",
              "</style>\n",
              "<table border=\"1\" class=\"dataframe\">\n",
              "  <thead>\n",
              "    <tr style=\"text-align: right;\">\n",
              "      <th></th>\n",
              "      <th>N</th>\n",
              "      <th>P</th>\n",
              "      <th>K</th>\n",
              "      <th>temperature</th>\n",
              "      <th>humidity</th>\n",
              "      <th>ph</th>\n",
              "      <th>rainfall</th>\n",
              "    </tr>\n",
              "  </thead>\n",
              "  <tbody>\n",
              "    <tr>\n",
              "      <th>count</th>\n",
              "      <td>2200.000000</td>\n",
              "      <td>2200.000000</td>\n",
              "      <td>2200.000000</td>\n",
              "      <td>2200.000000</td>\n",
              "      <td>2200.000000</td>\n",
              "      <td>2200.000000</td>\n",
              "      <td>2200.000000</td>\n",
              "    </tr>\n",
              "    <tr>\n",
              "      <th>mean</th>\n",
              "      <td>50.551818</td>\n",
              "      <td>53.362727</td>\n",
              "      <td>48.149091</td>\n",
              "      <td>25.616244</td>\n",
              "      <td>71.481779</td>\n",
              "      <td>6.469480</td>\n",
              "      <td>103.463655</td>\n",
              "    </tr>\n",
              "    <tr>\n",
              "      <th>std</th>\n",
              "      <td>36.917334</td>\n",
              "      <td>32.985883</td>\n",
              "      <td>50.647931</td>\n",
              "      <td>5.063749</td>\n",
              "      <td>22.263812</td>\n",
              "      <td>0.773938</td>\n",
              "      <td>54.958389</td>\n",
              "    </tr>\n",
              "    <tr>\n",
              "      <th>min</th>\n",
              "      <td>0.000000</td>\n",
              "      <td>5.000000</td>\n",
              "      <td>5.000000</td>\n",
              "      <td>8.825675</td>\n",
              "      <td>14.258040</td>\n",
              "      <td>3.504752</td>\n",
              "      <td>20.211267</td>\n",
              "    </tr>\n",
              "    <tr>\n",
              "      <th>25%</th>\n",
              "      <td>21.000000</td>\n",
              "      <td>28.000000</td>\n",
              "      <td>20.000000</td>\n",
              "      <td>22.769375</td>\n",
              "      <td>60.261953</td>\n",
              "      <td>5.971693</td>\n",
              "      <td>64.551686</td>\n",
              "    </tr>\n",
              "    <tr>\n",
              "      <th>50%</th>\n",
              "      <td>37.000000</td>\n",
              "      <td>51.000000</td>\n",
              "      <td>32.000000</td>\n",
              "      <td>25.598693</td>\n",
              "      <td>80.473146</td>\n",
              "      <td>6.425045</td>\n",
              "      <td>94.867624</td>\n",
              "    </tr>\n",
              "    <tr>\n",
              "      <th>75%</th>\n",
              "      <td>84.250000</td>\n",
              "      <td>68.000000</td>\n",
              "      <td>49.000000</td>\n",
              "      <td>28.561654</td>\n",
              "      <td>89.948771</td>\n",
              "      <td>6.923643</td>\n",
              "      <td>124.267508</td>\n",
              "    </tr>\n",
              "    <tr>\n",
              "      <th>max</th>\n",
              "      <td>140.000000</td>\n",
              "      <td>145.000000</td>\n",
              "      <td>205.000000</td>\n",
              "      <td>43.675493</td>\n",
              "      <td>99.981876</td>\n",
              "      <td>9.935091</td>\n",
              "      <td>298.560117</td>\n",
              "    </tr>\n",
              "  </tbody>\n",
              "</table>\n",
              "</div>\n",
              "      <button class=\"colab-df-convert\" onclick=\"convertToInteractive('df-86ab14e0-09f2-4bc7-a339-baa3d628c082')\"\n",
              "              title=\"Convert this dataframe to an interactive table.\"\n",
              "              style=\"display:none;\">\n",
              "        \n",
              "  <svg xmlns=\"http://www.w3.org/2000/svg\" height=\"24px\"viewBox=\"0 0 24 24\"\n",
              "       width=\"24px\">\n",
              "    <path d=\"M0 0h24v24H0V0z\" fill=\"none\"/>\n",
              "    <path d=\"M18.56 5.44l.94 2.06.94-2.06 2.06-.94-2.06-.94-.94-2.06-.94 2.06-2.06.94zm-11 1L8.5 8.5l.94-2.06 2.06-.94-2.06-.94L8.5 2.5l-.94 2.06-2.06.94zm10 10l.94 2.06.94-2.06 2.06-.94-2.06-.94-.94-2.06-.94 2.06-2.06.94z\"/><path d=\"M17.41 7.96l-1.37-1.37c-.4-.4-.92-.59-1.43-.59-.52 0-1.04.2-1.43.59L10.3 9.45l-7.72 7.72c-.78.78-.78 2.05 0 2.83L4 21.41c.39.39.9.59 1.41.59.51 0 1.02-.2 1.41-.59l7.78-7.78 2.81-2.81c.8-.78.8-2.07 0-2.86zM5.41 20L4 18.59l7.72-7.72 1.47 1.35L5.41 20z\"/>\n",
              "  </svg>\n",
              "      </button>\n",
              "      \n",
              "  <style>\n",
              "    .colab-df-container {\n",
              "      display:flex;\n",
              "      flex-wrap:wrap;\n",
              "      gap: 12px;\n",
              "    }\n",
              "\n",
              "    .colab-df-convert {\n",
              "      background-color: #E8F0FE;\n",
              "      border: none;\n",
              "      border-radius: 50%;\n",
              "      cursor: pointer;\n",
              "      display: none;\n",
              "      fill: #1967D2;\n",
              "      height: 32px;\n",
              "      padding: 0 0 0 0;\n",
              "      width: 32px;\n",
              "    }\n",
              "\n",
              "    .colab-df-convert:hover {\n",
              "      background-color: #E2EBFA;\n",
              "      box-shadow: 0px 1px 2px rgba(60, 64, 67, 0.3), 0px 1px 3px 1px rgba(60, 64, 67, 0.15);\n",
              "      fill: #174EA6;\n",
              "    }\n",
              "\n",
              "    [theme=dark] .colab-df-convert {\n",
              "      background-color: #3B4455;\n",
              "      fill: #D2E3FC;\n",
              "    }\n",
              "\n",
              "    [theme=dark] .colab-df-convert:hover {\n",
              "      background-color: #434B5C;\n",
              "      box-shadow: 0px 1px 3px 1px rgba(0, 0, 0, 0.15);\n",
              "      filter: drop-shadow(0px 1px 2px rgba(0, 0, 0, 0.3));\n",
              "      fill: #FFFFFF;\n",
              "    }\n",
              "  </style>\n",
              "\n",
              "      <script>\n",
              "        const buttonEl =\n",
              "          document.querySelector('#df-86ab14e0-09f2-4bc7-a339-baa3d628c082 button.colab-df-convert');\n",
              "        buttonEl.style.display =\n",
              "          google.colab.kernel.accessAllowed ? 'block' : 'none';\n",
              "\n",
              "        async function convertToInteractive(key) {\n",
              "          const element = document.querySelector('#df-86ab14e0-09f2-4bc7-a339-baa3d628c082');\n",
              "          const dataTable =\n",
              "            await google.colab.kernel.invokeFunction('convertToInteractive',\n",
              "                                                     [key], {});\n",
              "          if (!dataTable) return;\n",
              "\n",
              "          const docLinkHtml = 'Like what you see? Visit the ' +\n",
              "            '<a target=\"_blank\" href=https://colab.research.google.com/notebooks/data_table.ipynb>data table notebook</a>'\n",
              "            + ' to learn more about interactive tables.';\n",
              "          element.innerHTML = '';\n",
              "          dataTable['output_type'] = 'display_data';\n",
              "          await google.colab.output.renderOutput(dataTable, element);\n",
              "          const docLink = document.createElement('div');\n",
              "          docLink.innerHTML = docLinkHtml;\n",
              "          element.appendChild(docLink);\n",
              "        }\n",
              "      </script>\n",
              "    </div>\n",
              "  </div>\n",
              "  "
            ],
            "text/plain": [
              "                 N            P  ...           ph     rainfall\n",
              "count  2200.000000  2200.000000  ...  2200.000000  2200.000000\n",
              "mean     50.551818    53.362727  ...     6.469480   103.463655\n",
              "std      36.917334    32.985883  ...     0.773938    54.958389\n",
              "min       0.000000     5.000000  ...     3.504752    20.211267\n",
              "25%      21.000000    28.000000  ...     5.971693    64.551686\n",
              "50%      37.000000    51.000000  ...     6.425045    94.867624\n",
              "75%      84.250000    68.000000  ...     6.923643   124.267508\n",
              "max     140.000000   145.000000  ...     9.935091   298.560117\n",
              "\n",
              "[8 rows x 7 columns]"
            ]
          },
          "metadata": {},
          "execution_count": 82
        }
      ]
    },
    {
      "cell_type": "markdown",
      "metadata": {
        "id": "6FqXuUjKFgaF"
      },
      "source": [
        "info() prints a concise summary of a DataFrame including the index dtype and column dtypes, non-null values and memory usage."
      ]
    },
    {
      "cell_type": "code",
      "metadata": {
        "colab": {
          "base_uri": "https://localhost:8080/"
        },
        "id": "_NMh56Q8mFcD",
        "outputId": "eeb015db-9542-4e00-936a-6e4b24da4f25"
      },
      "source": [
        "df.info()"
      ],
      "execution_count": 83,
      "outputs": [
        {
          "output_type": "stream",
          "name": "stdout",
          "text": [
            "<class 'pandas.core.frame.DataFrame'>\n",
            "RangeIndex: 2200 entries, 0 to 2199\n",
            "Data columns (total 8 columns):\n",
            " #   Column       Non-Null Count  Dtype  \n",
            "---  ------       --------------  -----  \n",
            " 0   N            2200 non-null   int64  \n",
            " 1   P            2200 non-null   int64  \n",
            " 2   K            2200 non-null   int64  \n",
            " 3   temperature  2200 non-null   float64\n",
            " 4   humidity     2200 non-null   float64\n",
            " 5   ph           2200 non-null   float64\n",
            " 6   rainfall     2200 non-null   float64\n",
            " 7   label        2200 non-null   object \n",
            "dtypes: float64(4), int64(3), object(1)\n",
            "memory usage: 137.6+ KB\n"
          ]
        }
      ]
    },
    {
      "cell_type": "code",
      "metadata": {
        "colab": {
          "base_uri": "https://localhost:8080/"
        },
        "id": "CbTVnrQBq6Ax",
        "outputId": "3e281aa3-0f5d-4636-dcab-12729617ab7d"
      },
      "source": [
        "#prints length of an dataset.\n",
        "len(df)"
      ],
      "execution_count": 84,
      "outputs": [
        {
          "output_type": "execute_result",
          "data": {
            "text/plain": [
              "2200"
            ]
          },
          "metadata": {},
          "execution_count": 84
        }
      ]
    },
    {
      "cell_type": "markdown",
      "metadata": {
        "id": "Uth5oOmQFmJx"
      },
      "source": [
        "head() prints the First 5 rows in dataset."
      ]
    },
    {
      "cell_type": "code",
      "metadata": {
        "colab": {
          "base_uri": "https://localhost:8080/",
          "height": 206
        },
        "id": "C6m0m3b7mN1v",
        "outputId": "69a1a115-7d52-46a7-f07d-693d689bfc86"
      },
      "source": [
        "df.head()"
      ],
      "execution_count": 85,
      "outputs": [
        {
          "output_type": "execute_result",
          "data": {
            "text/html": [
              "\n",
              "  <div id=\"df-cc866f52-93ab-446a-b7bc-cf29d3a328fd\">\n",
              "    <div class=\"colab-df-container\">\n",
              "      <div>\n",
              "<style scoped>\n",
              "    .dataframe tbody tr th:only-of-type {\n",
              "        vertical-align: middle;\n",
              "    }\n",
              "\n",
              "    .dataframe tbody tr th {\n",
              "        vertical-align: top;\n",
              "    }\n",
              "\n",
              "    .dataframe thead th {\n",
              "        text-align: right;\n",
              "    }\n",
              "</style>\n",
              "<table border=\"1\" class=\"dataframe\">\n",
              "  <thead>\n",
              "    <tr style=\"text-align: right;\">\n",
              "      <th></th>\n",
              "      <th>N</th>\n",
              "      <th>P</th>\n",
              "      <th>K</th>\n",
              "      <th>temperature</th>\n",
              "      <th>humidity</th>\n",
              "      <th>ph</th>\n",
              "      <th>rainfall</th>\n",
              "      <th>label</th>\n",
              "    </tr>\n",
              "  </thead>\n",
              "  <tbody>\n",
              "    <tr>\n",
              "      <th>0</th>\n",
              "      <td>90</td>\n",
              "      <td>42</td>\n",
              "      <td>43</td>\n",
              "      <td>20.879744</td>\n",
              "      <td>82.002744</td>\n",
              "      <td>6.502985</td>\n",
              "      <td>202.935536</td>\n",
              "      <td>rice</td>\n",
              "    </tr>\n",
              "    <tr>\n",
              "      <th>1</th>\n",
              "      <td>85</td>\n",
              "      <td>58</td>\n",
              "      <td>41</td>\n",
              "      <td>21.770462</td>\n",
              "      <td>80.319644</td>\n",
              "      <td>7.038096</td>\n",
              "      <td>226.655537</td>\n",
              "      <td>rice</td>\n",
              "    </tr>\n",
              "    <tr>\n",
              "      <th>2</th>\n",
              "      <td>60</td>\n",
              "      <td>55</td>\n",
              "      <td>44</td>\n",
              "      <td>23.004459</td>\n",
              "      <td>82.320763</td>\n",
              "      <td>7.840207</td>\n",
              "      <td>263.964248</td>\n",
              "      <td>rice</td>\n",
              "    </tr>\n",
              "    <tr>\n",
              "      <th>3</th>\n",
              "      <td>74</td>\n",
              "      <td>35</td>\n",
              "      <td>40</td>\n",
              "      <td>26.491096</td>\n",
              "      <td>80.158363</td>\n",
              "      <td>6.980401</td>\n",
              "      <td>242.864034</td>\n",
              "      <td>rice</td>\n",
              "    </tr>\n",
              "    <tr>\n",
              "      <th>4</th>\n",
              "      <td>78</td>\n",
              "      <td>42</td>\n",
              "      <td>42</td>\n",
              "      <td>20.130175</td>\n",
              "      <td>81.604873</td>\n",
              "      <td>7.628473</td>\n",
              "      <td>262.717340</td>\n",
              "      <td>rice</td>\n",
              "    </tr>\n",
              "  </tbody>\n",
              "</table>\n",
              "</div>\n",
              "      <button class=\"colab-df-convert\" onclick=\"convertToInteractive('df-cc866f52-93ab-446a-b7bc-cf29d3a328fd')\"\n",
              "              title=\"Convert this dataframe to an interactive table.\"\n",
              "              style=\"display:none;\">\n",
              "        \n",
              "  <svg xmlns=\"http://www.w3.org/2000/svg\" height=\"24px\"viewBox=\"0 0 24 24\"\n",
              "       width=\"24px\">\n",
              "    <path d=\"M0 0h24v24H0V0z\" fill=\"none\"/>\n",
              "    <path d=\"M18.56 5.44l.94 2.06.94-2.06 2.06-.94-2.06-.94-.94-2.06-.94 2.06-2.06.94zm-11 1L8.5 8.5l.94-2.06 2.06-.94-2.06-.94L8.5 2.5l-.94 2.06-2.06.94zm10 10l.94 2.06.94-2.06 2.06-.94-2.06-.94-.94-2.06-.94 2.06-2.06.94z\"/><path d=\"M17.41 7.96l-1.37-1.37c-.4-.4-.92-.59-1.43-.59-.52 0-1.04.2-1.43.59L10.3 9.45l-7.72 7.72c-.78.78-.78 2.05 0 2.83L4 21.41c.39.39.9.59 1.41.59.51 0 1.02-.2 1.41-.59l7.78-7.78 2.81-2.81c.8-.78.8-2.07 0-2.86zM5.41 20L4 18.59l7.72-7.72 1.47 1.35L5.41 20z\"/>\n",
              "  </svg>\n",
              "      </button>\n",
              "      \n",
              "  <style>\n",
              "    .colab-df-container {\n",
              "      display:flex;\n",
              "      flex-wrap:wrap;\n",
              "      gap: 12px;\n",
              "    }\n",
              "\n",
              "    .colab-df-convert {\n",
              "      background-color: #E8F0FE;\n",
              "      border: none;\n",
              "      border-radius: 50%;\n",
              "      cursor: pointer;\n",
              "      display: none;\n",
              "      fill: #1967D2;\n",
              "      height: 32px;\n",
              "      padding: 0 0 0 0;\n",
              "      width: 32px;\n",
              "    }\n",
              "\n",
              "    .colab-df-convert:hover {\n",
              "      background-color: #E2EBFA;\n",
              "      box-shadow: 0px 1px 2px rgba(60, 64, 67, 0.3), 0px 1px 3px 1px rgba(60, 64, 67, 0.15);\n",
              "      fill: #174EA6;\n",
              "    }\n",
              "\n",
              "    [theme=dark] .colab-df-convert {\n",
              "      background-color: #3B4455;\n",
              "      fill: #D2E3FC;\n",
              "    }\n",
              "\n",
              "    [theme=dark] .colab-df-convert:hover {\n",
              "      background-color: #434B5C;\n",
              "      box-shadow: 0px 1px 3px 1px rgba(0, 0, 0, 0.15);\n",
              "      filter: drop-shadow(0px 1px 2px rgba(0, 0, 0, 0.3));\n",
              "      fill: #FFFFFF;\n",
              "    }\n",
              "  </style>\n",
              "\n",
              "      <script>\n",
              "        const buttonEl =\n",
              "          document.querySelector('#df-cc866f52-93ab-446a-b7bc-cf29d3a328fd button.colab-df-convert');\n",
              "        buttonEl.style.display =\n",
              "          google.colab.kernel.accessAllowed ? 'block' : 'none';\n",
              "\n",
              "        async function convertToInteractive(key) {\n",
              "          const element = document.querySelector('#df-cc866f52-93ab-446a-b7bc-cf29d3a328fd');\n",
              "          const dataTable =\n",
              "            await google.colab.kernel.invokeFunction('convertToInteractive',\n",
              "                                                     [key], {});\n",
              "          if (!dataTable) return;\n",
              "\n",
              "          const docLinkHtml = 'Like what you see? Visit the ' +\n",
              "            '<a target=\"_blank\" href=https://colab.research.google.com/notebooks/data_table.ipynb>data table notebook</a>'\n",
              "            + ' to learn more about interactive tables.';\n",
              "          element.innerHTML = '';\n",
              "          dataTable['output_type'] = 'display_data';\n",
              "          await google.colab.output.renderOutput(dataTable, element);\n",
              "          const docLink = document.createElement('div');\n",
              "          docLink.innerHTML = docLinkHtml;\n",
              "          element.appendChild(docLink);\n",
              "        }\n",
              "      </script>\n",
              "    </div>\n",
              "  </div>\n",
              "  "
            ],
            "text/plain": [
              "    N   P   K  temperature   humidity        ph    rainfall label\n",
              "0  90  42  43    20.879744  82.002744  6.502985  202.935536  rice\n",
              "1  85  58  41    21.770462  80.319644  7.038096  226.655537  rice\n",
              "2  60  55  44    23.004459  82.320763  7.840207  263.964248  rice\n",
              "3  74  35  40    26.491096  80.158363  6.980401  242.864034  rice\n",
              "4  78  42  42    20.130175  81.604873  7.628473  262.717340  rice"
            ]
          },
          "metadata": {},
          "execution_count": 85
        }
      ]
    },
    {
      "cell_type": "markdown",
      "metadata": {
        "id": "bIjZUG--FsHf"
      },
      "source": [
        "head(x) prints the given number of starting rows in dataset.\n",
        "here, x = 10. "
      ]
    },
    {
      "cell_type": "code",
      "metadata": {
        "colab": {
          "base_uri": "https://localhost:8080/",
          "height": 363
        },
        "id": "n1Soe-6BnmZq",
        "outputId": "0c39d558-e296-4820-a859-d39be2c8c00b"
      },
      "source": [
        "df.head(10)"
      ],
      "execution_count": 86,
      "outputs": [
        {
          "output_type": "execute_result",
          "data": {
            "text/html": [
              "\n",
              "  <div id=\"df-018508c4-ef74-4001-bb9b-105039209282\">\n",
              "    <div class=\"colab-df-container\">\n",
              "      <div>\n",
              "<style scoped>\n",
              "    .dataframe tbody tr th:only-of-type {\n",
              "        vertical-align: middle;\n",
              "    }\n",
              "\n",
              "    .dataframe tbody tr th {\n",
              "        vertical-align: top;\n",
              "    }\n",
              "\n",
              "    .dataframe thead th {\n",
              "        text-align: right;\n",
              "    }\n",
              "</style>\n",
              "<table border=\"1\" class=\"dataframe\">\n",
              "  <thead>\n",
              "    <tr style=\"text-align: right;\">\n",
              "      <th></th>\n",
              "      <th>N</th>\n",
              "      <th>P</th>\n",
              "      <th>K</th>\n",
              "      <th>temperature</th>\n",
              "      <th>humidity</th>\n",
              "      <th>ph</th>\n",
              "      <th>rainfall</th>\n",
              "      <th>label</th>\n",
              "    </tr>\n",
              "  </thead>\n",
              "  <tbody>\n",
              "    <tr>\n",
              "      <th>0</th>\n",
              "      <td>90</td>\n",
              "      <td>42</td>\n",
              "      <td>43</td>\n",
              "      <td>20.879744</td>\n",
              "      <td>82.002744</td>\n",
              "      <td>6.502985</td>\n",
              "      <td>202.935536</td>\n",
              "      <td>rice</td>\n",
              "    </tr>\n",
              "    <tr>\n",
              "      <th>1</th>\n",
              "      <td>85</td>\n",
              "      <td>58</td>\n",
              "      <td>41</td>\n",
              "      <td>21.770462</td>\n",
              "      <td>80.319644</td>\n",
              "      <td>7.038096</td>\n",
              "      <td>226.655537</td>\n",
              "      <td>rice</td>\n",
              "    </tr>\n",
              "    <tr>\n",
              "      <th>2</th>\n",
              "      <td>60</td>\n",
              "      <td>55</td>\n",
              "      <td>44</td>\n",
              "      <td>23.004459</td>\n",
              "      <td>82.320763</td>\n",
              "      <td>7.840207</td>\n",
              "      <td>263.964248</td>\n",
              "      <td>rice</td>\n",
              "    </tr>\n",
              "    <tr>\n",
              "      <th>3</th>\n",
              "      <td>74</td>\n",
              "      <td>35</td>\n",
              "      <td>40</td>\n",
              "      <td>26.491096</td>\n",
              "      <td>80.158363</td>\n",
              "      <td>6.980401</td>\n",
              "      <td>242.864034</td>\n",
              "      <td>rice</td>\n",
              "    </tr>\n",
              "    <tr>\n",
              "      <th>4</th>\n",
              "      <td>78</td>\n",
              "      <td>42</td>\n",
              "      <td>42</td>\n",
              "      <td>20.130175</td>\n",
              "      <td>81.604873</td>\n",
              "      <td>7.628473</td>\n",
              "      <td>262.717340</td>\n",
              "      <td>rice</td>\n",
              "    </tr>\n",
              "    <tr>\n",
              "      <th>5</th>\n",
              "      <td>69</td>\n",
              "      <td>37</td>\n",
              "      <td>42</td>\n",
              "      <td>23.058049</td>\n",
              "      <td>83.370118</td>\n",
              "      <td>7.073454</td>\n",
              "      <td>251.055000</td>\n",
              "      <td>rice</td>\n",
              "    </tr>\n",
              "    <tr>\n",
              "      <th>6</th>\n",
              "      <td>69</td>\n",
              "      <td>55</td>\n",
              "      <td>38</td>\n",
              "      <td>22.708838</td>\n",
              "      <td>82.639414</td>\n",
              "      <td>5.700806</td>\n",
              "      <td>271.324860</td>\n",
              "      <td>rice</td>\n",
              "    </tr>\n",
              "    <tr>\n",
              "      <th>7</th>\n",
              "      <td>94</td>\n",
              "      <td>53</td>\n",
              "      <td>40</td>\n",
              "      <td>20.277744</td>\n",
              "      <td>82.894086</td>\n",
              "      <td>5.718627</td>\n",
              "      <td>241.974195</td>\n",
              "      <td>rice</td>\n",
              "    </tr>\n",
              "    <tr>\n",
              "      <th>8</th>\n",
              "      <td>89</td>\n",
              "      <td>54</td>\n",
              "      <td>38</td>\n",
              "      <td>24.515881</td>\n",
              "      <td>83.535216</td>\n",
              "      <td>6.685346</td>\n",
              "      <td>230.446236</td>\n",
              "      <td>rice</td>\n",
              "    </tr>\n",
              "    <tr>\n",
              "      <th>9</th>\n",
              "      <td>68</td>\n",
              "      <td>58</td>\n",
              "      <td>38</td>\n",
              "      <td>23.223974</td>\n",
              "      <td>83.033227</td>\n",
              "      <td>6.336254</td>\n",
              "      <td>221.209196</td>\n",
              "      <td>rice</td>\n",
              "    </tr>\n",
              "  </tbody>\n",
              "</table>\n",
              "</div>\n",
              "      <button class=\"colab-df-convert\" onclick=\"convertToInteractive('df-018508c4-ef74-4001-bb9b-105039209282')\"\n",
              "              title=\"Convert this dataframe to an interactive table.\"\n",
              "              style=\"display:none;\">\n",
              "        \n",
              "  <svg xmlns=\"http://www.w3.org/2000/svg\" height=\"24px\"viewBox=\"0 0 24 24\"\n",
              "       width=\"24px\">\n",
              "    <path d=\"M0 0h24v24H0V0z\" fill=\"none\"/>\n",
              "    <path d=\"M18.56 5.44l.94 2.06.94-2.06 2.06-.94-2.06-.94-.94-2.06-.94 2.06-2.06.94zm-11 1L8.5 8.5l.94-2.06 2.06-.94-2.06-.94L8.5 2.5l-.94 2.06-2.06.94zm10 10l.94 2.06.94-2.06 2.06-.94-2.06-.94-.94-2.06-.94 2.06-2.06.94z\"/><path d=\"M17.41 7.96l-1.37-1.37c-.4-.4-.92-.59-1.43-.59-.52 0-1.04.2-1.43.59L10.3 9.45l-7.72 7.72c-.78.78-.78 2.05 0 2.83L4 21.41c.39.39.9.59 1.41.59.51 0 1.02-.2 1.41-.59l7.78-7.78 2.81-2.81c.8-.78.8-2.07 0-2.86zM5.41 20L4 18.59l7.72-7.72 1.47 1.35L5.41 20z\"/>\n",
              "  </svg>\n",
              "      </button>\n",
              "      \n",
              "  <style>\n",
              "    .colab-df-container {\n",
              "      display:flex;\n",
              "      flex-wrap:wrap;\n",
              "      gap: 12px;\n",
              "    }\n",
              "\n",
              "    .colab-df-convert {\n",
              "      background-color: #E8F0FE;\n",
              "      border: none;\n",
              "      border-radius: 50%;\n",
              "      cursor: pointer;\n",
              "      display: none;\n",
              "      fill: #1967D2;\n",
              "      height: 32px;\n",
              "      padding: 0 0 0 0;\n",
              "      width: 32px;\n",
              "    }\n",
              "\n",
              "    .colab-df-convert:hover {\n",
              "      background-color: #E2EBFA;\n",
              "      box-shadow: 0px 1px 2px rgba(60, 64, 67, 0.3), 0px 1px 3px 1px rgba(60, 64, 67, 0.15);\n",
              "      fill: #174EA6;\n",
              "    }\n",
              "\n",
              "    [theme=dark] .colab-df-convert {\n",
              "      background-color: #3B4455;\n",
              "      fill: #D2E3FC;\n",
              "    }\n",
              "\n",
              "    [theme=dark] .colab-df-convert:hover {\n",
              "      background-color: #434B5C;\n",
              "      box-shadow: 0px 1px 3px 1px rgba(0, 0, 0, 0.15);\n",
              "      filter: drop-shadow(0px 1px 2px rgba(0, 0, 0, 0.3));\n",
              "      fill: #FFFFFF;\n",
              "    }\n",
              "  </style>\n",
              "\n",
              "      <script>\n",
              "        const buttonEl =\n",
              "          document.querySelector('#df-018508c4-ef74-4001-bb9b-105039209282 button.colab-df-convert');\n",
              "        buttonEl.style.display =\n",
              "          google.colab.kernel.accessAllowed ? 'block' : 'none';\n",
              "\n",
              "        async function convertToInteractive(key) {\n",
              "          const element = document.querySelector('#df-018508c4-ef74-4001-bb9b-105039209282');\n",
              "          const dataTable =\n",
              "            await google.colab.kernel.invokeFunction('convertToInteractive',\n",
              "                                                     [key], {});\n",
              "          if (!dataTable) return;\n",
              "\n",
              "          const docLinkHtml = 'Like what you see? Visit the ' +\n",
              "            '<a target=\"_blank\" href=https://colab.research.google.com/notebooks/data_table.ipynb>data table notebook</a>'\n",
              "            + ' to learn more about interactive tables.';\n",
              "          element.innerHTML = '';\n",
              "          dataTable['output_type'] = 'display_data';\n",
              "          await google.colab.output.renderOutput(dataTable, element);\n",
              "          const docLink = document.createElement('div');\n",
              "          docLink.innerHTML = docLinkHtml;\n",
              "          element.appendChild(docLink);\n",
              "        }\n",
              "      </script>\n",
              "    </div>\n",
              "  </div>\n",
              "  "
            ],
            "text/plain": [
              "    N   P   K  temperature   humidity        ph    rainfall label\n",
              "0  90  42  43    20.879744  82.002744  6.502985  202.935536  rice\n",
              "1  85  58  41    21.770462  80.319644  7.038096  226.655537  rice\n",
              "2  60  55  44    23.004459  82.320763  7.840207  263.964248  rice\n",
              "3  74  35  40    26.491096  80.158363  6.980401  242.864034  rice\n",
              "4  78  42  42    20.130175  81.604873  7.628473  262.717340  rice\n",
              "5  69  37  42    23.058049  83.370118  7.073454  251.055000  rice\n",
              "6  69  55  38    22.708838  82.639414  5.700806  271.324860  rice\n",
              "7  94  53  40    20.277744  82.894086  5.718627  241.974195  rice\n",
              "8  89  54  38    24.515881  83.535216  6.685346  230.446236  rice\n",
              "9  68  58  38    23.223974  83.033227  6.336254  221.209196  rice"
            ]
          },
          "metadata": {},
          "execution_count": 86
        }
      ]
    },
    {
      "cell_type": "markdown",
      "metadata": {
        "id": "oH8RDBWQFvuw"
      },
      "source": [
        "tail() prints the last 5 rows in dataset."
      ]
    },
    {
      "cell_type": "code",
      "metadata": {
        "colab": {
          "base_uri": "https://localhost:8080/",
          "height": 206
        },
        "id": "xr5pNlRLnIxK",
        "outputId": "3a6d494f-e7fa-4910-ad07-88a842fe55a6"
      },
      "source": [
        "df.tail()"
      ],
      "execution_count": 87,
      "outputs": [
        {
          "output_type": "execute_result",
          "data": {
            "text/html": [
              "\n",
              "  <div id=\"df-e4fe7267-588b-4532-aa01-24828822f2f0\">\n",
              "    <div class=\"colab-df-container\">\n",
              "      <div>\n",
              "<style scoped>\n",
              "    .dataframe tbody tr th:only-of-type {\n",
              "        vertical-align: middle;\n",
              "    }\n",
              "\n",
              "    .dataframe tbody tr th {\n",
              "        vertical-align: top;\n",
              "    }\n",
              "\n",
              "    .dataframe thead th {\n",
              "        text-align: right;\n",
              "    }\n",
              "</style>\n",
              "<table border=\"1\" class=\"dataframe\">\n",
              "  <thead>\n",
              "    <tr style=\"text-align: right;\">\n",
              "      <th></th>\n",
              "      <th>N</th>\n",
              "      <th>P</th>\n",
              "      <th>K</th>\n",
              "      <th>temperature</th>\n",
              "      <th>humidity</th>\n",
              "      <th>ph</th>\n",
              "      <th>rainfall</th>\n",
              "      <th>label</th>\n",
              "    </tr>\n",
              "  </thead>\n",
              "  <tbody>\n",
              "    <tr>\n",
              "      <th>2195</th>\n",
              "      <td>107</td>\n",
              "      <td>34</td>\n",
              "      <td>32</td>\n",
              "      <td>26.774637</td>\n",
              "      <td>66.413269</td>\n",
              "      <td>6.780064</td>\n",
              "      <td>177.774507</td>\n",
              "      <td>coffee</td>\n",
              "    </tr>\n",
              "    <tr>\n",
              "      <th>2196</th>\n",
              "      <td>99</td>\n",
              "      <td>15</td>\n",
              "      <td>27</td>\n",
              "      <td>27.417112</td>\n",
              "      <td>56.636362</td>\n",
              "      <td>6.086922</td>\n",
              "      <td>127.924610</td>\n",
              "      <td>coffee</td>\n",
              "    </tr>\n",
              "    <tr>\n",
              "      <th>2197</th>\n",
              "      <td>118</td>\n",
              "      <td>33</td>\n",
              "      <td>30</td>\n",
              "      <td>24.131797</td>\n",
              "      <td>67.225123</td>\n",
              "      <td>6.362608</td>\n",
              "      <td>173.322839</td>\n",
              "      <td>coffee</td>\n",
              "    </tr>\n",
              "    <tr>\n",
              "      <th>2198</th>\n",
              "      <td>117</td>\n",
              "      <td>32</td>\n",
              "      <td>34</td>\n",
              "      <td>26.272418</td>\n",
              "      <td>52.127394</td>\n",
              "      <td>6.758793</td>\n",
              "      <td>127.175293</td>\n",
              "      <td>coffee</td>\n",
              "    </tr>\n",
              "    <tr>\n",
              "      <th>2199</th>\n",
              "      <td>104</td>\n",
              "      <td>18</td>\n",
              "      <td>30</td>\n",
              "      <td>23.603016</td>\n",
              "      <td>60.396475</td>\n",
              "      <td>6.779833</td>\n",
              "      <td>140.937041</td>\n",
              "      <td>coffee</td>\n",
              "    </tr>\n",
              "  </tbody>\n",
              "</table>\n",
              "</div>\n",
              "      <button class=\"colab-df-convert\" onclick=\"convertToInteractive('df-e4fe7267-588b-4532-aa01-24828822f2f0')\"\n",
              "              title=\"Convert this dataframe to an interactive table.\"\n",
              "              style=\"display:none;\">\n",
              "        \n",
              "  <svg xmlns=\"http://www.w3.org/2000/svg\" height=\"24px\"viewBox=\"0 0 24 24\"\n",
              "       width=\"24px\">\n",
              "    <path d=\"M0 0h24v24H0V0z\" fill=\"none\"/>\n",
              "    <path d=\"M18.56 5.44l.94 2.06.94-2.06 2.06-.94-2.06-.94-.94-2.06-.94 2.06-2.06.94zm-11 1L8.5 8.5l.94-2.06 2.06-.94-2.06-.94L8.5 2.5l-.94 2.06-2.06.94zm10 10l.94 2.06.94-2.06 2.06-.94-2.06-.94-.94-2.06-.94 2.06-2.06.94z\"/><path d=\"M17.41 7.96l-1.37-1.37c-.4-.4-.92-.59-1.43-.59-.52 0-1.04.2-1.43.59L10.3 9.45l-7.72 7.72c-.78.78-.78 2.05 0 2.83L4 21.41c.39.39.9.59 1.41.59.51 0 1.02-.2 1.41-.59l7.78-7.78 2.81-2.81c.8-.78.8-2.07 0-2.86zM5.41 20L4 18.59l7.72-7.72 1.47 1.35L5.41 20z\"/>\n",
              "  </svg>\n",
              "      </button>\n",
              "      \n",
              "  <style>\n",
              "    .colab-df-container {\n",
              "      display:flex;\n",
              "      flex-wrap:wrap;\n",
              "      gap: 12px;\n",
              "    }\n",
              "\n",
              "    .colab-df-convert {\n",
              "      background-color: #E8F0FE;\n",
              "      border: none;\n",
              "      border-radius: 50%;\n",
              "      cursor: pointer;\n",
              "      display: none;\n",
              "      fill: #1967D2;\n",
              "      height: 32px;\n",
              "      padding: 0 0 0 0;\n",
              "      width: 32px;\n",
              "    }\n",
              "\n",
              "    .colab-df-convert:hover {\n",
              "      background-color: #E2EBFA;\n",
              "      box-shadow: 0px 1px 2px rgba(60, 64, 67, 0.3), 0px 1px 3px 1px rgba(60, 64, 67, 0.15);\n",
              "      fill: #174EA6;\n",
              "    }\n",
              "\n",
              "    [theme=dark] .colab-df-convert {\n",
              "      background-color: #3B4455;\n",
              "      fill: #D2E3FC;\n",
              "    }\n",
              "\n",
              "    [theme=dark] .colab-df-convert:hover {\n",
              "      background-color: #434B5C;\n",
              "      box-shadow: 0px 1px 3px 1px rgba(0, 0, 0, 0.15);\n",
              "      filter: drop-shadow(0px 1px 2px rgba(0, 0, 0, 0.3));\n",
              "      fill: #FFFFFF;\n",
              "    }\n",
              "  </style>\n",
              "\n",
              "      <script>\n",
              "        const buttonEl =\n",
              "          document.querySelector('#df-e4fe7267-588b-4532-aa01-24828822f2f0 button.colab-df-convert');\n",
              "        buttonEl.style.display =\n",
              "          google.colab.kernel.accessAllowed ? 'block' : 'none';\n",
              "\n",
              "        async function convertToInteractive(key) {\n",
              "          const element = document.querySelector('#df-e4fe7267-588b-4532-aa01-24828822f2f0');\n",
              "          const dataTable =\n",
              "            await google.colab.kernel.invokeFunction('convertToInteractive',\n",
              "                                                     [key], {});\n",
              "          if (!dataTable) return;\n",
              "\n",
              "          const docLinkHtml = 'Like what you see? Visit the ' +\n",
              "            '<a target=\"_blank\" href=https://colab.research.google.com/notebooks/data_table.ipynb>data table notebook</a>'\n",
              "            + ' to learn more about interactive tables.';\n",
              "          element.innerHTML = '';\n",
              "          dataTable['output_type'] = 'display_data';\n",
              "          await google.colab.output.renderOutput(dataTable, element);\n",
              "          const docLink = document.createElement('div');\n",
              "          docLink.innerHTML = docLinkHtml;\n",
              "          element.appendChild(docLink);\n",
              "        }\n",
              "      </script>\n",
              "    </div>\n",
              "  </div>\n",
              "  "
            ],
            "text/plain": [
              "        N   P   K  temperature   humidity        ph    rainfall   label\n",
              "2195  107  34  32    26.774637  66.413269  6.780064  177.774507  coffee\n",
              "2196   99  15  27    27.417112  56.636362  6.086922  127.924610  coffee\n",
              "2197  118  33  30    24.131797  67.225123  6.362608  173.322839  coffee\n",
              "2198  117  32  34    26.272418  52.127394  6.758793  127.175293  coffee\n",
              "2199  104  18  30    23.603016  60.396475  6.779833  140.937041  coffee"
            ]
          },
          "metadata": {},
          "execution_count": 87
        }
      ]
    },
    {
      "cell_type": "markdown",
      "metadata": {
        "id": "OFOKVIXoF0qY"
      },
      "source": [
        "tail(x) prints the given number of ending rows in dataset.\n",
        "here, x = 10. "
      ]
    },
    {
      "cell_type": "code",
      "metadata": {
        "colab": {
          "base_uri": "https://localhost:8080/",
          "height": 363
        },
        "id": "iwtMhaIFnYhb",
        "outputId": "732d1aa3-dd5b-4978-a028-357b7cc92e04"
      },
      "source": [
        "df.tail(10)"
      ],
      "execution_count": 88,
      "outputs": [
        {
          "output_type": "execute_result",
          "data": {
            "text/html": [
              "\n",
              "  <div id=\"df-5b1e4fd4-3ccf-479a-b790-a6c8473946e7\">\n",
              "    <div class=\"colab-df-container\">\n",
              "      <div>\n",
              "<style scoped>\n",
              "    .dataframe tbody tr th:only-of-type {\n",
              "        vertical-align: middle;\n",
              "    }\n",
              "\n",
              "    .dataframe tbody tr th {\n",
              "        vertical-align: top;\n",
              "    }\n",
              "\n",
              "    .dataframe thead th {\n",
              "        text-align: right;\n",
              "    }\n",
              "</style>\n",
              "<table border=\"1\" class=\"dataframe\">\n",
              "  <thead>\n",
              "    <tr style=\"text-align: right;\">\n",
              "      <th></th>\n",
              "      <th>N</th>\n",
              "      <th>P</th>\n",
              "      <th>K</th>\n",
              "      <th>temperature</th>\n",
              "      <th>humidity</th>\n",
              "      <th>ph</th>\n",
              "      <th>rainfall</th>\n",
              "      <th>label</th>\n",
              "    </tr>\n",
              "  </thead>\n",
              "  <tbody>\n",
              "    <tr>\n",
              "      <th>2190</th>\n",
              "      <td>103</td>\n",
              "      <td>40</td>\n",
              "      <td>30</td>\n",
              "      <td>27.309018</td>\n",
              "      <td>55.196224</td>\n",
              "      <td>6.348316</td>\n",
              "      <td>141.483164</td>\n",
              "      <td>coffee</td>\n",
              "    </tr>\n",
              "    <tr>\n",
              "      <th>2191</th>\n",
              "      <td>118</td>\n",
              "      <td>31</td>\n",
              "      <td>34</td>\n",
              "      <td>27.548230</td>\n",
              "      <td>62.881792</td>\n",
              "      <td>6.123796</td>\n",
              "      <td>181.417081</td>\n",
              "      <td>coffee</td>\n",
              "    </tr>\n",
              "    <tr>\n",
              "      <th>2192</th>\n",
              "      <td>106</td>\n",
              "      <td>21</td>\n",
              "      <td>35</td>\n",
              "      <td>25.627355</td>\n",
              "      <td>57.041511</td>\n",
              "      <td>7.428524</td>\n",
              "      <td>188.550654</td>\n",
              "      <td>coffee</td>\n",
              "    </tr>\n",
              "    <tr>\n",
              "      <th>2193</th>\n",
              "      <td>116</td>\n",
              "      <td>38</td>\n",
              "      <td>34</td>\n",
              "      <td>23.292503</td>\n",
              "      <td>50.045570</td>\n",
              "      <td>6.020947</td>\n",
              "      <td>183.468585</td>\n",
              "      <td>coffee</td>\n",
              "    </tr>\n",
              "    <tr>\n",
              "      <th>2194</th>\n",
              "      <td>97</td>\n",
              "      <td>35</td>\n",
              "      <td>26</td>\n",
              "      <td>24.914610</td>\n",
              "      <td>53.741447</td>\n",
              "      <td>6.334610</td>\n",
              "      <td>166.254931</td>\n",
              "      <td>coffee</td>\n",
              "    </tr>\n",
              "    <tr>\n",
              "      <th>2195</th>\n",
              "      <td>107</td>\n",
              "      <td>34</td>\n",
              "      <td>32</td>\n",
              "      <td>26.774637</td>\n",
              "      <td>66.413269</td>\n",
              "      <td>6.780064</td>\n",
              "      <td>177.774507</td>\n",
              "      <td>coffee</td>\n",
              "    </tr>\n",
              "    <tr>\n",
              "      <th>2196</th>\n",
              "      <td>99</td>\n",
              "      <td>15</td>\n",
              "      <td>27</td>\n",
              "      <td>27.417112</td>\n",
              "      <td>56.636362</td>\n",
              "      <td>6.086922</td>\n",
              "      <td>127.924610</td>\n",
              "      <td>coffee</td>\n",
              "    </tr>\n",
              "    <tr>\n",
              "      <th>2197</th>\n",
              "      <td>118</td>\n",
              "      <td>33</td>\n",
              "      <td>30</td>\n",
              "      <td>24.131797</td>\n",
              "      <td>67.225123</td>\n",
              "      <td>6.362608</td>\n",
              "      <td>173.322839</td>\n",
              "      <td>coffee</td>\n",
              "    </tr>\n",
              "    <tr>\n",
              "      <th>2198</th>\n",
              "      <td>117</td>\n",
              "      <td>32</td>\n",
              "      <td>34</td>\n",
              "      <td>26.272418</td>\n",
              "      <td>52.127394</td>\n",
              "      <td>6.758793</td>\n",
              "      <td>127.175293</td>\n",
              "      <td>coffee</td>\n",
              "    </tr>\n",
              "    <tr>\n",
              "      <th>2199</th>\n",
              "      <td>104</td>\n",
              "      <td>18</td>\n",
              "      <td>30</td>\n",
              "      <td>23.603016</td>\n",
              "      <td>60.396475</td>\n",
              "      <td>6.779833</td>\n",
              "      <td>140.937041</td>\n",
              "      <td>coffee</td>\n",
              "    </tr>\n",
              "  </tbody>\n",
              "</table>\n",
              "</div>\n",
              "      <button class=\"colab-df-convert\" onclick=\"convertToInteractive('df-5b1e4fd4-3ccf-479a-b790-a6c8473946e7')\"\n",
              "              title=\"Convert this dataframe to an interactive table.\"\n",
              "              style=\"display:none;\">\n",
              "        \n",
              "  <svg xmlns=\"http://www.w3.org/2000/svg\" height=\"24px\"viewBox=\"0 0 24 24\"\n",
              "       width=\"24px\">\n",
              "    <path d=\"M0 0h24v24H0V0z\" fill=\"none\"/>\n",
              "    <path d=\"M18.56 5.44l.94 2.06.94-2.06 2.06-.94-2.06-.94-.94-2.06-.94 2.06-2.06.94zm-11 1L8.5 8.5l.94-2.06 2.06-.94-2.06-.94L8.5 2.5l-.94 2.06-2.06.94zm10 10l.94 2.06.94-2.06 2.06-.94-2.06-.94-.94-2.06-.94 2.06-2.06.94z\"/><path d=\"M17.41 7.96l-1.37-1.37c-.4-.4-.92-.59-1.43-.59-.52 0-1.04.2-1.43.59L10.3 9.45l-7.72 7.72c-.78.78-.78 2.05 0 2.83L4 21.41c.39.39.9.59 1.41.59.51 0 1.02-.2 1.41-.59l7.78-7.78 2.81-2.81c.8-.78.8-2.07 0-2.86zM5.41 20L4 18.59l7.72-7.72 1.47 1.35L5.41 20z\"/>\n",
              "  </svg>\n",
              "      </button>\n",
              "      \n",
              "  <style>\n",
              "    .colab-df-container {\n",
              "      display:flex;\n",
              "      flex-wrap:wrap;\n",
              "      gap: 12px;\n",
              "    }\n",
              "\n",
              "    .colab-df-convert {\n",
              "      background-color: #E8F0FE;\n",
              "      border: none;\n",
              "      border-radius: 50%;\n",
              "      cursor: pointer;\n",
              "      display: none;\n",
              "      fill: #1967D2;\n",
              "      height: 32px;\n",
              "      padding: 0 0 0 0;\n",
              "      width: 32px;\n",
              "    }\n",
              "\n",
              "    .colab-df-convert:hover {\n",
              "      background-color: #E2EBFA;\n",
              "      box-shadow: 0px 1px 2px rgba(60, 64, 67, 0.3), 0px 1px 3px 1px rgba(60, 64, 67, 0.15);\n",
              "      fill: #174EA6;\n",
              "    }\n",
              "\n",
              "    [theme=dark] .colab-df-convert {\n",
              "      background-color: #3B4455;\n",
              "      fill: #D2E3FC;\n",
              "    }\n",
              "\n",
              "    [theme=dark] .colab-df-convert:hover {\n",
              "      background-color: #434B5C;\n",
              "      box-shadow: 0px 1px 3px 1px rgba(0, 0, 0, 0.15);\n",
              "      filter: drop-shadow(0px 1px 2px rgba(0, 0, 0, 0.3));\n",
              "      fill: #FFFFFF;\n",
              "    }\n",
              "  </style>\n",
              "\n",
              "      <script>\n",
              "        const buttonEl =\n",
              "          document.querySelector('#df-5b1e4fd4-3ccf-479a-b790-a6c8473946e7 button.colab-df-convert');\n",
              "        buttonEl.style.display =\n",
              "          google.colab.kernel.accessAllowed ? 'block' : 'none';\n",
              "\n",
              "        async function convertToInteractive(key) {\n",
              "          const element = document.querySelector('#df-5b1e4fd4-3ccf-479a-b790-a6c8473946e7');\n",
              "          const dataTable =\n",
              "            await google.colab.kernel.invokeFunction('convertToInteractive',\n",
              "                                                     [key], {});\n",
              "          if (!dataTable) return;\n",
              "\n",
              "          const docLinkHtml = 'Like what you see? Visit the ' +\n",
              "            '<a target=\"_blank\" href=https://colab.research.google.com/notebooks/data_table.ipynb>data table notebook</a>'\n",
              "            + ' to learn more about interactive tables.';\n",
              "          element.innerHTML = '';\n",
              "          dataTable['output_type'] = 'display_data';\n",
              "          await google.colab.output.renderOutput(dataTable, element);\n",
              "          const docLink = document.createElement('div');\n",
              "          docLink.innerHTML = docLinkHtml;\n",
              "          element.appendChild(docLink);\n",
              "        }\n",
              "      </script>\n",
              "    </div>\n",
              "  </div>\n",
              "  "
            ],
            "text/plain": [
              "        N   P   K  temperature   humidity        ph    rainfall   label\n",
              "2190  103  40  30    27.309018  55.196224  6.348316  141.483164  coffee\n",
              "2191  118  31  34    27.548230  62.881792  6.123796  181.417081  coffee\n",
              "2192  106  21  35    25.627355  57.041511  7.428524  188.550654  coffee\n",
              "2193  116  38  34    23.292503  50.045570  6.020947  183.468585  coffee\n",
              "2194   97  35  26    24.914610  53.741447  6.334610  166.254931  coffee\n",
              "2195  107  34  32    26.774637  66.413269  6.780064  177.774507  coffee\n",
              "2196   99  15  27    27.417112  56.636362  6.086922  127.924610  coffee\n",
              "2197  118  33  30    24.131797  67.225123  6.362608  173.322839  coffee\n",
              "2198  117  32  34    26.272418  52.127394  6.758793  127.175293  coffee\n",
              "2199  104  18  30    23.603016  60.396475  6.779833  140.937041  coffee"
            ]
          },
          "metadata": {},
          "execution_count": 88
        }
      ]
    },
    {
      "cell_type": "code",
      "metadata": {
        "colab": {
          "base_uri": "https://localhost:8080/"
        },
        "id": "Kh8B452zqOJz",
        "outputId": "2efe337c-9ddb-4545-e901-e08b0c0d4e08"
      },
      "source": [
        "#prints data type of each Attribute.\n",
        "df.dtypes"
      ],
      "execution_count": 89,
      "outputs": [
        {
          "output_type": "execute_result",
          "data": {
            "text/plain": [
              "N                int64\n",
              "P                int64\n",
              "K                int64\n",
              "temperature    float64\n",
              "humidity       float64\n",
              "ph             float64\n",
              "rainfall       float64\n",
              "label           object\n",
              "dtype: object"
            ]
          },
          "metadata": {},
          "execution_count": 89
        }
      ]
    },
    {
      "cell_type": "code",
      "metadata": {
        "colab": {
          "base_uri": "https://localhost:8080/"
        },
        "id": "sXEKOiqNoRwS",
        "outputId": "6c6e2937-a545-4db2-de1d-ad42d0eec0e7"
      },
      "source": [
        "#prints the size of dataframe which is equivalent to total number of elements. That is rows x columns.\n",
        "df.size"
      ],
      "execution_count": 90,
      "outputs": [
        {
          "output_type": "execute_result",
          "data": {
            "text/plain": [
              "17600"
            ]
          },
          "metadata": {},
          "execution_count": 90
        }
      ]
    },
    {
      "cell_type": "code",
      "metadata": {
        "colab": {
          "base_uri": "https://localhost:8080/"
        },
        "id": "y474ScS5o9jR",
        "outputId": "d6df6f2f-4f2e-4687-d8e8-d8e14e30c242"
      },
      "source": [
        "#prints the tuple of shape (Rows, columns) of dataframe.\n",
        "df.shape"
      ],
      "execution_count": 91,
      "outputs": [
        {
          "output_type": "execute_result",
          "data": {
            "text/plain": [
              "(2200, 8)"
            ]
          },
          "metadata": {},
          "execution_count": 91
        }
      ]
    },
    {
      "cell_type": "code",
      "metadata": {
        "colab": {
          "base_uri": "https://localhost:8080/"
        },
        "id": "9pU58MiwpH2Z",
        "outputId": "8dcb2138-4c9c-4f3b-e6af-41e5d033a410"
      },
      "source": [
        "#prints the dimension of dataframe.\n",
        "#1 - 1 dimesnion ; 2 - 2 dimension \n",
        "df.ndim"
      ],
      "execution_count": 92,
      "outputs": [
        {
          "output_type": "execute_result",
          "data": {
            "text/plain": [
              "2"
            ]
          },
          "metadata": {},
          "execution_count": 92
        }
      ]
    },
    {
      "cell_type": "code",
      "metadata": {
        "colab": {
          "base_uri": "https://localhost:8080/"
        },
        "id": "M4YQisa2AFsT",
        "outputId": "88ec99a3-8767-4b77-ed2d-145add252e26"
      },
      "source": [
        "df.isnull().sum()"
      ],
      "execution_count": 93,
      "outputs": [
        {
          "output_type": "execute_result",
          "data": {
            "text/plain": [
              "N              0\n",
              "P              0\n",
              "K              0\n",
              "temperature    0\n",
              "humidity       0\n",
              "ph             0\n",
              "rainfall       0\n",
              "label          0\n",
              "dtype: int64"
            ]
          },
          "metadata": {},
          "execution_count": 93
        }
      ]
    },
    {
      "cell_type": "code",
      "metadata": {
        "colab": {
          "base_uri": "https://localhost:8080/"
        },
        "id": "t_CyluFyut1L",
        "outputId": "5ba4a2e3-a136-4347-ce40-e35ff107fd85"
      },
      "source": [
        "df.iloc[0]"
      ],
      "execution_count": 94,
      "outputs": [
        {
          "output_type": "execute_result",
          "data": {
            "text/plain": [
              "N                   90\n",
              "P                   42\n",
              "K                   43\n",
              "temperature    20.8797\n",
              "humidity       82.0027\n",
              "ph             6.50299\n",
              "rainfall       202.936\n",
              "label             rice\n",
              "Name: 0, dtype: object"
            ]
          },
          "metadata": {},
          "execution_count": 94
        }
      ]
    },
    {
      "cell_type": "code",
      "metadata": {
        "colab": {
          "base_uri": "https://localhost:8080/"
        },
        "id": "oBkmEE6vvVL5",
        "outputId": "fb77c2d5-4985-4c84-811f-22ad713c05ed"
      },
      "source": [
        "df.iloc[-1]"
      ],
      "execution_count": 95,
      "outputs": [
        {
          "output_type": "execute_result",
          "data": {
            "text/plain": [
              "N                  104\n",
              "P                   18\n",
              "K                   30\n",
              "temperature     23.603\n",
              "humidity       60.3965\n",
              "ph             6.77983\n",
              "rainfall       140.937\n",
              "label           coffee\n",
              "Name: 2199, dtype: object"
            ]
          },
          "metadata": {},
          "execution_count": 95
        }
      ]
    },
    {
      "cell_type": "code",
      "metadata": {
        "colab": {
          "base_uri": "https://localhost:8080/",
          "height": 143
        },
        "id": "NpRcVJSYv9np",
        "outputId": "67b9a3b3-a5b5-45f9-a76d-9d30fcb3d085"
      },
      "source": [
        "df.iloc[[0,3,6,],[0,5,6]]\n"
      ],
      "execution_count": 96,
      "outputs": [
        {
          "output_type": "execute_result",
          "data": {
            "text/html": [
              "\n",
              "  <div id=\"df-b5caa9a5-8cb0-431b-af07-251684f1c737\">\n",
              "    <div class=\"colab-df-container\">\n",
              "      <div>\n",
              "<style scoped>\n",
              "    .dataframe tbody tr th:only-of-type {\n",
              "        vertical-align: middle;\n",
              "    }\n",
              "\n",
              "    .dataframe tbody tr th {\n",
              "        vertical-align: top;\n",
              "    }\n",
              "\n",
              "    .dataframe thead th {\n",
              "        text-align: right;\n",
              "    }\n",
              "</style>\n",
              "<table border=\"1\" class=\"dataframe\">\n",
              "  <thead>\n",
              "    <tr style=\"text-align: right;\">\n",
              "      <th></th>\n",
              "      <th>N</th>\n",
              "      <th>ph</th>\n",
              "      <th>rainfall</th>\n",
              "    </tr>\n",
              "  </thead>\n",
              "  <tbody>\n",
              "    <tr>\n",
              "      <th>0</th>\n",
              "      <td>90</td>\n",
              "      <td>6.502985</td>\n",
              "      <td>202.935536</td>\n",
              "    </tr>\n",
              "    <tr>\n",
              "      <th>3</th>\n",
              "      <td>74</td>\n",
              "      <td>6.980401</td>\n",
              "      <td>242.864034</td>\n",
              "    </tr>\n",
              "    <tr>\n",
              "      <th>6</th>\n",
              "      <td>69</td>\n",
              "      <td>5.700806</td>\n",
              "      <td>271.324860</td>\n",
              "    </tr>\n",
              "  </tbody>\n",
              "</table>\n",
              "</div>\n",
              "      <button class=\"colab-df-convert\" onclick=\"convertToInteractive('df-b5caa9a5-8cb0-431b-af07-251684f1c737')\"\n",
              "              title=\"Convert this dataframe to an interactive table.\"\n",
              "              style=\"display:none;\">\n",
              "        \n",
              "  <svg xmlns=\"http://www.w3.org/2000/svg\" height=\"24px\"viewBox=\"0 0 24 24\"\n",
              "       width=\"24px\">\n",
              "    <path d=\"M0 0h24v24H0V0z\" fill=\"none\"/>\n",
              "    <path d=\"M18.56 5.44l.94 2.06.94-2.06 2.06-.94-2.06-.94-.94-2.06-.94 2.06-2.06.94zm-11 1L8.5 8.5l.94-2.06 2.06-.94-2.06-.94L8.5 2.5l-.94 2.06-2.06.94zm10 10l.94 2.06.94-2.06 2.06-.94-2.06-.94-.94-2.06-.94 2.06-2.06.94z\"/><path d=\"M17.41 7.96l-1.37-1.37c-.4-.4-.92-.59-1.43-.59-.52 0-1.04.2-1.43.59L10.3 9.45l-7.72 7.72c-.78.78-.78 2.05 0 2.83L4 21.41c.39.39.9.59 1.41.59.51 0 1.02-.2 1.41-.59l7.78-7.78 2.81-2.81c.8-.78.8-2.07 0-2.86zM5.41 20L4 18.59l7.72-7.72 1.47 1.35L5.41 20z\"/>\n",
              "  </svg>\n",
              "      </button>\n",
              "      \n",
              "  <style>\n",
              "    .colab-df-container {\n",
              "      display:flex;\n",
              "      flex-wrap:wrap;\n",
              "      gap: 12px;\n",
              "    }\n",
              "\n",
              "    .colab-df-convert {\n",
              "      background-color: #E8F0FE;\n",
              "      border: none;\n",
              "      border-radius: 50%;\n",
              "      cursor: pointer;\n",
              "      display: none;\n",
              "      fill: #1967D2;\n",
              "      height: 32px;\n",
              "      padding: 0 0 0 0;\n",
              "      width: 32px;\n",
              "    }\n",
              "\n",
              "    .colab-df-convert:hover {\n",
              "      background-color: #E2EBFA;\n",
              "      box-shadow: 0px 1px 2px rgba(60, 64, 67, 0.3), 0px 1px 3px 1px rgba(60, 64, 67, 0.15);\n",
              "      fill: #174EA6;\n",
              "    }\n",
              "\n",
              "    [theme=dark] .colab-df-convert {\n",
              "      background-color: #3B4455;\n",
              "      fill: #D2E3FC;\n",
              "    }\n",
              "\n",
              "    [theme=dark] .colab-df-convert:hover {\n",
              "      background-color: #434B5C;\n",
              "      box-shadow: 0px 1px 3px 1px rgba(0, 0, 0, 0.15);\n",
              "      filter: drop-shadow(0px 1px 2px rgba(0, 0, 0, 0.3));\n",
              "      fill: #FFFFFF;\n",
              "    }\n",
              "  </style>\n",
              "\n",
              "      <script>\n",
              "        const buttonEl =\n",
              "          document.querySelector('#df-b5caa9a5-8cb0-431b-af07-251684f1c737 button.colab-df-convert');\n",
              "        buttonEl.style.display =\n",
              "          google.colab.kernel.accessAllowed ? 'block' : 'none';\n",
              "\n",
              "        async function convertToInteractive(key) {\n",
              "          const element = document.querySelector('#df-b5caa9a5-8cb0-431b-af07-251684f1c737');\n",
              "          const dataTable =\n",
              "            await google.colab.kernel.invokeFunction('convertToInteractive',\n",
              "                                                     [key], {});\n",
              "          if (!dataTable) return;\n",
              "\n",
              "          const docLinkHtml = 'Like what you see? Visit the ' +\n",
              "            '<a target=\"_blank\" href=https://colab.research.google.com/notebooks/data_table.ipynb>data table notebook</a>'\n",
              "            + ' to learn more about interactive tables.';\n",
              "          element.innerHTML = '';\n",
              "          dataTable['output_type'] = 'display_data';\n",
              "          await google.colab.output.renderOutput(dataTable, element);\n",
              "          const docLink = document.createElement('div');\n",
              "          docLink.innerHTML = docLinkHtml;\n",
              "          element.appendChild(docLink);\n",
              "        }\n",
              "      </script>\n",
              "    </div>\n",
              "  </div>\n",
              "  "
            ],
            "text/plain": [
              "    N        ph    rainfall\n",
              "0  90  6.502985  202.935536\n",
              "3  74  6.980401  242.864034\n",
              "6  69  5.700806  271.324860"
            ]
          },
          "metadata": {},
          "execution_count": 96
        }
      ]
    },
    {
      "cell_type": "code",
      "metadata": {
        "colab": {
          "base_uri": "https://localhost:8080/",
          "height": 206
        },
        "id": "VP5egGnn0KoV",
        "outputId": "38435592-6829-4a3d-9498-f834034b3cec"
      },
      "source": [
        "df.iloc[0:5,3:7]"
      ],
      "execution_count": 97,
      "outputs": [
        {
          "output_type": "execute_result",
          "data": {
            "text/html": [
              "\n",
              "  <div id=\"df-91bcbde9-ebd4-4573-aed0-ce0f98e10360\">\n",
              "    <div class=\"colab-df-container\">\n",
              "      <div>\n",
              "<style scoped>\n",
              "    .dataframe tbody tr th:only-of-type {\n",
              "        vertical-align: middle;\n",
              "    }\n",
              "\n",
              "    .dataframe tbody tr th {\n",
              "        vertical-align: top;\n",
              "    }\n",
              "\n",
              "    .dataframe thead th {\n",
              "        text-align: right;\n",
              "    }\n",
              "</style>\n",
              "<table border=\"1\" class=\"dataframe\">\n",
              "  <thead>\n",
              "    <tr style=\"text-align: right;\">\n",
              "      <th></th>\n",
              "      <th>temperature</th>\n",
              "      <th>humidity</th>\n",
              "      <th>ph</th>\n",
              "      <th>rainfall</th>\n",
              "    </tr>\n",
              "  </thead>\n",
              "  <tbody>\n",
              "    <tr>\n",
              "      <th>0</th>\n",
              "      <td>20.879744</td>\n",
              "      <td>82.002744</td>\n",
              "      <td>6.502985</td>\n",
              "      <td>202.935536</td>\n",
              "    </tr>\n",
              "    <tr>\n",
              "      <th>1</th>\n",
              "      <td>21.770462</td>\n",
              "      <td>80.319644</td>\n",
              "      <td>7.038096</td>\n",
              "      <td>226.655537</td>\n",
              "    </tr>\n",
              "    <tr>\n",
              "      <th>2</th>\n",
              "      <td>23.004459</td>\n",
              "      <td>82.320763</td>\n",
              "      <td>7.840207</td>\n",
              "      <td>263.964248</td>\n",
              "    </tr>\n",
              "    <tr>\n",
              "      <th>3</th>\n",
              "      <td>26.491096</td>\n",
              "      <td>80.158363</td>\n",
              "      <td>6.980401</td>\n",
              "      <td>242.864034</td>\n",
              "    </tr>\n",
              "    <tr>\n",
              "      <th>4</th>\n",
              "      <td>20.130175</td>\n",
              "      <td>81.604873</td>\n",
              "      <td>7.628473</td>\n",
              "      <td>262.717340</td>\n",
              "    </tr>\n",
              "  </tbody>\n",
              "</table>\n",
              "</div>\n",
              "      <button class=\"colab-df-convert\" onclick=\"convertToInteractive('df-91bcbde9-ebd4-4573-aed0-ce0f98e10360')\"\n",
              "              title=\"Convert this dataframe to an interactive table.\"\n",
              "              style=\"display:none;\">\n",
              "        \n",
              "  <svg xmlns=\"http://www.w3.org/2000/svg\" height=\"24px\"viewBox=\"0 0 24 24\"\n",
              "       width=\"24px\">\n",
              "    <path d=\"M0 0h24v24H0V0z\" fill=\"none\"/>\n",
              "    <path d=\"M18.56 5.44l.94 2.06.94-2.06 2.06-.94-2.06-.94-.94-2.06-.94 2.06-2.06.94zm-11 1L8.5 8.5l.94-2.06 2.06-.94-2.06-.94L8.5 2.5l-.94 2.06-2.06.94zm10 10l.94 2.06.94-2.06 2.06-.94-2.06-.94-.94-2.06-.94 2.06-2.06.94z\"/><path d=\"M17.41 7.96l-1.37-1.37c-.4-.4-.92-.59-1.43-.59-.52 0-1.04.2-1.43.59L10.3 9.45l-7.72 7.72c-.78.78-.78 2.05 0 2.83L4 21.41c.39.39.9.59 1.41.59.51 0 1.02-.2 1.41-.59l7.78-7.78 2.81-2.81c.8-.78.8-2.07 0-2.86zM5.41 20L4 18.59l7.72-7.72 1.47 1.35L5.41 20z\"/>\n",
              "  </svg>\n",
              "      </button>\n",
              "      \n",
              "  <style>\n",
              "    .colab-df-container {\n",
              "      display:flex;\n",
              "      flex-wrap:wrap;\n",
              "      gap: 12px;\n",
              "    }\n",
              "\n",
              "    .colab-df-convert {\n",
              "      background-color: #E8F0FE;\n",
              "      border: none;\n",
              "      border-radius: 50%;\n",
              "      cursor: pointer;\n",
              "      display: none;\n",
              "      fill: #1967D2;\n",
              "      height: 32px;\n",
              "      padding: 0 0 0 0;\n",
              "      width: 32px;\n",
              "    }\n",
              "\n",
              "    .colab-df-convert:hover {\n",
              "      background-color: #E2EBFA;\n",
              "      box-shadow: 0px 1px 2px rgba(60, 64, 67, 0.3), 0px 1px 3px 1px rgba(60, 64, 67, 0.15);\n",
              "      fill: #174EA6;\n",
              "    }\n",
              "\n",
              "    [theme=dark] .colab-df-convert {\n",
              "      background-color: #3B4455;\n",
              "      fill: #D2E3FC;\n",
              "    }\n",
              "\n",
              "    [theme=dark] .colab-df-convert:hover {\n",
              "      background-color: #434B5C;\n",
              "      box-shadow: 0px 1px 3px 1px rgba(0, 0, 0, 0.15);\n",
              "      filter: drop-shadow(0px 1px 2px rgba(0, 0, 0, 0.3));\n",
              "      fill: #FFFFFF;\n",
              "    }\n",
              "  </style>\n",
              "\n",
              "      <script>\n",
              "        const buttonEl =\n",
              "          document.querySelector('#df-91bcbde9-ebd4-4573-aed0-ce0f98e10360 button.colab-df-convert');\n",
              "        buttonEl.style.display =\n",
              "          google.colab.kernel.accessAllowed ? 'block' : 'none';\n",
              "\n",
              "        async function convertToInteractive(key) {\n",
              "          const element = document.querySelector('#df-91bcbde9-ebd4-4573-aed0-ce0f98e10360');\n",
              "          const dataTable =\n",
              "            await google.colab.kernel.invokeFunction('convertToInteractive',\n",
              "                                                     [key], {});\n",
              "          if (!dataTable) return;\n",
              "\n",
              "          const docLinkHtml = 'Like what you see? Visit the ' +\n",
              "            '<a target=\"_blank\" href=https://colab.research.google.com/notebooks/data_table.ipynb>data table notebook</a>'\n",
              "            + ' to learn more about interactive tables.';\n",
              "          element.innerHTML = '';\n",
              "          dataTable['output_type'] = 'display_data';\n",
              "          await google.colab.output.renderOutput(dataTable, element);\n",
              "          const docLink = document.createElement('div');\n",
              "          docLink.innerHTML = docLinkHtml;\n",
              "          element.appendChild(docLink);\n",
              "        }\n",
              "      </script>\n",
              "    </div>\n",
              "  </div>\n",
              "  "
            ],
            "text/plain": [
              "   temperature   humidity        ph    rainfall\n",
              "0    20.879744  82.002744  6.502985  202.935536\n",
              "1    21.770462  80.319644  7.038096  226.655537\n",
              "2    23.004459  82.320763  7.840207  263.964248\n",
              "3    26.491096  80.158363  6.980401  242.864034\n",
              "4    20.130175  81.604873  7.628473  262.717340"
            ]
          },
          "metadata": {},
          "execution_count": 97
        }
      ]
    },
    {
      "cell_type": "code",
      "metadata": {
        "colab": {
          "base_uri": "https://localhost:8080/",
          "height": 423
        },
        "id": "GwO3dV4twpZH",
        "outputId": "90c021a4-d214-4ab2-de04-c2405f852ad2"
      },
      "source": [
        "df.sort_index(inplace=True)\n",
        "df"
      ],
      "execution_count": 98,
      "outputs": [
        {
          "output_type": "execute_result",
          "data": {
            "text/html": [
              "\n",
              "  <div id=\"df-68624c4c-122e-423a-a18d-50cd41bcd15a\">\n",
              "    <div class=\"colab-df-container\">\n",
              "      <div>\n",
              "<style scoped>\n",
              "    .dataframe tbody tr th:only-of-type {\n",
              "        vertical-align: middle;\n",
              "    }\n",
              "\n",
              "    .dataframe tbody tr th {\n",
              "        vertical-align: top;\n",
              "    }\n",
              "\n",
              "    .dataframe thead th {\n",
              "        text-align: right;\n",
              "    }\n",
              "</style>\n",
              "<table border=\"1\" class=\"dataframe\">\n",
              "  <thead>\n",
              "    <tr style=\"text-align: right;\">\n",
              "      <th></th>\n",
              "      <th>N</th>\n",
              "      <th>P</th>\n",
              "      <th>K</th>\n",
              "      <th>temperature</th>\n",
              "      <th>humidity</th>\n",
              "      <th>ph</th>\n",
              "      <th>rainfall</th>\n",
              "      <th>label</th>\n",
              "    </tr>\n",
              "  </thead>\n",
              "  <tbody>\n",
              "    <tr>\n",
              "      <th>0</th>\n",
              "      <td>90</td>\n",
              "      <td>42</td>\n",
              "      <td>43</td>\n",
              "      <td>20.879744</td>\n",
              "      <td>82.002744</td>\n",
              "      <td>6.502985</td>\n",
              "      <td>202.935536</td>\n",
              "      <td>rice</td>\n",
              "    </tr>\n",
              "    <tr>\n",
              "      <th>1</th>\n",
              "      <td>85</td>\n",
              "      <td>58</td>\n",
              "      <td>41</td>\n",
              "      <td>21.770462</td>\n",
              "      <td>80.319644</td>\n",
              "      <td>7.038096</td>\n",
              "      <td>226.655537</td>\n",
              "      <td>rice</td>\n",
              "    </tr>\n",
              "    <tr>\n",
              "      <th>2</th>\n",
              "      <td>60</td>\n",
              "      <td>55</td>\n",
              "      <td>44</td>\n",
              "      <td>23.004459</td>\n",
              "      <td>82.320763</td>\n",
              "      <td>7.840207</td>\n",
              "      <td>263.964248</td>\n",
              "      <td>rice</td>\n",
              "    </tr>\n",
              "    <tr>\n",
              "      <th>3</th>\n",
              "      <td>74</td>\n",
              "      <td>35</td>\n",
              "      <td>40</td>\n",
              "      <td>26.491096</td>\n",
              "      <td>80.158363</td>\n",
              "      <td>6.980401</td>\n",
              "      <td>242.864034</td>\n",
              "      <td>rice</td>\n",
              "    </tr>\n",
              "    <tr>\n",
              "      <th>4</th>\n",
              "      <td>78</td>\n",
              "      <td>42</td>\n",
              "      <td>42</td>\n",
              "      <td>20.130175</td>\n",
              "      <td>81.604873</td>\n",
              "      <td>7.628473</td>\n",
              "      <td>262.717340</td>\n",
              "      <td>rice</td>\n",
              "    </tr>\n",
              "    <tr>\n",
              "      <th>...</th>\n",
              "      <td>...</td>\n",
              "      <td>...</td>\n",
              "      <td>...</td>\n",
              "      <td>...</td>\n",
              "      <td>...</td>\n",
              "      <td>...</td>\n",
              "      <td>...</td>\n",
              "      <td>...</td>\n",
              "    </tr>\n",
              "    <tr>\n",
              "      <th>2195</th>\n",
              "      <td>107</td>\n",
              "      <td>34</td>\n",
              "      <td>32</td>\n",
              "      <td>26.774637</td>\n",
              "      <td>66.413269</td>\n",
              "      <td>6.780064</td>\n",
              "      <td>177.774507</td>\n",
              "      <td>coffee</td>\n",
              "    </tr>\n",
              "    <tr>\n",
              "      <th>2196</th>\n",
              "      <td>99</td>\n",
              "      <td>15</td>\n",
              "      <td>27</td>\n",
              "      <td>27.417112</td>\n",
              "      <td>56.636362</td>\n",
              "      <td>6.086922</td>\n",
              "      <td>127.924610</td>\n",
              "      <td>coffee</td>\n",
              "    </tr>\n",
              "    <tr>\n",
              "      <th>2197</th>\n",
              "      <td>118</td>\n",
              "      <td>33</td>\n",
              "      <td>30</td>\n",
              "      <td>24.131797</td>\n",
              "      <td>67.225123</td>\n",
              "      <td>6.362608</td>\n",
              "      <td>173.322839</td>\n",
              "      <td>coffee</td>\n",
              "    </tr>\n",
              "    <tr>\n",
              "      <th>2198</th>\n",
              "      <td>117</td>\n",
              "      <td>32</td>\n",
              "      <td>34</td>\n",
              "      <td>26.272418</td>\n",
              "      <td>52.127394</td>\n",
              "      <td>6.758793</td>\n",
              "      <td>127.175293</td>\n",
              "      <td>coffee</td>\n",
              "    </tr>\n",
              "    <tr>\n",
              "      <th>2199</th>\n",
              "      <td>104</td>\n",
              "      <td>18</td>\n",
              "      <td>30</td>\n",
              "      <td>23.603016</td>\n",
              "      <td>60.396475</td>\n",
              "      <td>6.779833</td>\n",
              "      <td>140.937041</td>\n",
              "      <td>coffee</td>\n",
              "    </tr>\n",
              "  </tbody>\n",
              "</table>\n",
              "<p>2200 rows × 8 columns</p>\n",
              "</div>\n",
              "      <button class=\"colab-df-convert\" onclick=\"convertToInteractive('df-68624c4c-122e-423a-a18d-50cd41bcd15a')\"\n",
              "              title=\"Convert this dataframe to an interactive table.\"\n",
              "              style=\"display:none;\">\n",
              "        \n",
              "  <svg xmlns=\"http://www.w3.org/2000/svg\" height=\"24px\"viewBox=\"0 0 24 24\"\n",
              "       width=\"24px\">\n",
              "    <path d=\"M0 0h24v24H0V0z\" fill=\"none\"/>\n",
              "    <path d=\"M18.56 5.44l.94 2.06.94-2.06 2.06-.94-2.06-.94-.94-2.06-.94 2.06-2.06.94zm-11 1L8.5 8.5l.94-2.06 2.06-.94-2.06-.94L8.5 2.5l-.94 2.06-2.06.94zm10 10l.94 2.06.94-2.06 2.06-.94-2.06-.94-.94-2.06-.94 2.06-2.06.94z\"/><path d=\"M17.41 7.96l-1.37-1.37c-.4-.4-.92-.59-1.43-.59-.52 0-1.04.2-1.43.59L10.3 9.45l-7.72 7.72c-.78.78-.78 2.05 0 2.83L4 21.41c.39.39.9.59 1.41.59.51 0 1.02-.2 1.41-.59l7.78-7.78 2.81-2.81c.8-.78.8-2.07 0-2.86zM5.41 20L4 18.59l7.72-7.72 1.47 1.35L5.41 20z\"/>\n",
              "  </svg>\n",
              "      </button>\n",
              "      \n",
              "  <style>\n",
              "    .colab-df-container {\n",
              "      display:flex;\n",
              "      flex-wrap:wrap;\n",
              "      gap: 12px;\n",
              "    }\n",
              "\n",
              "    .colab-df-convert {\n",
              "      background-color: #E8F0FE;\n",
              "      border: none;\n",
              "      border-radius: 50%;\n",
              "      cursor: pointer;\n",
              "      display: none;\n",
              "      fill: #1967D2;\n",
              "      height: 32px;\n",
              "      padding: 0 0 0 0;\n",
              "      width: 32px;\n",
              "    }\n",
              "\n",
              "    .colab-df-convert:hover {\n",
              "      background-color: #E2EBFA;\n",
              "      box-shadow: 0px 1px 2px rgba(60, 64, 67, 0.3), 0px 1px 3px 1px rgba(60, 64, 67, 0.15);\n",
              "      fill: #174EA6;\n",
              "    }\n",
              "\n",
              "    [theme=dark] .colab-df-convert {\n",
              "      background-color: #3B4455;\n",
              "      fill: #D2E3FC;\n",
              "    }\n",
              "\n",
              "    [theme=dark] .colab-df-convert:hover {\n",
              "      background-color: #434B5C;\n",
              "      box-shadow: 0px 1px 3px 1px rgba(0, 0, 0, 0.15);\n",
              "      filter: drop-shadow(0px 1px 2px rgba(0, 0, 0, 0.3));\n",
              "      fill: #FFFFFF;\n",
              "    }\n",
              "  </style>\n",
              "\n",
              "      <script>\n",
              "        const buttonEl =\n",
              "          document.querySelector('#df-68624c4c-122e-423a-a18d-50cd41bcd15a button.colab-df-convert');\n",
              "        buttonEl.style.display =\n",
              "          google.colab.kernel.accessAllowed ? 'block' : 'none';\n",
              "\n",
              "        async function convertToInteractive(key) {\n",
              "          const element = document.querySelector('#df-68624c4c-122e-423a-a18d-50cd41bcd15a');\n",
              "          const dataTable =\n",
              "            await google.colab.kernel.invokeFunction('convertToInteractive',\n",
              "                                                     [key], {});\n",
              "          if (!dataTable) return;\n",
              "\n",
              "          const docLinkHtml = 'Like what you see? Visit the ' +\n",
              "            '<a target=\"_blank\" href=https://colab.research.google.com/notebooks/data_table.ipynb>data table notebook</a>'\n",
              "            + ' to learn more about interactive tables.';\n",
              "          element.innerHTML = '';\n",
              "          dataTable['output_type'] = 'display_data';\n",
              "          await google.colab.output.renderOutput(dataTable, element);\n",
              "          const docLink = document.createElement('div');\n",
              "          docLink.innerHTML = docLinkHtml;\n",
              "          element.appendChild(docLink);\n",
              "        }\n",
              "      </script>\n",
              "    </div>\n",
              "  </div>\n",
              "  "
            ],
            "text/plain": [
              "        N   P   K  temperature   humidity        ph    rainfall   label\n",
              "0      90  42  43    20.879744  82.002744  6.502985  202.935536    rice\n",
              "1      85  58  41    21.770462  80.319644  7.038096  226.655537    rice\n",
              "2      60  55  44    23.004459  82.320763  7.840207  263.964248    rice\n",
              "3      74  35  40    26.491096  80.158363  6.980401  242.864034    rice\n",
              "4      78  42  42    20.130175  81.604873  7.628473  262.717340    rice\n",
              "...   ...  ..  ..          ...        ...       ...         ...     ...\n",
              "2195  107  34  32    26.774637  66.413269  6.780064  177.774507  coffee\n",
              "2196   99  15  27    27.417112  56.636362  6.086922  127.924610  coffee\n",
              "2197  118  33  30    24.131797  67.225123  6.362608  173.322839  coffee\n",
              "2198  117  32  34    26.272418  52.127394  6.758793  127.175293  coffee\n",
              "2199  104  18  30    23.603016  60.396475  6.779833  140.937041  coffee\n",
              "\n",
              "[2200 rows x 8 columns]"
            ]
          },
          "metadata": {},
          "execution_count": 98
        }
      ]
    },
    {
      "cell_type": "markdown",
      "metadata": {
        "id": "BsBC0WhMrkv2"
      },
      "source": [
        "## Missing Values\n",
        "\n",
        "Datasets tends to have a few missing values. Pandas offers us isna function to find out the null values and fillna function to fill values. Mean has been used to fill the values in this case"
      ]
    },
    {
      "cell_type": "code",
      "metadata": {
        "colab": {
          "base_uri": "https://localhost:8080/"
        },
        "id": "w_IWvm8OZk31",
        "outputId": "fb3904cb-ca57-4616-8288-66397a6c1e41"
      },
      "source": [
        "nMean = df['N'].mean()\n",
        "print('Null Values in N col:',df['N'].isna().sum())\n",
        "df['N'].fillna(nMean,inplace = True)\n",
        "print('Null Values Remplaced by:', nMean)\n",
        "\n",
        "print() \n",
        "\n",
        "pMean = df['P'].mean()\n",
        "print('Null Values in P col:',df['P'].isna().sum())\n",
        "df['P'].fillna(pMean,inplace = True)\n",
        "print('Null Values Remplaced by:', pMean)\n",
        "\n",
        "print()\n",
        "\n",
        "kMean = df['K'].mean()\n",
        "print('Null Values in K col:',df['K'].isna().sum())\n",
        "df['K'].fillna(nMean,inplace = True)\n",
        "print('Null Values Remplaced by:', kMean)\n",
        "\n",
        "print()\n",
        "\n",
        "tempMean = df['temperature'].mean()\n",
        "print('Null Values in temperature col:',df['temperature'].isna().sum())\n",
        "df['temperature'].fillna(tempMean,inplace = True)\n",
        "print('Null Values Remplaced by:', tempMean)\n",
        "\n",
        "print()\n",
        "\n",
        "humMean = df['humidity'].mean()\n",
        "print('Null Values in humidity col:',df['humidity'].isna().sum())\n",
        "df['humidity'].fillna(humMean,inplace = True)\n",
        "print('Null Values Remplaced by:', humMean)\n",
        "\n",
        "print()\n",
        "\n",
        "phMean = df['ph'].mean()\n",
        "print('Null Values in ph col:',df['ph'].isna().sum())\n",
        "df['ph'].fillna(phMean,inplace = True)\n",
        "print('Null Values Remplaced by:', phMean)\n",
        "\n",
        "print()\n",
        "\n",
        "rainMean = df['rainfall'].mean()\n",
        "print('Null Values in rainfall col:',df['rainfall'].isna().sum())\n",
        "df['rainfall'].fillna(rainMean,inplace = True)\n",
        "print('Null Values Remplaced by:', rainMean)"
      ],
      "execution_count": 99,
      "outputs": [
        {
          "output_type": "stream",
          "name": "stdout",
          "text": [
            "Null Values in N col: 0\n",
            "Null Values Remplaced by: 50.551818181818184\n",
            "\n",
            "Null Values in P col: 0\n",
            "Null Values Remplaced by: 53.36272727272727\n",
            "\n",
            "Null Values in K col: 0\n",
            "Null Values Remplaced by: 48.14909090909091\n",
            "\n",
            "Null Values in temperature col: 0\n",
            "Null Values Remplaced by: 25.616243851779533\n",
            "\n",
            "Null Values in humidity col: 0\n",
            "Null Values Remplaced by: 71.48177921778648\n",
            "\n",
            "Null Values in ph col: 0\n",
            "Null Values Remplaced by: 6.469480065256369\n",
            "\n",
            "Null Values in rainfall col: 0\n",
            "Null Values Remplaced by: 103.4636554157683\n"
          ]
        }
      ]
    },
    {
      "cell_type": "markdown",
      "metadata": {
        "id": "EYonA6cZw15f"
      },
      "source": [
        "## Encoding\n",
        "\n",
        "The column 'label' consists of non-numerical values with nominal categories and hence they must be encoded.\n",
        "The basic idea we had with the Label and One Hot encoding seemed to have various disadvantages (such as pseudo-ordinality with the former, weakening of corrolations with the latter and many) which can cause significanace drop in the performance and accuracy with the given dataset.\n",
        "\n",
        "Hence, we decided to look into the research papers about encoding and came up with the conclusion of trying out **One Hot Encoding and Binary Encoding** in the initial stages and adopt the suitable based on the results.\n",
        "\n",
        "\n",
        "Potdar, Kedar & Pardawala, Taher & Pai, Chinmay. (2017). A Comparative Study of Categorical Variable Encoding Techniques for Neural Network Classifiers. International Journal of Computer Applications. 175. 7-9. 10.5120/ijca2017915495. "
      ]
    },
    {
      "cell_type": "code",
      "metadata": {
        "colab": {
          "base_uri": "https://localhost:8080/"
        },
        "id": "TAuDuIIl7uwB",
        "outputId": "bb30de77-6479-48d3-b88e-61acbd70cce7"
      },
      "source": [
        "#One Hot Encoding\n",
        "one_hot_encoded=pd.get_dummies(df,columns=['label'])\n",
        "print(one_hot_encoded)"
      ],
      "execution_count": 100,
      "outputs": [
        {
          "output_type": "stream",
          "name": "stdout",
          "text": [
            "        N   P   K  ...  label_pomegranate  label_rice  label_watermelon\n",
            "0      90  42  43  ...                  0           1                 0\n",
            "1      85  58  41  ...                  0           1                 0\n",
            "2      60  55  44  ...                  0           1                 0\n",
            "3      74  35  40  ...                  0           1                 0\n",
            "4      78  42  42  ...                  0           1                 0\n",
            "...   ...  ..  ..  ...                ...         ...               ...\n",
            "2195  107  34  32  ...                  0           0                 0\n",
            "2196   99  15  27  ...                  0           0                 0\n",
            "2197  118  33  30  ...                  0           0                 0\n",
            "2198  117  32  34  ...                  0           0                 0\n",
            "2199  104  18  30  ...                  0           0                 0\n",
            "\n",
            "[2200 rows x 29 columns]\n"
          ]
        }
      ]
    },
    {
      "cell_type": "code",
      "metadata": {
        "colab": {
          "base_uri": "https://localhost:8080/"
        },
        "id": "4W4dYHcIzNOj",
        "outputId": "9b5bf807-b531-4fbf-a11f-67e3bcd5c0f1"
      },
      "source": [
        "#Binary Encoding\n",
        "!pip install category_encoders\n",
        "import category_encoders as ce"
      ],
      "execution_count": 101,
      "outputs": [
        {
          "output_type": "stream",
          "name": "stdout",
          "text": [
            "Requirement already satisfied: category_encoders in /usr/local/lib/python3.7/dist-packages (2.3.0)\n",
            "Requirement already satisfied: numpy>=1.14.0 in /usr/local/lib/python3.7/dist-packages (from category_encoders) (1.19.5)\n",
            "Requirement already satisfied: pandas>=0.21.1 in /usr/local/lib/python3.7/dist-packages (from category_encoders) (1.1.5)\n",
            "Requirement already satisfied: scikit-learn>=0.20.0 in /usr/local/lib/python3.7/dist-packages (from category_encoders) (1.0.1)\n",
            "Requirement already satisfied: patsy>=0.5.1 in /usr/local/lib/python3.7/dist-packages (from category_encoders) (0.5.2)\n",
            "Requirement already satisfied: scipy>=1.0.0 in /usr/local/lib/python3.7/dist-packages (from category_encoders) (1.4.1)\n",
            "Requirement already satisfied: statsmodels>=0.9.0 in /usr/local/lib/python3.7/dist-packages (from category_encoders) (0.10.2)\n",
            "Requirement already satisfied: pytz>=2017.2 in /usr/local/lib/python3.7/dist-packages (from pandas>=0.21.1->category_encoders) (2018.9)\n",
            "Requirement already satisfied: python-dateutil>=2.7.3 in /usr/local/lib/python3.7/dist-packages (from pandas>=0.21.1->category_encoders) (2.8.2)\n",
            "Requirement already satisfied: six in /usr/local/lib/python3.7/dist-packages (from patsy>=0.5.1->category_encoders) (1.15.0)\n",
            "Requirement already satisfied: joblib>=0.11 in /usr/local/lib/python3.7/dist-packages (from scikit-learn>=0.20.0->category_encoders) (1.1.0)\n",
            "Requirement already satisfied: threadpoolctl>=2.0.0 in /usr/local/lib/python3.7/dist-packages (from scikit-learn>=0.20.0->category_encoders) (3.0.0)\n"
          ]
        }
      ]
    },
    {
      "cell_type": "code",
      "metadata": {
        "colab": {
          "base_uri": "https://localhost:8080/",
          "height": 423
        },
        "id": "pYwGqjz16zll",
        "outputId": "7cee7f0c-d7df-40ea-ded1-8f093459d1a8"
      },
      "source": [
        "encoder= ce.BinaryEncoder(cols=['label'],return_df=True)\n",
        "data_encoded=encoder.fit_transform(df) \n",
        "data_encoded"
      ],
      "execution_count": 102,
      "outputs": [
        {
          "output_type": "execute_result",
          "data": {
            "text/html": [
              "\n",
              "  <div id=\"df-a950f824-4a63-455b-90ef-67f69b8bb562\">\n",
              "    <div class=\"colab-df-container\">\n",
              "      <div>\n",
              "<style scoped>\n",
              "    .dataframe tbody tr th:only-of-type {\n",
              "        vertical-align: middle;\n",
              "    }\n",
              "\n",
              "    .dataframe tbody tr th {\n",
              "        vertical-align: top;\n",
              "    }\n",
              "\n",
              "    .dataframe thead th {\n",
              "        text-align: right;\n",
              "    }\n",
              "</style>\n",
              "<table border=\"1\" class=\"dataframe\">\n",
              "  <thead>\n",
              "    <tr style=\"text-align: right;\">\n",
              "      <th></th>\n",
              "      <th>N</th>\n",
              "      <th>P</th>\n",
              "      <th>K</th>\n",
              "      <th>temperature</th>\n",
              "      <th>humidity</th>\n",
              "      <th>ph</th>\n",
              "      <th>rainfall</th>\n",
              "      <th>label_0</th>\n",
              "      <th>label_1</th>\n",
              "      <th>label_2</th>\n",
              "      <th>label_3</th>\n",
              "      <th>label_4</th>\n",
              "    </tr>\n",
              "  </thead>\n",
              "  <tbody>\n",
              "    <tr>\n",
              "      <th>0</th>\n",
              "      <td>90</td>\n",
              "      <td>42</td>\n",
              "      <td>43</td>\n",
              "      <td>20.879744</td>\n",
              "      <td>82.002744</td>\n",
              "      <td>6.502985</td>\n",
              "      <td>202.935536</td>\n",
              "      <td>0</td>\n",
              "      <td>0</td>\n",
              "      <td>0</td>\n",
              "      <td>0</td>\n",
              "      <td>1</td>\n",
              "    </tr>\n",
              "    <tr>\n",
              "      <th>1</th>\n",
              "      <td>85</td>\n",
              "      <td>58</td>\n",
              "      <td>41</td>\n",
              "      <td>21.770462</td>\n",
              "      <td>80.319644</td>\n",
              "      <td>7.038096</td>\n",
              "      <td>226.655537</td>\n",
              "      <td>0</td>\n",
              "      <td>0</td>\n",
              "      <td>0</td>\n",
              "      <td>0</td>\n",
              "      <td>1</td>\n",
              "    </tr>\n",
              "    <tr>\n",
              "      <th>2</th>\n",
              "      <td>60</td>\n",
              "      <td>55</td>\n",
              "      <td>44</td>\n",
              "      <td>23.004459</td>\n",
              "      <td>82.320763</td>\n",
              "      <td>7.840207</td>\n",
              "      <td>263.964248</td>\n",
              "      <td>0</td>\n",
              "      <td>0</td>\n",
              "      <td>0</td>\n",
              "      <td>0</td>\n",
              "      <td>1</td>\n",
              "    </tr>\n",
              "    <tr>\n",
              "      <th>3</th>\n",
              "      <td>74</td>\n",
              "      <td>35</td>\n",
              "      <td>40</td>\n",
              "      <td>26.491096</td>\n",
              "      <td>80.158363</td>\n",
              "      <td>6.980401</td>\n",
              "      <td>242.864034</td>\n",
              "      <td>0</td>\n",
              "      <td>0</td>\n",
              "      <td>0</td>\n",
              "      <td>0</td>\n",
              "      <td>1</td>\n",
              "    </tr>\n",
              "    <tr>\n",
              "      <th>4</th>\n",
              "      <td>78</td>\n",
              "      <td>42</td>\n",
              "      <td>42</td>\n",
              "      <td>20.130175</td>\n",
              "      <td>81.604873</td>\n",
              "      <td>7.628473</td>\n",
              "      <td>262.717340</td>\n",
              "      <td>0</td>\n",
              "      <td>0</td>\n",
              "      <td>0</td>\n",
              "      <td>0</td>\n",
              "      <td>1</td>\n",
              "    </tr>\n",
              "    <tr>\n",
              "      <th>...</th>\n",
              "      <td>...</td>\n",
              "      <td>...</td>\n",
              "      <td>...</td>\n",
              "      <td>...</td>\n",
              "      <td>...</td>\n",
              "      <td>...</td>\n",
              "      <td>...</td>\n",
              "      <td>...</td>\n",
              "      <td>...</td>\n",
              "      <td>...</td>\n",
              "      <td>...</td>\n",
              "      <td>...</td>\n",
              "    </tr>\n",
              "    <tr>\n",
              "      <th>2195</th>\n",
              "      <td>107</td>\n",
              "      <td>34</td>\n",
              "      <td>32</td>\n",
              "      <td>26.774637</td>\n",
              "      <td>66.413269</td>\n",
              "      <td>6.780064</td>\n",
              "      <td>177.774507</td>\n",
              "      <td>1</td>\n",
              "      <td>0</td>\n",
              "      <td>1</td>\n",
              "      <td>1</td>\n",
              "      <td>0</td>\n",
              "    </tr>\n",
              "    <tr>\n",
              "      <th>2196</th>\n",
              "      <td>99</td>\n",
              "      <td>15</td>\n",
              "      <td>27</td>\n",
              "      <td>27.417112</td>\n",
              "      <td>56.636362</td>\n",
              "      <td>6.086922</td>\n",
              "      <td>127.924610</td>\n",
              "      <td>1</td>\n",
              "      <td>0</td>\n",
              "      <td>1</td>\n",
              "      <td>1</td>\n",
              "      <td>0</td>\n",
              "    </tr>\n",
              "    <tr>\n",
              "      <th>2197</th>\n",
              "      <td>118</td>\n",
              "      <td>33</td>\n",
              "      <td>30</td>\n",
              "      <td>24.131797</td>\n",
              "      <td>67.225123</td>\n",
              "      <td>6.362608</td>\n",
              "      <td>173.322839</td>\n",
              "      <td>1</td>\n",
              "      <td>0</td>\n",
              "      <td>1</td>\n",
              "      <td>1</td>\n",
              "      <td>0</td>\n",
              "    </tr>\n",
              "    <tr>\n",
              "      <th>2198</th>\n",
              "      <td>117</td>\n",
              "      <td>32</td>\n",
              "      <td>34</td>\n",
              "      <td>26.272418</td>\n",
              "      <td>52.127394</td>\n",
              "      <td>6.758793</td>\n",
              "      <td>127.175293</td>\n",
              "      <td>1</td>\n",
              "      <td>0</td>\n",
              "      <td>1</td>\n",
              "      <td>1</td>\n",
              "      <td>0</td>\n",
              "    </tr>\n",
              "    <tr>\n",
              "      <th>2199</th>\n",
              "      <td>104</td>\n",
              "      <td>18</td>\n",
              "      <td>30</td>\n",
              "      <td>23.603016</td>\n",
              "      <td>60.396475</td>\n",
              "      <td>6.779833</td>\n",
              "      <td>140.937041</td>\n",
              "      <td>1</td>\n",
              "      <td>0</td>\n",
              "      <td>1</td>\n",
              "      <td>1</td>\n",
              "      <td>0</td>\n",
              "    </tr>\n",
              "  </tbody>\n",
              "</table>\n",
              "<p>2200 rows × 12 columns</p>\n",
              "</div>\n",
              "      <button class=\"colab-df-convert\" onclick=\"convertToInteractive('df-a950f824-4a63-455b-90ef-67f69b8bb562')\"\n",
              "              title=\"Convert this dataframe to an interactive table.\"\n",
              "              style=\"display:none;\">\n",
              "        \n",
              "  <svg xmlns=\"http://www.w3.org/2000/svg\" height=\"24px\"viewBox=\"0 0 24 24\"\n",
              "       width=\"24px\">\n",
              "    <path d=\"M0 0h24v24H0V0z\" fill=\"none\"/>\n",
              "    <path d=\"M18.56 5.44l.94 2.06.94-2.06 2.06-.94-2.06-.94-.94-2.06-.94 2.06-2.06.94zm-11 1L8.5 8.5l.94-2.06 2.06-.94-2.06-.94L8.5 2.5l-.94 2.06-2.06.94zm10 10l.94 2.06.94-2.06 2.06-.94-2.06-.94-.94-2.06-.94 2.06-2.06.94z\"/><path d=\"M17.41 7.96l-1.37-1.37c-.4-.4-.92-.59-1.43-.59-.52 0-1.04.2-1.43.59L10.3 9.45l-7.72 7.72c-.78.78-.78 2.05 0 2.83L4 21.41c.39.39.9.59 1.41.59.51 0 1.02-.2 1.41-.59l7.78-7.78 2.81-2.81c.8-.78.8-2.07 0-2.86zM5.41 20L4 18.59l7.72-7.72 1.47 1.35L5.41 20z\"/>\n",
              "  </svg>\n",
              "      </button>\n",
              "      \n",
              "  <style>\n",
              "    .colab-df-container {\n",
              "      display:flex;\n",
              "      flex-wrap:wrap;\n",
              "      gap: 12px;\n",
              "    }\n",
              "\n",
              "    .colab-df-convert {\n",
              "      background-color: #E8F0FE;\n",
              "      border: none;\n",
              "      border-radius: 50%;\n",
              "      cursor: pointer;\n",
              "      display: none;\n",
              "      fill: #1967D2;\n",
              "      height: 32px;\n",
              "      padding: 0 0 0 0;\n",
              "      width: 32px;\n",
              "    }\n",
              "\n",
              "    .colab-df-convert:hover {\n",
              "      background-color: #E2EBFA;\n",
              "      box-shadow: 0px 1px 2px rgba(60, 64, 67, 0.3), 0px 1px 3px 1px rgba(60, 64, 67, 0.15);\n",
              "      fill: #174EA6;\n",
              "    }\n",
              "\n",
              "    [theme=dark] .colab-df-convert {\n",
              "      background-color: #3B4455;\n",
              "      fill: #D2E3FC;\n",
              "    }\n",
              "\n",
              "    [theme=dark] .colab-df-convert:hover {\n",
              "      background-color: #434B5C;\n",
              "      box-shadow: 0px 1px 3px 1px rgba(0, 0, 0, 0.15);\n",
              "      filter: drop-shadow(0px 1px 2px rgba(0, 0, 0, 0.3));\n",
              "      fill: #FFFFFF;\n",
              "    }\n",
              "  </style>\n",
              "\n",
              "      <script>\n",
              "        const buttonEl =\n",
              "          document.querySelector('#df-a950f824-4a63-455b-90ef-67f69b8bb562 button.colab-df-convert');\n",
              "        buttonEl.style.display =\n",
              "          google.colab.kernel.accessAllowed ? 'block' : 'none';\n",
              "\n",
              "        async function convertToInteractive(key) {\n",
              "          const element = document.querySelector('#df-a950f824-4a63-455b-90ef-67f69b8bb562');\n",
              "          const dataTable =\n",
              "            await google.colab.kernel.invokeFunction('convertToInteractive',\n",
              "                                                     [key], {});\n",
              "          if (!dataTable) return;\n",
              "\n",
              "          const docLinkHtml = 'Like what you see? Visit the ' +\n",
              "            '<a target=\"_blank\" href=https://colab.research.google.com/notebooks/data_table.ipynb>data table notebook</a>'\n",
              "            + ' to learn more about interactive tables.';\n",
              "          element.innerHTML = '';\n",
              "          dataTable['output_type'] = 'display_data';\n",
              "          await google.colab.output.renderOutput(dataTable, element);\n",
              "          const docLink = document.createElement('div');\n",
              "          docLink.innerHTML = docLinkHtml;\n",
              "          element.appendChild(docLink);\n",
              "        }\n",
              "      </script>\n",
              "    </div>\n",
              "  </div>\n",
              "  "
            ],
            "text/plain": [
              "        N   P   K  temperature  ...  label_1  label_2  label_3  label_4\n",
              "0      90  42  43    20.879744  ...        0        0        0        1\n",
              "1      85  58  41    21.770462  ...        0        0        0        1\n",
              "2      60  55  44    23.004459  ...        0        0        0        1\n",
              "3      74  35  40    26.491096  ...        0        0        0        1\n",
              "4      78  42  42    20.130175  ...        0        0        0        1\n",
              "...   ...  ..  ..          ...  ...      ...      ...      ...      ...\n",
              "2195  107  34  32    26.774637  ...        0        1        1        0\n",
              "2196   99  15  27    27.417112  ...        0        1        1        0\n",
              "2197  118  33  30    24.131797  ...        0        1        1        0\n",
              "2198  117  32  34    26.272418  ...        0        1        1        0\n",
              "2199  104  18  30    23.603016  ...        0        1        1        0\n",
              "\n",
              "[2200 rows x 12 columns]"
            ]
          },
          "metadata": {},
          "execution_count": 102
        }
      ]
    },
    {
      "cell_type": "markdown",
      "metadata": {
        "id": "esEtprf_BleA"
      },
      "source": [
        "## Statistical Analysis"
      ]
    },
    {
      "cell_type": "code",
      "metadata": {
        "colab": {
          "base_uri": "https://localhost:8080/"
        },
        "id": "h9saFalaBuKj",
        "outputId": "533bb30d-e199-464f-9fd6-3aea488de897"
      },
      "source": [
        "#mean\n",
        "df.mean()"
      ],
      "execution_count": 103,
      "outputs": [
        {
          "output_type": "execute_result",
          "data": {
            "text/plain": [
              "N               50.551818\n",
              "P               53.362727\n",
              "K               48.149091\n",
              "temperature     25.616244\n",
              "humidity        71.481779\n",
              "ph               6.469480\n",
              "rainfall       103.463655\n",
              "dtype: float64"
            ]
          },
          "metadata": {},
          "execution_count": 103
        }
      ]
    },
    {
      "cell_type": "code",
      "metadata": {
        "colab": {
          "base_uri": "https://localhost:8080/"
        },
        "id": "d3PV6p0HB1kT",
        "outputId": "1f5596cb-8221-4ca0-c93c-ee9608cb4b51"
      },
      "source": [
        "#median\n",
        "df.median()"
      ],
      "execution_count": 104,
      "outputs": [
        {
          "output_type": "execute_result",
          "data": {
            "text/plain": [
              "N              37.000000\n",
              "P              51.000000\n",
              "K              32.000000\n",
              "temperature    25.598693\n",
              "humidity       80.473146\n",
              "ph              6.425045\n",
              "rainfall       94.867624\n",
              "dtype: float64"
            ]
          },
          "metadata": {},
          "execution_count": 104
        }
      ]
    },
    {
      "cell_type": "code",
      "metadata": {
        "id": "tq02cNppFjiD"
      },
      "source": [
        "#mode\n",
        "from scipy.stats import mode"
      ],
      "execution_count": 105,
      "outputs": []
    },
    {
      "cell_type": "code",
      "metadata": {
        "colab": {
          "base_uri": "https://localhost:8080/"
        },
        "id": "CCgiFO_YB2AM",
        "outputId": "546f8c30-85bc-4fe4-935c-918661809876"
      },
      "source": [
        "for column in list(df):\n",
        "  value_list=df[column].tolist()\n",
        "  print(\"mode of {} is {}\".format(column,mode(value_list)[0][0]))"
      ],
      "execution_count": 106,
      "outputs": [
        {
          "output_type": "stream",
          "name": "stdout",
          "text": [
            "mode of N is 22\n",
            "mode of P is 60\n",
            "mode of K is 17\n",
            "mode of temperature is 8.825674745\n",
            "mode of humidity is 14.25803981\n",
            "mode of ph is 3.5047523139999996\n",
            "mode of rainfall is 20.21126747\n",
            "mode of label is apple\n"
          ]
        }
      ]
    },
    {
      "cell_type": "code",
      "metadata": {
        "colab": {
          "base_uri": "https://localhost:8080/"
        },
        "id": "Tdlny65fGuNj",
        "outputId": "98495e6e-d6c5-4b45-afb6-05c49028112e"
      },
      "source": [
        "#standard Deviation\n",
        "df.std()"
      ],
      "execution_count": 107,
      "outputs": [
        {
          "output_type": "execute_result",
          "data": {
            "text/plain": [
              "N              36.917334\n",
              "P              32.985883\n",
              "K              50.647931\n",
              "temperature     5.063749\n",
              "humidity       22.263812\n",
              "ph              0.773938\n",
              "rainfall       54.958389\n",
              "dtype: float64"
            ]
          },
          "metadata": {},
          "execution_count": 107
        }
      ]
    },
    {
      "cell_type": "code",
      "metadata": {
        "colab": {
          "base_uri": "https://localhost:8080/"
        },
        "id": "DlsOIdztHS-a",
        "outputId": "04e961a0-6593-4db3-8b4f-229fe1c3e670"
      },
      "source": [
        "#variance\n",
        "df.var()"
      ],
      "execution_count": 108,
      "outputs": [
        {
          "output_type": "execute_result",
          "data": {
            "text/plain": [
              "N              1362.889537\n",
              "P              1088.068460\n",
              "K              2565.212869\n",
              "temperature      25.641550\n",
              "humidity        495.677307\n",
              "ph                0.598980\n",
              "rainfall       3020.424469\n",
              "dtype: float64"
            ]
          },
          "metadata": {},
          "execution_count": 108
        }
      ]
    },
    {
      "cell_type": "code",
      "metadata": {
        "colab": {
          "base_uri": "https://localhost:8080/"
        },
        "id": "c8urVUqyOXwc",
        "outputId": "f7354f1e-9b19-45dd-debf-290623d51abd"
      },
      "source": [
        "#Percentile\n",
        "print(\"25% quantile\\n\",df.quantile(0.25),'\\n')\n",
        "print(\"50% quantile\\n\",df.quantile(0.5),'\\n')\n",
        "print(\"75% quantile\\n\",df.quantile(0.75),'\\n')"
      ],
      "execution_count": 109,
      "outputs": [
        {
          "output_type": "stream",
          "name": "stdout",
          "text": [
            "25% quantile\n",
            " N              21.000000\n",
            "P              28.000000\n",
            "K              20.000000\n",
            "temperature    22.769375\n",
            "humidity       60.261953\n",
            "ph              5.971693\n",
            "rainfall       64.551686\n",
            "Name: 0.25, dtype: float64 \n",
            "\n",
            "50% quantile\n",
            " N              37.000000\n",
            "P              51.000000\n",
            "K              32.000000\n",
            "temperature    25.598693\n",
            "humidity       80.473146\n",
            "ph              6.425045\n",
            "rainfall       94.867624\n",
            "Name: 0.5, dtype: float64 \n",
            "\n",
            "75% quantile\n",
            " N               84.250000\n",
            "P               68.000000\n",
            "K               49.000000\n",
            "temperature     28.561654\n",
            "humidity        89.948771\n",
            "ph               6.923643\n",
            "rainfall       124.267508\n",
            "Name: 0.75, dtype: float64 \n",
            "\n"
          ]
        }
      ]
    },
    {
      "cell_type": "markdown",
      "metadata": {
        "id": "h_aQ--Axsb2_"
      },
      "source": [
        "## Labels / Classes\n",
        "\n",
        "Classes in the dataset is in the column 'Label'. The nunique function is used to find the ​number of classes, unique to find the different classes and value_counts to find out the number ​of times each class occurs in the dataset"
      ]
    },
    {
      "cell_type": "code",
      "metadata": {
        "colab": {
          "base_uri": "https://localhost:8080/"
        },
        "id": "smz9B2uXshy8",
        "outputId": "c64accfc-36cd-4512-967f-7e2f1849aedb"
      },
      "source": [
        "df['label'].nunique()"
      ],
      "execution_count": 110,
      "outputs": [
        {
          "output_type": "execute_result",
          "data": {
            "text/plain": [
              "22"
            ]
          },
          "metadata": {},
          "execution_count": 110
        }
      ]
    },
    {
      "cell_type": "code",
      "metadata": {
        "colab": {
          "base_uri": "https://localhost:8080/"
        },
        "id": "NCcw9RnSsrHa",
        "outputId": "6f6a5306-a244-4fa0-ba83-2b2e39fa4b81"
      },
      "source": [
        "df['label'].unique()"
      ],
      "execution_count": 111,
      "outputs": [
        {
          "output_type": "execute_result",
          "data": {
            "text/plain": [
              "array(['rice', 'maize', 'chickpea', 'kidneybeans', 'pigeonpeas',\n",
              "       'mothbeans', 'mungbean', 'blackgram', 'lentil', 'pomegranate',\n",
              "       'banana', 'mango', 'grapes', 'watermelon', 'muskmelon', 'apple',\n",
              "       'orange', 'papaya', 'coconut', 'cotton', 'jute', 'coffee'],\n",
              "      dtype=object)"
            ]
          },
          "metadata": {},
          "execution_count": 111
        }
      ]
    },
    {
      "cell_type": "code",
      "metadata": {
        "colab": {
          "base_uri": "https://localhost:8080/"
        },
        "id": "pKjedT0OZwvP",
        "outputId": "5d6940f2-8849-4371-9923-de572dff9747"
      },
      "source": [
        "df['label'].value_counts()"
      ],
      "execution_count": 112,
      "outputs": [
        {
          "output_type": "execute_result",
          "data": {
            "text/plain": [
              "banana         100\n",
              "mungbean       100\n",
              "watermelon     100\n",
              "kidneybeans    100\n",
              "lentil         100\n",
              "pomegranate    100\n",
              "blackgram      100\n",
              "apple          100\n",
              "chickpea       100\n",
              "papaya         100\n",
              "mango          100\n",
              "coffee         100\n",
              "coconut        100\n",
              "maize          100\n",
              "orange         100\n",
              "muskmelon      100\n",
              "grapes         100\n",
              "jute           100\n",
              "pigeonpeas     100\n",
              "mothbeans      100\n",
              "cotton         100\n",
              "rice           100\n",
              "Name: label, dtype: int64"
            ]
          },
          "metadata": {},
          "execution_count": 112
        }
      ]
    },
    {
      "cell_type": "markdown",
      "metadata": {
        "id": "_ztY3RPPuNH3"
      },
      "source": [
        "## Outliers\n",
        "\n",
        "Datasets tend to have outliers. Outliers are values which lie lower than Q1 - 1.5*IQR​ or higher than Q3 + 1.5*IQR. Box plots have been used to visualize the presence of outliers​"
      ]
    },
    {
      "cell_type": "code",
      "metadata": {
        "colab": {
          "base_uri": "https://localhost:8080/",
          "height": 282
        },
        "id": "PWHz878-asNh",
        "outputId": "f1182381-cba7-4ba6-964c-3e76764c1613"
      },
      "source": [
        "df.boxplot(column=['N'])"
      ],
      "execution_count": 113,
      "outputs": [
        {
          "output_type": "execute_result",
          "data": {
            "text/plain": [
              "<matplotlib.axes._subplots.AxesSubplot at 0x7f79eb80f110>"
            ]
          },
          "metadata": {},
          "execution_count": 113
        },
        {
          "output_type": "display_data",
          "data": {
            "image/png": "[encoded data removed]",
            "text/plain": [
              "<Figure size 432x288 with 1 Axes>"
            ]
          },
          "metadata": {
            "needs_background": "light"
          }
        }
      ]
    },
    {
      "cell_type": "code",
      "metadata": {
        "colab": {
          "base_uri": "https://localhost:8080/",
          "height": 282
        },
        "id": "L9IiL6r40WJP",
        "outputId": "6da160ed-ea78-4d4b-b6a2-55ce299f741a"
      },
      "source": [
        "df.boxplot(column=['P'])"
      ],
      "execution_count": 114,
      "outputs": [
        {
          "output_type": "execute_result",
          "data": {
            "text/plain": [
              "<matplotlib.axes._subplots.AxesSubplot at 0x7f79eb76f7d0>"
            ]
          },
          "metadata": {},
          "execution_count": 114
        },
        {
          "output_type": "display_data",
          "data": {
            "image/png": "[encoded data removed]",
            "text/plain": [
              "<Figure size 432x288 with 1 Axes>"
            ]
          },
          "metadata": {
            "needs_background": "light"
          }
        }
      ]
    },
    {
      "cell_type": "code",
      "metadata": {
        "colab": {
          "base_uri": "https://localhost:8080/",
          "height": 282
        },
        "id": "wtrLYRz40gpO",
        "outputId": "4b346087-8b1a-448c-86a3-f79358d49cb6"
      },
      "source": [
        "df.boxplot(column=['K'])"
      ],
      "execution_count": 115,
      "outputs": [
        {
          "output_type": "execute_result",
          "data": {
            "text/plain": [
              "<matplotlib.axes._subplots.AxesSubplot at 0x7f79eb6efb90>"
            ]
          },
          "metadata": {},
          "execution_count": 115
        },
        {
          "output_type": "display_data",
          "data": {
            "image/png": "[encoded data removed]",
            "text/plain": [
              "<Figure size 432x288 with 1 Axes>"
            ]
          },
          "metadata": {
            "needs_background": "light"
          }
        }
      ]
    },
    {
      "cell_type": "code",
      "metadata": {
        "colab": {
          "base_uri": "https://localhost:8080/",
          "height": 284
        },
        "id": "Cgh6fTCF0nVP",
        "outputId": "5d8648d8-3e97-46ec-89bb-69e3fd53c407"
      },
      "source": [
        "df.boxplot(column=['temperature'])"
      ],
      "execution_count": 116,
      "outputs": [
        {
          "output_type": "execute_result",
          "data": {
            "text/plain": [
              "<matplotlib.axes._subplots.AxesSubplot at 0x7f79eb662050>"
            ]
          },
          "metadata": {},
          "execution_count": 116
        },
        {
          "output_type": "display_data",
          "data": {
            "image/png": "[encoded data removed]",
            "text/plain": [
              "<Figure size 432x288 with 1 Axes>"
            ]
          },
          "metadata": {
            "needs_background": "light"
          }
        }
      ]
    },
    {
      "cell_type": "code",
      "metadata": {
        "colab": {
          "base_uri": "https://localhost:8080/",
          "height": 282
        },
        "id": "qdf1VYIb0uwQ",
        "outputId": "5260daa5-1e74-4a68-b304-7768c76927f1"
      },
      "source": [
        "df.boxplot(column=['humidity'])"
      ],
      "execution_count": 117,
      "outputs": [
        {
          "output_type": "execute_result",
          "data": {
            "text/plain": [
              "<matplotlib.axes._subplots.AxesSubplot at 0x7f79eb5d4390>"
            ]
          },
          "metadata": {},
          "execution_count": 117
        },
        {
          "output_type": "display_data",
          "data": {
            "image/png": "[encoded data removed]",
            "text/plain": [
              "<Figure size 432x288 with 1 Axes>"
            ]
          },
          "metadata": {
            "needs_background": "light"
          }
        }
      ]
    },
    {
      "cell_type": "code",
      "metadata": {
        "colab": {
          "base_uri": "https://localhost:8080/",
          "height": 282
        },
        "id": "Fp5AGHEE006Z",
        "outputId": "69d77226-84db-4eb0-aaf7-cce89608134a"
      },
      "source": [
        "df.boxplot(column=['ph'])"
      ],
      "execution_count": 118,
      "outputs": [
        {
          "output_type": "execute_result",
          "data": {
            "text/plain": [
              "<matplotlib.axes._subplots.AxesSubplot at 0x7f79eb5b8f10>"
            ]
          },
          "metadata": {},
          "execution_count": 118
        },
        {
          "output_type": "display_data",
          "data": {
            "image/png": "[encoded data removed]",
            "text/plain": [
              "<Figure size 432x288 with 1 Axes>"
            ]
          },
          "metadata": {
            "needs_background": "light"
          }
        }
      ]
    },
    {
      "cell_type": "code",
      "metadata": {
        "colab": {
          "base_uri": "https://localhost:8080/",
          "height": 282
        },
        "id": "U6CCafcm0766",
        "outputId": "46927ba5-66c4-41b1-94ee-78c1dfe228f8"
      },
      "source": [
        "df.boxplot(column=['rainfall'])"
      ],
      "execution_count": 119,
      "outputs": [
        {
          "output_type": "execute_result",
          "data": {
            "text/plain": [
              "<matplotlib.axes._subplots.AxesSubplot at 0x7f79eb52d950>"
            ]
          },
          "metadata": {},
          "execution_count": 119
        },
        {
          "output_type": "display_data",
          "data": {
            "image/png": "[encoded data removed]",
            "text/plain": [
              "<Figure size 432x288 with 1 Axes>"
            ]
          },
          "metadata": {
            "needs_background": "light"
          }
        }
      ]
    },
    {
      "cell_type": "markdown",
      "metadata": {
        "id": "kUjtcFK5utou"
      },
      "source": [
        "## Visualisation\n",
        "\n",
        "Histograms of bin size 10 has been used to visualize the spread and distribution of data.​\n"
      ]
    },
    {
      "cell_type": "code",
      "metadata": {
        "colab": {
          "base_uri": "https://localhost:8080/",
          "height": 282
        },
        "id": "8HInxuSVav3-",
        "outputId": "dd0cb853-1664-424f-febd-4bffeb845d2c"
      },
      "source": [
        "df['N'].hist(bins = 10)\n"
      ],
      "execution_count": 120,
      "outputs": [
        {
          "output_type": "execute_result",
          "data": {
            "text/plain": [
              "<matplotlib.axes._subplots.AxesSubplot at 0x7f79eb49a7d0>"
            ]
          },
          "metadata": {},
          "execution_count": 120
        },
        {
          "output_type": "display_data",
          "data": {
            "image/png": "[encoded data removed]",
            "text/plain": [
              "<Figure size 432x288 with 1 Axes>"
            ]
          },
          "metadata": {
            "needs_background": "light"
          }
        }
      ]
    },
    {
      "cell_type": "code",
      "metadata": {
        "colab": {
          "base_uri": "https://localhost:8080/",
          "height": 282
        },
        "id": "nnBcATopazTA",
        "outputId": "af8c2fa6-a27d-4dd0-9d65-96cb7849f1c0"
      },
      "source": [
        "df['P'].hist(bins = 10)"
      ],
      "execution_count": 121,
      "outputs": [
        {
          "output_type": "execute_result",
          "data": {
            "text/plain": [
              "<matplotlib.axes._subplots.AxesSubplot at 0x7f79eb41bb10>"
            ]
          },
          "metadata": {},
          "execution_count": 121
        },
        {
          "output_type": "display_data",
          "data": {
            "image/png": "[encoded data removed]",
            "text/plain": [
              "<Figure size 432x288 with 1 Axes>"
            ]
          },
          "metadata": {
            "needs_background": "light"
          }
        }
      ]
    },
    {
      "cell_type": "code",
      "metadata": {
        "colab": {
          "base_uri": "https://localhost:8080/",
          "height": 282
        },
        "id": "05tJQt2cazeW",
        "outputId": "abe9fb12-e888-49a3-dedf-ff6fa9b3e70b"
      },
      "source": [
        "df['K'].hist(bins = 10)"
      ],
      "execution_count": 122,
      "outputs": [
        {
          "output_type": "execute_result",
          "data": {
            "text/plain": [
              "<matplotlib.axes._subplots.AxesSubplot at 0x7f79eb48c910>"
            ]
          },
          "metadata": {},
          "execution_count": 122
        },
        {
          "output_type": "display_data",
          "data": {
            "image/png": "[encoded data removed]",
            "text/plain": [
              "<Figure size 432x288 with 1 Axes>"
            ]
          },
          "metadata": {
            "needs_background": "light"
          }
        }
      ]
    },
    {
      "cell_type": "code",
      "metadata": {
        "colab": {
          "base_uri": "https://localhost:8080/",
          "height": 282
        },
        "id": "-lsFGyClrMML",
        "outputId": "c5dca3b9-ae09-4eb3-bcbc-d80394d0316c"
      },
      "source": [
        "df['temperature'].hist(bins = 10)"
      ],
      "execution_count": 123,
      "outputs": [
        {
          "output_type": "execute_result",
          "data": {
            "text/plain": [
              "<matplotlib.axes._subplots.AxesSubplot at 0x7f79eb343950>"
            ]
          },
          "metadata": {},
          "execution_count": 123
        },
        {
          "output_type": "display_data",
          "data": {
            "image/png": "[encoded data removed]",
            "text/plain": [
              "<Figure size 432x288 with 1 Axes>"
            ]
          },
          "metadata": {
            "needs_background": "light"
          }
        }
      ]
    },
    {
      "cell_type": "code",
      "metadata": {
        "colab": {
          "base_uri": "https://localhost:8080/",
          "height": 282
        },
        "id": "QNdk22e0rPDn",
        "outputId": "0d5cee56-b5c6-4830-9492-52b3d42fcaeb"
      },
      "source": [
        "df['humidity'].hist(bins = 10)"
      ],
      "execution_count": 124,
      "outputs": [
        {
          "output_type": "execute_result",
          "data": {
            "text/plain": [
              "<matplotlib.axes._subplots.AxesSubplot at 0x7f79eb265610>"
            ]
          },
          "metadata": {},
          "execution_count": 124
        },
        {
          "output_type": "display_data",
          "data": {
            "image/png": "[encoded data removed]",
            "text/plain": [
              "<Figure size 432x288 with 1 Axes>"
            ]
          },
          "metadata": {
            "needs_background": "light"
          }
        }
      ]
    },
    {
      "cell_type": "code",
      "metadata": {
        "colab": {
          "base_uri": "https://localhost:8080/",
          "height": 282
        },
        "id": "11D9lsUvrVGR",
        "outputId": "bf5f5c55-0d16-4659-a540-2563e17261db"
      },
      "source": [
        "df['ph'].hist(bins = 10)"
      ],
      "execution_count": 125,
      "outputs": [
        {
          "output_type": "execute_result",
          "data": {
            "text/plain": [
              "<matplotlib.axes._subplots.AxesSubplot at 0x7f79eb1dbf90>"
            ]
          },
          "metadata": {},
          "execution_count": 125
        },
        {
          "output_type": "display_data",
          "data": {
            "image/png": "[encoded data removed]",
            "text/plain": [
              "<Figure size 432x288 with 1 Axes>"
            ]
          },
          "metadata": {
            "needs_background": "light"
          }
        }
      ]
    },
    {
      "cell_type": "code",
      "metadata": {
        "colab": {
          "base_uri": "https://localhost:8080/",
          "height": 282
        },
        "id": "_sLTpOVzrXrE",
        "outputId": "9c0496ed-4720-4a6f-baac-24070edbbdc5"
      },
      "source": [
        "df['rainfall'].hist(bins = 10)"
      ],
      "execution_count": 126,
      "outputs": [
        {
          "output_type": "execute_result",
          "data": {
            "text/plain": [
              "<matplotlib.axes._subplots.AxesSubplot at 0x7f79eb178d50>"
            ]
          },
          "metadata": {},
          "execution_count": 126
        },
        {
          "output_type": "display_data",
          "data": {
            "image/png": "[encoded data removed]",
            "text/plain": [
              "<Figure size 432x288 with 1 Axes>"
            ]
          },
          "metadata": {
            "needs_background": "light"
          }
        }
      ]
    },
    {
      "cell_type": "markdown",
      "metadata": {
        "id": "nc_MMu4ttWFC"
      },
      "source": [
        "## Train Test Split\n",
        "\n",
        "Datasets are split into two, Training data and Testing data. ​\n",
        "The training data is used to train the model and the testing data is ​used to test and validate the model. The dataset is divided into two ​in ratio 80/20."
      ]
    },
    {
      "cell_type": "code",
      "metadata": {
        "colab": {
          "base_uri": "https://localhost:8080/",
          "height": 206
        },
        "id": "Y14MKIuFqE4m",
        "outputId": "d325a7d5-6d6f-422c-dd8a-13a87f1a3ff0"
      },
      "source": [
        "X = df.drop(['label'], axis = 1)\n",
        "X.head()"
      ],
      "execution_count": 127,
      "outputs": [
        {
          "output_type": "execute_result",
          "data": {
            "text/html": [
              "\n",
              "  <div id=\"df-078e9355-03e9-4f91-bcbb-b7697f7cc8f6\">\n",
              "    <div class=\"colab-df-container\">\n",
              "      <div>\n",
              "<style scoped>\n",
              "    .dataframe tbody tr th:only-of-type {\n",
              "        vertical-align: middle;\n",
              "    }\n",
              "\n",
              "    .dataframe tbody tr th {\n",
              "        vertical-align: top;\n",
              "    }\n",
              "\n",
              "    .dataframe thead th {\n",
              "        text-align: right;\n",
              "    }\n",
              "</style>\n",
              "<table border=\"1\" class=\"dataframe\">\n",
              "  <thead>\n",
              "    <tr style=\"text-align: right;\">\n",
              "      <th></th>\n",
              "      <th>N</th>\n",
              "      <th>P</th>\n",
              "      <th>K</th>\n",
              "      <th>temperature</th>\n",
              "      <th>humidity</th>\n",
              "      <th>ph</th>\n",
              "      <th>rainfall</th>\n",
              "    </tr>\n",
              "  </thead>\n",
              "  <tbody>\n",
              "    <tr>\n",
              "      <th>0</th>\n",
              "      <td>90</td>\n",
              "      <td>42</td>\n",
              "      <td>43</td>\n",
              "      <td>20.879744</td>\n",
              "      <td>82.002744</td>\n",
              "      <td>6.502985</td>\n",
              "      <td>202.935536</td>\n",
              "    </tr>\n",
              "    <tr>\n",
              "      <th>1</th>\n",
              "      <td>85</td>\n",
              "      <td>58</td>\n",
              "      <td>41</td>\n",
              "      <td>21.770462</td>\n",
              "      <td>80.319644</td>\n",
              "      <td>7.038096</td>\n",
              "      <td>226.655537</td>\n",
              "    </tr>\n",
              "    <tr>\n",
              "      <th>2</th>\n",
              "      <td>60</td>\n",
              "      <td>55</td>\n",
              "      <td>44</td>\n",
              "      <td>23.004459</td>\n",
              "      <td>82.320763</td>\n",
              "      <td>7.840207</td>\n",
              "      <td>263.964248</td>\n",
              "    </tr>\n",
              "    <tr>\n",
              "      <th>3</th>\n",
              "      <td>74</td>\n",
              "      <td>35</td>\n",
              "      <td>40</td>\n",
              "      <td>26.491096</td>\n",
              "      <td>80.158363</td>\n",
              "      <td>6.980401</td>\n",
              "      <td>242.864034</td>\n",
              "    </tr>\n",
              "    <tr>\n",
              "      <th>4</th>\n",
              "      <td>78</td>\n",
              "      <td>42</td>\n",
              "      <td>42</td>\n",
              "      <td>20.130175</td>\n",
              "      <td>81.604873</td>\n",
              "      <td>7.628473</td>\n",
              "      <td>262.717340</td>\n",
              "    </tr>\n",
              "  </tbody>\n",
              "</table>\n",
              "</div>\n",
              "      <button class=\"colab-df-convert\" onclick=\"convertToInteractive('df-078e9355-03e9-4f91-bcbb-b7697f7cc8f6')\"\n",
              "              title=\"Convert this dataframe to an interactive table.\"\n",
              "              style=\"display:none;\">\n",
              "        \n",
              "  <svg xmlns=\"http://www.w3.org/2000/svg\" height=\"24px\"viewBox=\"0 0 24 24\"\n",
              "       width=\"24px\">\n",
              "    <path d=\"M0 0h24v24H0V0z\" fill=\"none\"/>\n",
              "    <path d=\"M18.56 5.44l.94 2.06.94-2.06 2.06-.94-2.06-.94-.94-2.06-.94 2.06-2.06.94zm-11 1L8.5 8.5l.94-2.06 2.06-.94-2.06-.94L8.5 2.5l-.94 2.06-2.06.94zm10 10l.94 2.06.94-2.06 2.06-.94-2.06-.94-.94-2.06-.94 2.06-2.06.94z\"/><path d=\"M17.41 7.96l-1.37-1.37c-.4-.4-.92-.59-1.43-.59-.52 0-1.04.2-1.43.59L10.3 9.45l-7.72 7.72c-.78.78-.78 2.05 0 2.83L4 21.41c.39.39.9.59 1.41.59.51 0 1.02-.2 1.41-.59l7.78-7.78 2.81-2.81c.8-.78.8-2.07 0-2.86zM5.41 20L4 18.59l7.72-7.72 1.47 1.35L5.41 20z\"/>\n",
              "  </svg>\n",
              "      </button>\n",
              "      \n",
              "  <style>\n",
              "    .colab-df-container {\n",
              "      display:flex;\n",
              "      flex-wrap:wrap;\n",
              "      gap: 12px;\n",
              "    }\n",
              "\n",
              "    .colab-df-convert {\n",
              "      background-color: #E8F0FE;\n",
              "      border: none;\n",
              "      border-radius: 50%;\n",
              "      cursor: pointer;\n",
              "      display: none;\n",
              "      fill: #1967D2;\n",
              "      height: 32px;\n",
              "      padding: 0 0 0 0;\n",
              "      width: 32px;\n",
              "    }\n",
              "\n",
              "    .colab-df-convert:hover {\n",
              "      background-color: #E2EBFA;\n",
              "      box-shadow: 0px 1px 2px rgba(60, 64, 67, 0.3), 0px 1px 3px 1px rgba(60, 64, 67, 0.15);\n",
              "      fill: #174EA6;\n",
              "    }\n",
              "\n",
              "    [theme=dark] .colab-df-convert {\n",
              "      background-color: #3B4455;\n",
              "      fill: #D2E3FC;\n",
              "    }\n",
              "\n",
              "    [theme=dark] .colab-df-convert:hover {\n",
              "      background-color: #434B5C;\n",
              "      box-shadow: 0px 1px 3px 1px rgba(0, 0, 0, 0.15);\n",
              "      filter: drop-shadow(0px 1px 2px rgba(0, 0, 0, 0.3));\n",
              "      fill: #FFFFFF;\n",
              "    }\n",
              "  </style>\n",
              "\n",
              "      <script>\n",
              "        const buttonEl =\n",
              "          document.querySelector('#df-078e9355-03e9-4f91-bcbb-b7697f7cc8f6 button.colab-df-convert');\n",
              "        buttonEl.style.display =\n",
              "          google.colab.kernel.accessAllowed ? 'block' : 'none';\n",
              "\n",
              "        async function convertToInteractive(key) {\n",
              "          const element = document.querySelector('#df-078e9355-03e9-4f91-bcbb-b7697f7cc8f6');\n",
              "          const dataTable =\n",
              "            await google.colab.kernel.invokeFunction('convertToInteractive',\n",
              "                                                     [key], {});\n",
              "          if (!dataTable) return;\n",
              "\n",
              "          const docLinkHtml = 'Like what you see? Visit the ' +\n",
              "            '<a target=\"_blank\" href=https://colab.research.google.com/notebooks/data_table.ipynb>data table notebook</a>'\n",
              "            + ' to learn more about interactive tables.';\n",
              "          element.innerHTML = '';\n",
              "          dataTable['output_type'] = 'display_data';\n",
              "          await google.colab.output.renderOutput(dataTable, element);\n",
              "          const docLink = document.createElement('div');\n",
              "          docLink.innerHTML = docLinkHtml;\n",
              "          element.appendChild(docLink);\n",
              "        }\n",
              "      </script>\n",
              "    </div>\n",
              "  </div>\n",
              "  "
            ],
            "text/plain": [
              "    N   P   K  temperature   humidity        ph    rainfall\n",
              "0  90  42  43    20.879744  82.002744  6.502985  202.935536\n",
              "1  85  58  41    21.770462  80.319644  7.038096  226.655537\n",
              "2  60  55  44    23.004459  82.320763  7.840207  263.964248\n",
              "3  74  35  40    26.491096  80.158363  6.980401  242.864034\n",
              "4  78  42  42    20.130175  81.604873  7.628473  262.717340"
            ]
          },
          "metadata": {},
          "execution_count": 127
        }
      ]
    },
    {
      "cell_type": "code",
      "metadata": {
        "colab": {
          "base_uri": "https://localhost:8080/"
        },
        "id": "4J_8nwB1qFsP",
        "outputId": "d422eb36-b6a1-448d-8b1b-49942bee7041"
      },
      "source": [
        "scaler = StandardScaler()\n",
        "X = scaler.fit_transform(X)\n",
        "X"
      ],
      "execution_count": 128,
      "outputs": [
        {
          "output_type": "execute_result",
          "data": {
            "text/plain": [
              "array([[ 1.0687974 , -0.34455075, -0.1016875 , ...,  0.47266646,\n",
              "         0.04330173,  1.8103605 ],\n",
              "       [ 0.93332887,  0.14061552, -0.14118477, ...,  0.39705125,\n",
              "         0.73487256,  2.24205791],\n",
              "       [ 0.25598625,  0.04964684, -0.08193887, ...,  0.48695381,\n",
              "         1.77151047,  2.92106603],\n",
              "       ...,\n",
              "       [ 1.82742114, -0.61745677, -0.35841972, ..., -0.19123516,\n",
              "        -0.13812031,  1.27141766],\n",
              "       [ 1.80032743, -0.64777967, -0.27942519, ..., -0.86951801,\n",
              "         0.37390383,  0.43154519],\n",
              "       [ 1.44810927, -1.07230015, -0.35841972, ..., -0.49802006,\n",
              "         0.40109573,  0.68200518]])"
            ]
          },
          "metadata": {},
          "execution_count": 128
        }
      ]
    },
    {
      "cell_type": "code",
      "metadata": {
        "colab": {
          "base_uri": "https://localhost:8080/"
        },
        "id": "unu4XDowqIUt",
        "outputId": "2027d256-de4e-4901-a15e-46c04c69bd9b"
      },
      "source": [
        "Y = df['label']\n",
        "Y"
      ],
      "execution_count": 129,
      "outputs": [
        {
          "output_type": "execute_result",
          "data": {
            "text/plain": [
              "0         rice\n",
              "1         rice\n",
              "2         rice\n",
              "3         rice\n",
              "4         rice\n",
              "         ...  \n",
              "2195    coffee\n",
              "2196    coffee\n",
              "2197    coffee\n",
              "2198    coffee\n",
              "2199    coffee\n",
              "Name: label, Length: 2200, dtype: object"
            ]
          },
          "metadata": {},
          "execution_count": 129
        }
      ]
    },
    {
      "cell_type": "code",
      "metadata": {
        "id": "iLiaZCedZ8ui"
      },
      "source": [
        "X_train, X_test, y_train, y_test = train_test_split(X,Y, test_size = 0.2, random_state = 42)\n"
      ],
      "execution_count": 130,
      "outputs": []
    },
    {
      "cell_type": "markdown",
      "metadata": {
        "id": "ch9yjCQWpkjf"
      },
      "source": [
        "# Training Models"
      ]
    },
    {
      "cell_type": "markdown",
      "metadata": {
        "id": "GGqFYTuwqb6y"
      },
      "source": [
        "## KNN"
      ]
    },
    {
      "cell_type": "code",
      "metadata": {
        "colab": {
          "base_uri": "https://localhost:8080/"
        },
        "id": "uuOHnHxhpjdg",
        "outputId": "edc9a82e-3af2-4f20-f9ac-1c3acaf41201"
      },
      "source": [
        "k = ceil(sqrt(len(X_train)) / 2) \n",
        "KNN_model = KNeighborsClassifier(n_neighbors = k)\n",
        "KNN_model.fit(X_train, y_train)"
      ],
      "execution_count": 131,
      "outputs": [
        {
          "output_type": "execute_result",
          "data": {
            "text/plain": [
              "KNeighborsClassifier(n_neighbors=21)"
            ]
          },
          "metadata": {},
          "execution_count": 131
        }
      ]
    },
    {
      "cell_type": "code",
      "metadata": {
        "id": "vYbFrcqcqh87"
      },
      "source": [
        "y_pred = KNN_model.predict(X_test)"
      ],
      "execution_count": 132,
      "outputs": []
    },
    {
      "cell_type": "code",
      "metadata": {
        "colab": {
          "base_uri": "https://localhost:8080/"
        },
        "id": "71UCkjjjqkRr",
        "outputId": "74ea79a4-5acc-4584-9c4b-5e5499d26509"
      },
      "source": [
        "KNN_score = KNN_model.score(X_test, y_test)\n",
        "KNN_score"
      ],
      "execution_count": 133,
      "outputs": [
        {
          "output_type": "execute_result",
          "data": {
            "text/plain": [
              "0.9227272727272727"
            ]
          },
          "metadata": {},
          "execution_count": 133
        }
      ]
    },
    {
      "cell_type": "code",
      "metadata": {
        "colab": {
          "base_uri": "https://localhost:8080/"
        },
        "id": "h1aIIefbqmnU",
        "outputId": "f1647ebb-1bec-4f36-c367-9e0af249bf14"
      },
      "source": [
        "KNN_precision = precision_score(y_test, y_pred, average = 'macro')\n",
        "KNN_precision"
      ],
      "execution_count": 134,
      "outputs": [
        {
          "output_type": "execute_result",
          "data": {
            "text/plain": [
              "0.9317610509896959"
            ]
          },
          "metadata": {},
          "execution_count": 134
        }
      ]
    },
    {
      "cell_type": "code",
      "metadata": {
        "colab": {
          "base_uri": "https://localhost:8080/"
        },
        "id": "_kGpz5Q8qqIb",
        "outputId": "bd1356ee-9da7-4869-8903-8b92762743c3"
      },
      "source": [
        "KNN_recall = recall_score(y_test, y_pred, average='macro')\n",
        "KNN_recall"
      ],
      "execution_count": 135,
      "outputs": [
        {
          "output_type": "execute_result",
          "data": {
            "text/plain": [
              "0.9263448961860593"
            ]
          },
          "metadata": {},
          "execution_count": 135
        }
      ]
    },
    {
      "cell_type": "code",
      "metadata": {
        "colab": {
          "base_uri": "https://localhost:8080/"
        },
        "id": "GJ_kkauZqrjN",
        "outputId": "535be65c-5f21-4d14-9aba-50c0a5abc0bf"
      },
      "source": [
        "KNN_f1 = f1_score(y_test,y_pred,average= 'macro')\n",
        "KNN_f1"
      ],
      "execution_count": 136,
      "outputs": [
        {
          "output_type": "execute_result",
          "data": {
            "text/plain": [
              "0.9192345410962066"
            ]
          },
          "metadata": {},
          "execution_count": 136
        }
      ]
    },
    {
      "cell_type": "code",
      "metadata": {
        "colab": {
          "base_uri": "https://localhost:8080/"
        },
        "id": "6AJt_BvDqtND",
        "outputId": "fd26549c-208b-436f-c0d1-8c042799f65d"
      },
      "source": [
        "KNN_confusion = confusion_matrix(y_test, y_pred)\n",
        "print(KNN_confusion)"
      ],
      "execution_count": 137,
      "outputs": [
        {
          "output_type": "stream",
          "name": "stdout",
          "text": [
            "[[23  0  0  0  0  0  0  0  0  0  0  0  0  0  0  0  0  0  0  0  0  0]\n",
            " [ 0 21  0  0  0  0  0  0  0  0  0  0  0  0  0  0  0  0  0  0  0  0]\n",
            " [ 0  0 18  0  0  0  0  0  0  0  2  0  0  0  0  0  0  0  0  0  0  0]\n",
            " [ 0  0  0 26  0  0  0  0  0  0  0  0  0  0  0  0  0  0  0  0  0  0]\n",
            " [ 0  0  0  0 27  0  0  0  0  0  0  0  0  0  0  0  0  0  0  0  0  0]\n",
            " [ 0  0  0  0  0 16  0  0  1  0  0  0  0  0  0  0  0  0  0  0  0  0]\n",
            " [ 0  0  0  0  0  0 17  0  0  0  0  0  0  0  0  0  0  0  0  0  0  0]\n",
            " [ 0  0  0  0  0  0  0 14  0  0  0  0  0  0  0  0  0  0  0  0  0  0]\n",
            " [ 0  0  0  0  0  0  0  0 23  0  0  0  0  0  0  0  0  0  0  0  0  0]\n",
            " [ 0  0  0  0  0  0  0  0  0 20  0  0  0  0  0  0  0  0  0  0  0  0]\n",
            " [ 0  0  0  0  0  0  0  0  0  0 11  0  0  0  0  0  0  0  0  0  0  0]\n",
            " [ 0  0  0  0  0  0  2  0  0  0  0 19  0  0  0  0  0  0  0  0  0  0]\n",
            " [ 0  0  0  0  0  0  0  0  0  0  0  0 19  0  0  0  0  0  0  0  0  0]\n",
            " [ 0  0  2  0  0  0  0  0  0  0  4  0  2 16  0  0  0  0  0  0  0  0]\n",
            " [ 0  0  0  0  0  0  0  0  0  0  0  0  0  0 19  0  0  0  0  0  0  0]\n",
            " [ 0  0  0  0  0  0  0  0  0  0  0  0  0  0  0 17  0  0  0  0  0  0]\n",
            " [ 0  0  0  0  1  0  0  0  0  0  0  0  0  0  0  0 12  0  0  1  0  0]\n",
            " [ 0  0  0  0  0  0  0  0  1  0  0  0  0  0  0  0  0 21  0  0  1  0]\n",
            " [ 0  0  2  0  0  0  0  0  0  2  1  0  4  1  0  0  0  0 13  0  0  0]\n",
            " [ 0  0  0  0  0  0  0  0  0  0  0  0  0  0  0  0  0  0  0 23  0  0]\n",
            " [ 0  0  0  0  0  0  0  0  7  0  0  0  0  0  0  0  0  0  0  0 12  0]\n",
            " [ 0  0  0  0  0  0  0  0  0  0  0  0  0  0  0  0  0  0  0  0  0 19]]\n"
          ]
        }
      ]
    },
    {
      "cell_type": "markdown",
      "metadata": {
        "id": "E4wjgb_drrB6"
      },
      "source": [
        "## Gaussian Naive Bayes"
      ]
    },
    {
      "cell_type": "code",
      "metadata": {
        "id": "i0-vIUaAvFB2"
      },
      "source": [
        "from sklearn.naive_bayes import GaussianNB\n",
        "NaiveBayes = GaussianNB()\n",
        "NaiveBayes.fit(X_train,y_train)\n",
        "predicted_values = NaiveBayes.predict(X_test)"
      ],
      "execution_count": 138,
      "outputs": []
    },
    {
      "cell_type": "code",
      "metadata": {
        "colab": {
          "base_uri": "https://localhost:8080/"
        },
        "id": "oNp9KBz03DJI",
        "outputId": "81ac1f10-9196-4fb7-895c-f3ea3b180317"
      },
      "source": [
        "NaiveBayes.score(X_test, y_test)"
      ],
      "execution_count": 139,
      "outputs": [
        {
          "output_type": "execute_result",
          "data": {
            "text/plain": [
              "0.9954545454545455"
            ]
          },
          "metadata": {},
          "execution_count": 139
        }
      ]
    },
    {
      "cell_type": "code",
      "metadata": {
        "colab": {
          "base_uri": "https://localhost:8080/"
        },
        "id": "btCN4oRz3Jxh",
        "outputId": "5e43b6c3-9c99-491f-90f1-16e5932658fc"
      },
      "source": [
        "NaiveBayes_precision = precision_score(y_test, predicted_values, average = 'macro')\n",
        "NaiveBayes_precision"
      ],
      "execution_count": 140,
      "outputs": [
        {
          "output_type": "execute_result",
          "data": {
            "text/plain": [
              "0.9963636363636365"
            ]
          },
          "metadata": {},
          "execution_count": 140
        }
      ]
    },
    {
      "cell_type": "code",
      "metadata": {
        "colab": {
          "base_uri": "https://localhost:8080/"
        },
        "id": "cmJNtPdk3TXZ",
        "outputId": "e998ec8f-2cbd-4131-a2f6-00b6e449c973"
      },
      "source": [
        "NaiveBayes_recall = recall_score(y_test, predicted_values, average='macro')\n",
        "NaiveBayes_recall"
      ],
      "execution_count": 141,
      "outputs": [
        {
          "output_type": "execute_result",
          "data": {
            "text/plain": [
              "0.9952153110047847"
            ]
          },
          "metadata": {},
          "execution_count": 141
        }
      ]
    },
    {
      "cell_type": "code",
      "metadata": {
        "colab": {
          "base_uri": "https://localhost:8080/"
        },
        "id": "3KPGQqLF3bTG",
        "outputId": "3da11765-2e09-4168-a3f6-5b68bfb22b17"
      },
      "source": [
        "NaiveBayes_f1 = f1_score(y_test,predicted_values,average= 'macro')\n",
        "NaiveBayes_f1"
      ],
      "execution_count": 142,
      "outputs": [
        {
          "output_type": "execute_result",
          "data": {
            "text/plain": [
              "0.9955808080808081"
            ]
          },
          "metadata": {},
          "execution_count": 142
        }
      ]
    },
    {
      "cell_type": "code",
      "metadata": {
        "colab": {
          "base_uri": "https://localhost:8080/"
        },
        "id": "rqKQyQEl3lVg",
        "outputId": "86324157-294f-4a55-afe7-473f3c80f2b3"
      },
      "source": [
        "NaiveBayes_confusion = confusion_matrix(y_test, predicted_values)\n",
        "print(NaiveBayes_confusion)"
      ],
      "execution_count": 143,
      "outputs": [
        {
          "output_type": "stream",
          "name": "stdout",
          "text": [
            "[[23  0  0  0  0  0  0  0  0  0  0  0  0  0  0  0  0  0  0  0  0  0]\n",
            " [ 0 21  0  0  0  0  0  0  0  0  0  0  0  0  0  0  0  0  0  0  0  0]\n",
            " [ 0  0 20  0  0  0  0  0  0  0  0  0  0  0  0  0  0  0  0  0  0  0]\n",
            " [ 0  0  0 26  0  0  0  0  0  0  0  0  0  0  0  0  0  0  0  0  0  0]\n",
            " [ 0  0  0  0 27  0  0  0  0  0  0  0  0  0  0  0  0  0  0  0  0  0]\n",
            " [ 0  0  0  0  0 17  0  0  0  0  0  0  0  0  0  0  0  0  0  0  0  0]\n",
            " [ 0  0  0  0  0  0 17  0  0  0  0  0  0  0  0  0  0  0  0  0  0  0]\n",
            " [ 0  0  0  0  0  0  0 14  0  0  0  0  0  0  0  0  0  0  0  0  0  0]\n",
            " [ 0  0  0  0  0  0  0  0 23  0  0  0  0  0  0  0  0  0  0  0  0  0]\n",
            " [ 0  0  0  0  0  0  0  0  0 20  0  0  0  0  0  0  0  0  0  0  0  0]\n",
            " [ 0  0  0  0  0  0  0  0  0  0 11  0  0  0  0  0  0  0  0  0  0  0]\n",
            " [ 0  0  0  0  0  0  0  0  0  0  0 21  0  0  0  0  0  0  0  0  0  0]\n",
            " [ 0  0  0  0  0  0  0  0  0  0  0  0 19  0  0  0  0  0  0  0  0  0]\n",
            " [ 0  0  0  0  0  0  0  0  0  0  0  0  0 24  0  0  0  0  0  0  0  0]\n",
            " [ 0  0  0  0  0  0  0  0  0  0  0  0  0  0 19  0  0  0  0  0  0  0]\n",
            " [ 0  0  0  0  0  0  0  0  0  0  0  0  0  0  0 17  0  0  0  0  0  0]\n",
            " [ 0  0  0  0  0  0  0  0  0  0  0  0  0  0  0  0 14  0  0  0  0  0]\n",
            " [ 0  0  0  0  0  0  0  0  0  0  0  0  0  0  0  0  0 23  0  0  0  0]\n",
            " [ 0  0  0  0  0  0  0  0  0  0  0  0  0  0  0  0  0  0 23  0  0  0]\n",
            " [ 0  0  0  0  0  0  0  0  0  0  0  0  0  0  0  0  0  0  0 23  0  0]\n",
            " [ 0  0  0  0  0  0  0  0  2  0  0  0  0  0  0  0  0  0  0  0 17  0]\n",
            " [ 0  0  0  0  0  0  0  0  0  0  0  0  0  0  0  0  0  0  0  0  0 19]]\n"
          ]
        }
      ]
    },
    {
      "cell_type": "markdown",
      "metadata": {
        "id": "70GWfvn9r67U"
      },
      "source": [
        "## Decision tree"
      ]
    },
    {
      "cell_type": "code",
      "metadata": {
        "id": "ddpb1Cxi9KYr"
      },
      "source": [
        "from sklearn import tree\n",
        "model=tree.DecisionTreeClassifier(criterion=\"entropy\")\n",
        "model.fit(X_train,y_train)\n",
        "y_pred=model.predict(X_test)\n"
      ],
      "execution_count": 144,
      "outputs": []
    },
    {
      "cell_type": "code",
      "metadata": {
        "colab": {
          "base_uri": "https://localhost:8080/"
        },
        "id": "4AlGT8zs-KJg",
        "outputId": "6f91ecba-5165-4e2c-8730-f982e86ba891"
      },
      "source": [
        "y_pred=model.predict(X_test)\n",
        "cm=confusion_matrix(y_test,y_pred)\n",
        "print(cm)"
      ],
      "execution_count": 145,
      "outputs": [
        {
          "output_type": "stream",
          "name": "stdout",
          "text": [
            "[[23  0  0  0  0  0  0  0  0  0  0  0  0  0  0  0  0  0  0  0  0  0]\n",
            " [ 0 21  0  0  0  0  0  0  0  0  0  0  0  0  0  0  0  0  0  0  0  0]\n",
            " [ 0  0 20  0  0  0  0  0  0  0  0  0  0  0  0  0  0  0  0  0  0  0]\n",
            " [ 0  0  0 26  0  0  0  0  0  0  0  0  0  0  0  0  0  0  0  0  0  0]\n",
            " [ 0  0  0  0 26  0  0  0  1  0  0  0  0  0  0  0  0  0  0  0  0  0]\n",
            " [ 0  0  0  0  0 17  0  0  0  0  0  0  0  0  0  0  0  0  0  0  0  0]\n",
            " [ 0  0  0  0  0  0 17  0  0  0  0  0  0  0  0  0  0  0  0  0  0  0]\n",
            " [ 0  0  0  0  0  0  0 14  0  0  0  0  0  0  0  0  0  0  0  0  0  0]\n",
            " [ 0  0  0  0  0  0  0  0 21  0  0  0  0  0  0  0  0  0  0  0  2  0]\n",
            " [ 0  0  0  0  0  0  0  0  0 19  0  0  0  1  0  0  0  0  0  0  0  0]\n",
            " [ 0  0  0  0  0  0  0  0  0  0 11  0  0  0  0  0  0  0  0  0  0  0]\n",
            " [ 0  0  0  0  0  0  0  0  0  0  0 21  0  0  0  0  0  0  0  0  0  0]\n",
            " [ 0  0  0  0  0  0  0  0  0  0  0  0 19  0  0  0  0  0  0  0  0  0]\n",
            " [ 0  0  0  0  0  0  0  0  0  0  1  0  0 23  0  0  0  0  0  0  0  0]\n",
            " [ 0  0  0  0  0  0  0  0  0  0  0  0  0  0 19  0  0  0  0  0  0  0]\n",
            " [ 0  0  0  0  0  0  0  0  0  0  0  0  0  0  0 17  0  0  0  0  0  0]\n",
            " [ 0  0  0  0  0  0  0  0  0  0  0  0  0  0  0  0 14  0  0  0  0  0]\n",
            " [ 0  0  0  0  0  0  0  0  0  0  0  0  0  0  0  0  0 23  0  0  0  0]\n",
            " [ 0  0  0  0  0  0  0  0  0  0  0  0  0  0  0  0  0  0 23  0  0  0]\n",
            " [ 0  0  0  0  0  0  0  0  0  0  0  0  0  0  0  0  0  0  0 23  0  0]\n",
            " [ 0  0  0  0  0  0  0  0  3  0  0  0  0  0  0  0  0  0  0  1 15  0]\n",
            " [ 0  0  0  0  0  0  0  0  0  0  0  0  0  0  0  0  0  0  0  0  0 19]]\n"
          ]
        }
      ]
    },
    {
      "cell_type": "code",
      "metadata": {
        "colab": {
          "base_uri": "https://localhost:8080/"
        },
        "id": "pd_m20m_-WP7",
        "outputId": "e50f6895-8b08-410e-abc5-513deec2440f"
      },
      "source": [
        "print(\"Classification Metrices : \")\n",
        "\n",
        "print(\"Accuracy:\",accuracy_score(y_test, y_pred))\n",
        "dt_a = accuracy_score(y_test, y_pred)\n",
        "\n",
        "print(\"F1 Score:\",f1_score(y_test, y_pred, average='weighted'))\n",
        "dt_f = f1_score(y_test, y_pred, average='weighted')\n",
        "\n",
        "print(\"Precision: \",precision_score(y_test,y_pred, average='weighted'))\n",
        "dt_p = precision_score(y_test,y_pred, average='weighted')\n",
        "\n",
        "print(\"Recall: \",recall_score(y_test,y_pred,average = 'weighted'))\n",
        "dt_r = recall_score(y_test,y_pred,average = 'weighted')"
      ],
      "execution_count": 146,
      "outputs": [
        {
          "output_type": "stream",
          "name": "stdout",
          "text": [
            "Classification Metrices : \n",
            "Accuracy: 0.9795454545454545\n",
            "F1 Score: 0.9794737642876267\n",
            "Precision:  0.9800220588235293\n",
            "Recall:  0.9795454545454545\n"
          ]
        }
      ]
    },
    {
      "cell_type": "code",
      "metadata": {
        "colab": {
          "base_uri": "https://localhost:8080/",
          "height": 514
        },
        "id": "AK2Riz4n-2eK",
        "outputId": "0b874e25-6bbe-4020-993c-48aaefb64bb1"
      },
      "source": [
        "plt.figure(figsize=(10,8)) \n",
        "sns.heatmap(cm, annot=True) \n",
        "plt.xlabel('Predicted') \n",
        "plt.ylabel('Actual')"
      ],
      "execution_count": 147,
      "outputs": [
        {
          "output_type": "execute_result",
          "data": {
            "text/plain": [
              "Text(69.0, 0.5, 'Actual')"
            ]
          },
          "metadata": {},
          "execution_count": 147
        },
        {
          "output_type": "display_data",
          "data": {
            "image/png": "[encoded data removed]",
            "text/plain": [
              "<Figure size 720x576 with 2 Axes>"
            ]
          },
          "metadata": {
            "needs_background": "light"
          }
        }
      ]
    },
    {
      "cell_type": "code",
      "metadata": {
        "colab": {
          "base_uri": "https://localhost:8080/",
          "height": 1000
        },
        "id": "v_EhxI8Y_BpO",
        "outputId": "12a4d5c3-2dec-407d-fd47-8c7693f17de3"
      },
      "source": [
        "import graphviz\n",
        "# DOT data\n",
        "dot_data = tree.export_graphviz(model, filled=True, rounded=True,special_characters=True,)\n",
        "graph = graphviz.Source(dot_data,format=\"png\") \n",
        "graph"
      ],
      "execution_count": 148,
      "outputs": [
        {
          "output_type": "execute_result",
          "data": {
            "text/plain": [
              "<graphviz.files.Source at 0x7f79eafe3a10>"
            ],
            "image/svg+xml": "<?xml version=\"1.0\" encoding=\"UTF-8\" standalone=\"no\"?>\n<!DOCTYPE svg PUBLIC \"-//W3C//DTD SVG 1.1//EN\"\n \"http://www.w3.org/Graphics/SVG/1.1/DTD/svg11.dtd\">\n<!-- Generated by graphviz version 2.40.1 (20161225.0304)\n -->\n<!-- Title: Tree Pages: 1 -->\n<svg width=\"6773pt\" height=\"1330pt\"\n viewBox=\"0.00 0.00 6772.50 1330.00\" xmlns=\"http://www.w3.org/2000/svg\" xmlns:xlink=\"http://www.w3.org/1999/xlink\">\n<g id=\"graph0\" class=\"graph\" transform=\"scale(1 1) rotate(0) translate(4 1326)\">\n<title>Tree</title>\n<polygon fill=\"#ffffff\" stroke=\"transparent\" points=\"-4,4 -4,-1326 6768.5,-1326 6768.5,4 -4,4\"/>\n<!-- 0 -->\n<g id=\"node1\" class=\"node\">\n<title>0</title>\n<path fill=\"#ffffff\" stroke=\"#000000\" d=\"M4329.5,-1322C4329.5,-1322 4001.5,-1322 4001.5,-1322 3995.5,-1322 3989.5,-1316 3989.5,-1310 3989.5,-1310 3989.5,-1256 3989.5,-1256 3989.5,-1250 3995.5,-1244 4001.5,-1244 4001.5,-1244 4329.5,-1244 4329.5,-1244 4335.5,-1244 4341.5,-1250 4341.5,-1256 4341.5,-1256 4341.5,-1310 4341.5,-1310 4341.5,-1316 4335.5,-1322 4329.5,-1322\"/>\n<text text-anchor=\"start\" x=\"4132.5\" y=\"-1307.8\" font-family=\"Helvetica,sans-Serif\" font-size=\"14.00\" fill=\"#000000\">X</text>\n<text text-anchor=\"start\" x=\"4142.5\" y=\"-1307.8\" font-family=\"Helvetica,sans-Serif\" baseline-shift=\"sub\" font-size=\"14.00\" fill=\"#000000\">2</text>\n<text text-anchor=\"start\" x=\"4149.5\" y=\"-1307.8\" font-family=\"Helvetica,sans-Serif\" font-size=\"14.00\" fill=\"#000000\"> ≤ &#45;0.25</text>\n<text text-anchor=\"start\" x=\"4114.5\" y=\"-1293.8\" font-family=\"Helvetica,sans-Serif\" font-size=\"14.00\" fill=\"#000000\">entropy = 4.458</text>\n<text text-anchor=\"start\" x=\"4113.5\" y=\"-1279.8\" font-family=\"Helvetica,sans-Serif\" font-size=\"14.00\" fill=\"#000000\">samples = 1760</text>\n<text text-anchor=\"start\" x=\"3997.5\" y=\"-1265.8\" font-family=\"Helvetica,sans-Serif\" font-size=\"14.00\" fill=\"#000000\">value = [77, 79, 80, 74, 73, 83, 83, 86, 77, 80, 89, 79</text>\n<text text-anchor=\"start\" x=\"4047\" y=\"-1251.8\" font-family=\"Helvetica,sans-Serif\" font-size=\"14.00\" fill=\"#000000\">81, 76, 81, 83, 86, 77, 77, 77, 81, 81]</text>\n</g>\n<!-- 1 -->\n<g id=\"node2\" class=\"node\">\n<title>1</title>\n<path fill=\"#feffff\" stroke=\"#000000\" d=\"M3548,-1208C3548,-1208 3237,-1208 3237,-1208 3231,-1208 3225,-1202 3225,-1196 3225,-1196 3225,-1142 3225,-1142 3225,-1136 3231,-1130 3237,-1130 3237,-1130 3548,-1130 3548,-1130 3554,-1130 3560,-1136 3560,-1142 3560,-1142 3560,-1196 3560,-1196 3560,-1202 3554,-1208 3548,-1208\"/>\n<text text-anchor=\"start\" x=\"3358\" y=\"-1193.8\" font-family=\"Helvetica,sans-Serif\" font-size=\"14.00\" fill=\"#000000\">X</text>\n<text text-anchor=\"start\" x=\"3368\" y=\"-1193.8\" font-family=\"Helvetica,sans-Serif\" baseline-shift=\"sub\" font-size=\"14.00\" fill=\"#000000\">4</text>\n<text text-anchor=\"start\" x=\"3375\" y=\"-1193.8\" font-family=\"Helvetica,sans-Serif\" font-size=\"14.00\" fill=\"#000000\"> ≤ 0.154</text>\n<text text-anchor=\"start\" x=\"3341.5\" y=\"-1179.8\" font-family=\"Helvetica,sans-Serif\" font-size=\"14.00\" fill=\"#000000\">entropy = 3.663</text>\n<text text-anchor=\"start\" x=\"3344.5\" y=\"-1165.8\" font-family=\"Helvetica,sans-Serif\" font-size=\"14.00\" fill=\"#000000\">samples = 983</text>\n<text text-anchor=\"start\" x=\"3233\" y=\"-1151.8\" font-family=\"Helvetica,sans-Serif\" font-size=\"14.00\" fill=\"#000000\">value = [0, 0, 80, 0, 73, 83, 83, 0, 9, 80, 89, 79, 81</text>\n<text text-anchor=\"start\" x=\"3306.5\" y=\"-1137.8\" font-family=\"Helvetica,sans-Serif\" font-size=\"14.00\" fill=\"#000000\">76, 81, 0, 86, 0, 77, 3, 3, 0]</text>\n</g>\n<!-- 0&#45;&gt;1 -->\n<g id=\"edge1\" class=\"edge\">\n<title>0&#45;&gt;1</title>\n<path fill=\"none\" stroke=\"#000000\" d=\"M3989.1271,-1256.989C3863.7464,-1238.4982 3695.979,-1213.7563 3570.2822,-1195.2189\"/>\n<polygon fill=\"#000000\" stroke=\"#000000\" points=\"3570.568,-1191.7232 3560.1644,-1193.7267 3569.5467,-1198.6483 3570.568,-1191.7232\"/>\n<text text-anchor=\"middle\" x=\"3575.0737\" y=\"-1210.0944\" font-family=\"Helvetica,sans-Serif\" font-size=\"14.00\" fill=\"#000000\">True</text>\n</g>\n<!-- 48 -->\n<g id=\"node49\" class=\"node\">\n<title>48</title>\n<path fill=\"#fefffe\" stroke=\"#000000\" d=\"M4766.5,-1208C4766.5,-1208 4480.5,-1208 4480.5,-1208 4474.5,-1208 4468.5,-1202 4468.5,-1196 4468.5,-1196 4468.5,-1142 4468.5,-1142 4468.5,-1136 4474.5,-1130 4480.5,-1130 4480.5,-1130 4766.5,-1130 4766.5,-1130 4772.5,-1130 4778.5,-1136 4778.5,-1142 4778.5,-1142 4778.5,-1196 4778.5,-1196 4778.5,-1202 4772.5,-1208 4766.5,-1208\"/>\n<text text-anchor=\"start\" x=\"4589\" y=\"-1193.8\" font-family=\"Helvetica,sans-Serif\" font-size=\"14.00\" fill=\"#000000\">X</text>\n<text text-anchor=\"start\" x=\"4599\" y=\"-1193.8\" font-family=\"Helvetica,sans-Serif\" baseline-shift=\"sub\" font-size=\"14.00\" fill=\"#000000\">0</text>\n<text text-anchor=\"start\" x=\"4606\" y=\"-1193.8\" font-family=\"Helvetica,sans-Serif\" font-size=\"14.00\" fill=\"#000000\"> ≤ 0.242</text>\n<text text-anchor=\"start\" x=\"4572.5\" y=\"-1179.8\" font-family=\"Helvetica,sans-Serif\" font-size=\"14.00\" fill=\"#000000\">entropy = 3.319</text>\n<text text-anchor=\"start\" x=\"4575.5\" y=\"-1165.8\" font-family=\"Helvetica,sans-Serif\" font-size=\"14.00\" fill=\"#000000\">samples = 777</text>\n<text text-anchor=\"start\" x=\"4476.5\" y=\"-1151.8\" font-family=\"Helvetica,sans-Serif\" font-size=\"14.00\" fill=\"#000000\">value = [77, 79, 0, 74, 0, 0, 0, 86, 68, 0, 0, 0, 0</text>\n<text text-anchor=\"start\" x=\"4533.5\" y=\"-1137.8\" font-family=\"Helvetica,sans-Serif\" font-size=\"14.00\" fill=\"#000000\">0, 0, 83, 0, 77, 0, 74, 78, 81]</text>\n</g>\n<!-- 0&#45;&gt;48 -->\n<g id=\"edge48\" class=\"edge\">\n<title>0&#45;&gt;48</title>\n<path fill=\"none\" stroke=\"#000000\" d=\"M4322.4768,-1243.9272C4366.2918,-1233.0213 4414.0231,-1221.1405 4458.297,-1210.1204\"/>\n<polygon fill=\"#000000\" stroke=\"#000000\" points=\"4459.4214,-1213.4474 4468.2799,-1207.6356 4457.7306,-1206.6547 4459.4214,-1213.4474\"/>\n<text text-anchor=\"middle\" x=\"4455.3955\" y=\"-1225.3597\" font-family=\"Helvetica,sans-Serif\" font-size=\"14.00\" fill=\"#000000\">False</text>\n</g>\n<!-- 2 -->\n<g id=\"node3\" class=\"node\">\n<title>2</title>\n<path fill=\"#fdfeff\" stroke=\"#000000\" d=\"M2616.5,-1094C2616.5,-1094 2322.5,-1094 2322.5,-1094 2316.5,-1094 2310.5,-1088 2310.5,-1082 2310.5,-1082 2310.5,-1028 2310.5,-1028 2310.5,-1022 2316.5,-1016 2322.5,-1016 2322.5,-1016 2616.5,-1016 2616.5,-1016 2622.5,-1016 2628.5,-1022 2628.5,-1028 2628.5,-1028 2628.5,-1082 2628.5,-1082 2628.5,-1088 2622.5,-1094 2616.5,-1094\"/>\n<text text-anchor=\"start\" x=\"2435\" y=\"-1079.8\" font-family=\"Helvetica,sans-Serif\" font-size=\"14.00\" fill=\"#000000\">X</text>\n<text text-anchor=\"start\" x=\"2445\" y=\"-1079.8\" font-family=\"Helvetica,sans-Serif\" baseline-shift=\"sub\" font-size=\"14.00\" fill=\"#000000\">0</text>\n<text text-anchor=\"start\" x=\"2452\" y=\"-1079.8\" font-family=\"Helvetica,sans-Serif\" font-size=\"14.00\" fill=\"#000000\"> ≤ 0.242</text>\n<text text-anchor=\"start\" x=\"2422.5\" y=\"-1065.8\" font-family=\"Helvetica,sans-Serif\" font-size=\"14.00\" fill=\"#000000\">entropy = 3.01</text>\n<text text-anchor=\"start\" x=\"2421.5\" y=\"-1051.8\" font-family=\"Helvetica,sans-Serif\" font-size=\"14.00\" fill=\"#000000\">samples = 646</text>\n<text text-anchor=\"start\" x=\"2318.5\" y=\"-1037.8\" font-family=\"Helvetica,sans-Serif\" font-size=\"14.00\" fill=\"#000000\">value = [0, 0, 80, 0, 0, 83, 0, 0, 1, 80, 89, 79, 81</text>\n<text text-anchor=\"start\" x=\"2392\" y=\"-1023.8\" font-family=\"Helvetica,sans-Serif\" font-size=\"14.00\" fill=\"#000000\">76, 0, 0, 0, 0, 77, 0, 0, 0]</text>\n</g>\n<!-- 1&#45;&gt;2 -->\n<g id=\"edge2\" class=\"edge\">\n<title>1&#45;&gt;2</title>\n<path fill=\"none\" stroke=\"#000000\" d=\"M3224.8165,-1148.2894C3058.7302,-1127.776 2805.7324,-1096.5282 2639.0118,-1075.9365\"/>\n<polygon fill=\"#000000\" stroke=\"#000000\" points=\"2639.0085,-1072.4095 2628.6549,-1074.6573 2638.1504,-1079.3567 2639.0085,-1072.4095\"/>\n</g>\n<!-- 31 -->\n<g id=\"node32\" class=\"node\">\n<title>31</title>\n<path fill=\"#fefdff\" stroke=\"#000000\" d=\"M3531,-1094C3531,-1094 3254,-1094 3254,-1094 3248,-1094 3242,-1088 3242,-1082 3242,-1082 3242,-1028 3242,-1028 3242,-1022 3248,-1016 3254,-1016 3254,-1016 3531,-1016 3531,-1016 3537,-1016 3543,-1022 3543,-1028 3543,-1028 3543,-1082 3543,-1082 3543,-1088 3537,-1094 3531,-1094\"/>\n<text text-anchor=\"start\" x=\"3355.5\" y=\"-1079.8\" font-family=\"Helvetica,sans-Serif\" font-size=\"14.00\" fill=\"#000000\">X</text>\n<text text-anchor=\"start\" x=\"3365.5\" y=\"-1079.8\" font-family=\"Helvetica,sans-Serif\" baseline-shift=\"sub\" font-size=\"14.00\" fill=\"#000000\">6</text>\n<text text-anchor=\"start\" x=\"3372.5\" y=\"-1079.8\" font-family=\"Helvetica,sans-Serif\" font-size=\"14.00\" fill=\"#000000\"> ≤ &#45;0.062</text>\n<text text-anchor=\"start\" x=\"3341.5\" y=\"-1065.8\" font-family=\"Helvetica,sans-Serif\" font-size=\"14.00\" fill=\"#000000\">entropy = 2.222</text>\n<text text-anchor=\"start\" x=\"3344.5\" y=\"-1051.8\" font-family=\"Helvetica,sans-Serif\" font-size=\"14.00\" fill=\"#000000\">samples = 337</text>\n<text text-anchor=\"start\" x=\"3250\" y=\"-1037.8\" font-family=\"Helvetica,sans-Serif\" font-size=\"14.00\" fill=\"#000000\">value = [0, 0, 0, 0, 73, 0, 83, 0, 8, 0, 0, 0, 0, 0</text>\n<text text-anchor=\"start\" x=\"3323\" y=\"-1023.8\" font-family=\"Helvetica,sans-Serif\" font-size=\"14.00\" fill=\"#000000\">81, 0, 86, 0, 0, 3, 3, 0]</text>\n</g>\n<!-- 1&#45;&gt;31 -->\n<g id=\"edge31\" class=\"edge\">\n<title>1&#45;&gt;31</title>\n<path fill=\"none\" stroke=\"#000000\" d=\"M3392.5,-1129.7677C3392.5,-1121.6172 3392.5,-1112.9283 3392.5,-1104.4649\"/>\n<polygon fill=\"#000000\" stroke=\"#000000\" points=\"3396.0001,-1104.3046 3392.5,-1094.3046 3389.0001,-1104.3047 3396.0001,-1104.3046\"/>\n</g>\n<!-- 3 -->\n<g id=\"node4\" class=\"node\">\n<title>3</title>\n<path fill=\"#fbfefe\" stroke=\"#000000\" d=\"M1688.5,-980C1688.5,-980 1410.5,-980 1410.5,-980 1404.5,-980 1398.5,-974 1398.5,-968 1398.5,-968 1398.5,-914 1398.5,-914 1398.5,-908 1404.5,-902 1410.5,-902 1410.5,-902 1688.5,-902 1688.5,-902 1694.5,-902 1700.5,-908 1700.5,-914 1700.5,-914 1700.5,-968 1700.5,-968 1700.5,-974 1694.5,-980 1688.5,-980\"/>\n<text text-anchor=\"start\" x=\"1512.5\" y=\"-965.8\" font-family=\"Helvetica,sans-Serif\" font-size=\"14.00\" fill=\"#000000\">X</text>\n<text text-anchor=\"start\" x=\"1522.5\" y=\"-965.8\" font-family=\"Helvetica,sans-Serif\" baseline-shift=\"sub\" font-size=\"14.00\" fill=\"#000000\">6</text>\n<text text-anchor=\"start\" x=\"1529.5\" y=\"-965.8\" font-family=\"Helvetica,sans-Serif\" font-size=\"14.00\" fill=\"#000000\"> ≤ &#45;0.515</text>\n<text text-anchor=\"start\" x=\"1498.5\" y=\"-951.8\" font-family=\"Helvetica,sans-Serif\" font-size=\"14.00\" fill=\"#000000\">entropy = 2.583</text>\n<text text-anchor=\"start\" x=\"1501.5\" y=\"-937.8\" font-family=\"Helvetica,sans-Serif\" font-size=\"14.00\" fill=\"#000000\">samples = 482</text>\n<text text-anchor=\"start\" x=\"1406.5\" y=\"-923.8\" font-family=\"Helvetica,sans-Serif\" font-size=\"14.00\" fill=\"#000000\">value = [0, 0, 79, 0, 0, 0, 0, 0, 0, 80, 89, 0, 81</text>\n<text text-anchor=\"start\" x=\"1472\" y=\"-909.8\" font-family=\"Helvetica,sans-Serif\" font-size=\"14.00\" fill=\"#000000\">76, 0, 0, 0, 0, 77, 0, 0, 0]</text>\n</g>\n<!-- 2&#45;&gt;3 -->\n<g id=\"edge3\" class=\"edge\">\n<title>2&#45;&gt;3</title>\n<path fill=\"none\" stroke=\"#000000\" d=\"M2310.2985,-1035.2729C2142.3852,-1014.4662 1879.249,-981.8602 1710.6161,-960.9644\"/>\n<polygon fill=\"#000000\" stroke=\"#000000\" points=\"1711.007,-957.4861 1700.6524,-959.7298 1710.1461,-964.433 1711.007,-957.4861\"/>\n</g>\n<!-- 24 -->\n<g id=\"node25\" class=\"node\">\n<title>24</title>\n<path fill=\"#f8fef6\" stroke=\"#000000\" d=\"M2608,-980C2608,-980 2331,-980 2331,-980 2325,-980 2319,-974 2319,-968 2319,-968 2319,-914 2319,-914 2319,-908 2325,-902 2331,-902 2331,-902 2608,-902 2608,-902 2614,-902 2620,-908 2620,-914 2620,-914 2620,-968 2620,-968 2620,-974 2614,-980 2608,-980\"/>\n<text text-anchor=\"start\" x=\"2435\" y=\"-965.8\" font-family=\"Helvetica,sans-Serif\" font-size=\"14.00\" fill=\"#000000\">X</text>\n<text text-anchor=\"start\" x=\"2445\" y=\"-965.8\" font-family=\"Helvetica,sans-Serif\" baseline-shift=\"sub\" font-size=\"14.00\" fill=\"#000000\">6</text>\n<text text-anchor=\"start\" x=\"2452\" y=\"-965.8\" font-family=\"Helvetica,sans-Serif\" font-size=\"14.00\" fill=\"#000000\"> ≤ 0.164</text>\n<text text-anchor=\"start\" x=\"2418.5\" y=\"-951.8\" font-family=\"Helvetica,sans-Serif\" font-size=\"14.00\" fill=\"#000000\">entropy = 1.095</text>\n<text text-anchor=\"start\" x=\"2421.5\" y=\"-937.8\" font-family=\"Helvetica,sans-Serif\" font-size=\"14.00\" fill=\"#000000\">samples = 164</text>\n<text text-anchor=\"start\" x=\"2327\" y=\"-923.8\" font-family=\"Helvetica,sans-Serif\" font-size=\"14.00\" fill=\"#000000\">value = [0, 0, 1, 0, 0, 83, 0, 0, 1, 0, 0, 79, 0, 0</text>\n<text text-anchor=\"start\" x=\"2408\" y=\"-909.8\" font-family=\"Helvetica,sans-Serif\" font-size=\"14.00\" fill=\"#000000\">0, 0, 0, 0, 0, 0, 0, 0]</text>\n</g>\n<!-- 2&#45;&gt;24 -->\n<g id=\"edge24\" class=\"edge\">\n<title>2&#45;&gt;24</title>\n<path fill=\"none\" stroke=\"#000000\" d=\"M2469.5,-1015.7677C2469.5,-1007.6172 2469.5,-998.9283 2469.5,-990.4649\"/>\n<polygon fill=\"#000000\" stroke=\"#000000\" points=\"2473.0001,-990.3046 2469.5,-980.3046 2466.0001,-990.3047 2473.0001,-990.3046\"/>\n</g>\n<!-- 4 -->\n<g id=\"node5\" class=\"node\">\n<title>4</title>\n<path fill=\"#f4fcfe\" stroke=\"#000000\" d=\"M1217,-866C1217,-866 924,-866 924,-866 918,-866 912,-860 912,-854 912,-854 912,-800 912,-800 912,-794 918,-788 924,-788 924,-788 1217,-788 1217,-788 1223,-788 1229,-794 1229,-800 1229,-800 1229,-854 1229,-854 1229,-860 1223,-866 1217,-866\"/>\n<text text-anchor=\"start\" x=\"1033.5\" y=\"-851.8\" font-family=\"Helvetica,sans-Serif\" font-size=\"14.00\" fill=\"#000000\">X</text>\n<text text-anchor=\"start\" x=\"1043.5\" y=\"-851.8\" font-family=\"Helvetica,sans-Serif\" baseline-shift=\"sub\" font-size=\"14.00\" fill=\"#000000\">6</text>\n<text text-anchor=\"start\" x=\"1050.5\" y=\"-851.8\" font-family=\"Helvetica,sans-Serif\" font-size=\"14.00\" fill=\"#000000\"> ≤ &#45;0.796</text>\n<text text-anchor=\"start\" x=\"1023.5\" y=\"-837.8\" font-family=\"Helvetica,sans-Serif\" font-size=\"14.00\" fill=\"#000000\">entropy = 1.78</text>\n<text text-anchor=\"start\" x=\"1022.5\" y=\"-823.8\" font-family=\"Helvetica,sans-Serif\" font-size=\"14.00\" fill=\"#000000\">samples = 256</text>\n<text text-anchor=\"start\" x=\"920\" y=\"-809.8\" font-family=\"Helvetica,sans-Serif\" font-size=\"14.00\" fill=\"#000000\">value = [0, 0, 79, 0, 0, 0, 0, 0, 0, 12, 89, 0, 0, 76</text>\n<text text-anchor=\"start\" x=\"1009\" y=\"-795.8\" font-family=\"Helvetica,sans-Serif\" font-size=\"14.00\" fill=\"#000000\">0, 0, 0, 0, 0, 0, 0, 0]</text>\n</g>\n<!-- 3&#45;&gt;4 -->\n<g id=\"edge4\" class=\"edge\">\n<title>3&#45;&gt;4</title>\n<path fill=\"none\" stroke=\"#000000\" d=\"M1398.2702,-905.0079C1347.6601,-892.963 1290.9358,-879.4628 1239.0855,-867.1226\"/>\n<polygon fill=\"#000000\" stroke=\"#000000\" points=\"1239.6627,-863.6623 1229.124,-864.7519 1238.0419,-870.4721 1239.6627,-863.6623\"/>\n</g>\n<!-- 19 -->\n<g id=\"node20\" class=\"node\">\n<title>19</title>\n<path fill=\"#fafbfe\" stroke=\"#000000\" d=\"M1688,-866C1688,-866 1411,-866 1411,-866 1405,-866 1399,-860 1399,-854 1399,-854 1399,-800 1399,-800 1399,-794 1405,-788 1411,-788 1411,-788 1688,-788 1688,-788 1694,-788 1700,-794 1700,-800 1700,-800 1700,-854 1700,-854 1700,-860 1694,-866 1688,-866\"/>\n<text text-anchor=\"start\" x=\"1512.5\" y=\"-851.8\" font-family=\"Helvetica,sans-Serif\" font-size=\"14.00\" fill=\"#000000\">X</text>\n<text text-anchor=\"start\" x=\"1522.5\" y=\"-851.8\" font-family=\"Helvetica,sans-Serif\" baseline-shift=\"sub\" font-size=\"14.00\" fill=\"#000000\">1</text>\n<text text-anchor=\"start\" x=\"1529.5\" y=\"-851.8\" font-family=\"Helvetica,sans-Serif\" font-size=\"14.00\" fill=\"#000000\"> ≤ &#45;0.178</text>\n<text text-anchor=\"start\" x=\"1498.5\" y=\"-837.8\" font-family=\"Helvetica,sans-Serif\" font-size=\"14.00\" fill=\"#000000\">entropy = 1.581</text>\n<text text-anchor=\"start\" x=\"1501.5\" y=\"-823.8\" font-family=\"Helvetica,sans-Serif\" font-size=\"14.00\" fill=\"#000000\">samples = 226</text>\n<text text-anchor=\"start\" x=\"1407\" y=\"-809.8\" font-family=\"Helvetica,sans-Serif\" font-size=\"14.00\" fill=\"#000000\">value = [0, 0, 0, 0, 0, 0, 0, 0, 0, 68, 0, 0, 81, 0</text>\n<text text-anchor=\"start\" x=\"1484\" y=\"-795.8\" font-family=\"Helvetica,sans-Serif\" font-size=\"14.00\" fill=\"#000000\">0, 0, 0, 0, 77, 0, 0, 0]</text>\n</g>\n<!-- 3&#45;&gt;19 -->\n<g id=\"edge19\" class=\"edge\">\n<title>3&#45;&gt;19</title>\n<path fill=\"none\" stroke=\"#000000\" d=\"M1549.5,-901.7677C1549.5,-893.6172 1549.5,-884.9283 1549.5,-876.4649\"/>\n<polygon fill=\"#000000\" stroke=\"#000000\" points=\"1553.0001,-876.3046 1549.5,-866.3046 1546.0001,-876.3047 1553.0001,-876.3046\"/>\n</g>\n<!-- 5 -->\n<g id=\"node6\" class=\"node\">\n<title>5</title>\n<path fill=\"#adebf4\" stroke=\"#000000\" d=\"M596,-752C596,-752 319,-752 319,-752 313,-752 307,-746 307,-740 307,-740 307,-686 307,-686 307,-680 313,-674 319,-674 319,-674 596,-674 596,-674 602,-674 608,-680 608,-686 608,-686 608,-740 608,-740 608,-746 602,-752 596,-752\"/>\n<text text-anchor=\"start\" x=\"420.5\" y=\"-737.8\" font-family=\"Helvetica,sans-Serif\" font-size=\"14.00\" fill=\"#000000\">X</text>\n<text text-anchor=\"start\" x=\"430.5\" y=\"-737.8\" font-family=\"Helvetica,sans-Serif\" baseline-shift=\"sub\" font-size=\"14.00\" fill=\"#000000\">4</text>\n<text text-anchor=\"start\" x=\"437.5\" y=\"-737.8\" font-family=\"Helvetica,sans-Serif\" font-size=\"14.00\" fill=\"#000000\"> ≤ &#45;0.515</text>\n<text text-anchor=\"start\" x=\"410.5\" y=\"-723.8\" font-family=\"Helvetica,sans-Serif\" font-size=\"14.00\" fill=\"#000000\">entropy = 0.95</text>\n<text text-anchor=\"start\" x=\"409.5\" y=\"-709.8\" font-family=\"Helvetica,sans-Serif\" font-size=\"14.00\" fill=\"#000000\">samples = 141</text>\n<text text-anchor=\"start\" x=\"315\" y=\"-695.8\" font-family=\"Helvetica,sans-Serif\" font-size=\"14.00\" fill=\"#000000\">value = [0, 0, 0, 0, 0, 0, 0, 0, 0, 0, 89, 0, 0, 52</text>\n<text text-anchor=\"start\" x=\"396\" y=\"-681.8\" font-family=\"Helvetica,sans-Serif\" font-size=\"14.00\" fill=\"#000000\">0, 0, 0, 0, 0, 0, 0, 0]</text>\n</g>\n<!-- 4&#45;&gt;5 -->\n<g id=\"edge5\" class=\"edge\">\n<title>4&#45;&gt;5</title>\n<path fill=\"none\" stroke=\"#000000\" d=\"M911.8401,-797.4939C821.5713,-780.7066 708.8052,-759.7354 618.2005,-742.8856\"/>\n<polygon fill=\"#000000\" stroke=\"#000000\" points=\"618.5781,-739.3959 608.1067,-741.0084 617.2982,-746.2779 618.5781,-739.3959\"/>\n</g>\n<!-- 10 -->\n<g id=\"node11\" class=\"node\">\n<title>10</title>\n<path fill=\"#efea87\" stroke=\"#000000\" d=\"M1213,-752C1213,-752 928,-752 928,-752 922,-752 916,-746 916,-740 916,-740 916,-686 916,-686 916,-680 922,-674 928,-674 928,-674 1213,-674 1213,-674 1219,-674 1225,-680 1225,-686 1225,-686 1225,-740 1225,-740 1225,-746 1219,-752 1213,-752\"/>\n<text text-anchor=\"start\" x=\"1033.5\" y=\"-737.8\" font-family=\"Helvetica,sans-Serif\" font-size=\"14.00\" fill=\"#000000\">X</text>\n<text text-anchor=\"start\" x=\"1043.5\" y=\"-737.8\" font-family=\"Helvetica,sans-Serif\" baseline-shift=\"sub\" font-size=\"14.00\" fill=\"#000000\">4</text>\n<text text-anchor=\"start\" x=\"1050.5\" y=\"-737.8\" font-family=\"Helvetica,sans-Serif\" font-size=\"14.00\" fill=\"#000000\"> ≤ &#45;0.575</text>\n<text text-anchor=\"start\" x=\"1019.5\" y=\"-723.8\" font-family=\"Helvetica,sans-Serif\" font-size=\"14.00\" fill=\"#000000\">entropy = 1.184</text>\n<text text-anchor=\"start\" x=\"1022.5\" y=\"-709.8\" font-family=\"Helvetica,sans-Serif\" font-size=\"14.00\" fill=\"#000000\">samples = 115</text>\n<text text-anchor=\"start\" x=\"924\" y=\"-695.8\" font-family=\"Helvetica,sans-Serif\" font-size=\"14.00\" fill=\"#000000\">value = [0, 0, 79, 0, 0, 0, 0, 0, 0, 12, 0, 0, 0, 24</text>\n<text text-anchor=\"start\" x=\"1009\" y=\"-681.8\" font-family=\"Helvetica,sans-Serif\" font-size=\"14.00\" fill=\"#000000\">0, 0, 0, 0, 0, 0, 0, 0]</text>\n</g>\n<!-- 4&#45;&gt;10 -->\n<g id=\"edge10\" class=\"edge\">\n<title>4&#45;&gt;10</title>\n<path fill=\"none\" stroke=\"#000000\" d=\"M1070.5,-787.7677C1070.5,-779.6172 1070.5,-770.9283 1070.5,-762.4649\"/>\n<polygon fill=\"#000000\" stroke=\"#000000\" points=\"1074.0001,-762.3046 1070.5,-752.3046 1067.0001,-762.3047 1074.0001,-762.3046\"/>\n</g>\n<!-- 6 -->\n<g id=\"node7\" class=\"node\">\n<title>6</title>\n<path fill=\"#3941e5\" stroke=\"#000000\" d=\"M281,-633C281,-633 12,-633 12,-633 6,-633 0,-627 0,-621 0,-621 0,-577 0,-577 0,-571 6,-565 12,-565 12,-565 281,-565 281,-565 287,-565 293,-571 293,-577 293,-577 293,-621 293,-621 293,-627 287,-633 281,-633\"/>\n<text text-anchor=\"start\" x=\"104\" y=\"-617.8\" font-family=\"Helvetica,sans-Serif\" font-size=\"14.00\" fill=\"#000000\">entropy = 0.0</text>\n<text text-anchor=\"start\" x=\"102.5\" y=\"-602.8\" font-family=\"Helvetica,sans-Serif\" font-size=\"14.00\" fill=\"#000000\">samples = 46</text>\n<text text-anchor=\"start\" x=\"8\" y=\"-587.8\" font-family=\"Helvetica,sans-Serif\" font-size=\"14.00\" fill=\"#000000\">value = [0, 0, 0, 0, 0, 0, 0, 0, 0, 0, 0, 0, 0, 46</text>\n<text text-anchor=\"start\" x=\"85\" y=\"-572.8\" font-family=\"Helvetica,sans-Serif\" font-size=\"14.00\" fill=\"#000000\">0, 0, 0, 0, 0, 0, 0, 0]</text>\n</g>\n<!-- 5&#45;&gt;6 -->\n<g id=\"edge6\" class=\"edge\">\n<title>5&#45;&gt;6</title>\n<path fill=\"none\" stroke=\"#000000\" d=\"M350.9066,-673.9272C317.9386,-661.8424 281.7053,-648.5608 249.0192,-636.5794\"/>\n<polygon fill=\"#000000\" stroke=\"#000000\" points=\"250.0435,-633.2272 239.4498,-633.0716 247.6343,-639.7996 250.0435,-633.2272\"/>\n</g>\n<!-- 7 -->\n<g id=\"node8\" class=\"node\">\n<title>7</title>\n<path fill=\"#46d1e7\" stroke=\"#000000\" d=\"M592,-638C592,-638 323,-638 323,-638 317,-638 311,-632 311,-626 311,-626 311,-572 311,-572 311,-566 317,-560 323,-560 323,-560 592,-560 592,-560 598,-560 604,-566 604,-572 604,-572 604,-626 604,-626 604,-632 598,-638 592,-638\"/>\n<text text-anchor=\"start\" x=\"420.5\" y=\"-623.8\" font-family=\"Helvetica,sans-Serif\" font-size=\"14.00\" fill=\"#000000\">X</text>\n<text text-anchor=\"start\" x=\"430.5\" y=\"-623.8\" font-family=\"Helvetica,sans-Serif\" baseline-shift=\"sub\" font-size=\"14.00\" fill=\"#000000\">1</text>\n<text text-anchor=\"start\" x=\"437.5\" y=\"-623.8\" font-family=\"Helvetica,sans-Serif\" font-size=\"14.00\" fill=\"#000000\"> ≤ &#45;0.041</text>\n<text text-anchor=\"start\" x=\"410.5\" y=\"-609.8\" font-family=\"Helvetica,sans-Serif\" font-size=\"14.00\" fill=\"#000000\">entropy = 0.34</text>\n<text text-anchor=\"start\" x=\"413.5\" y=\"-595.8\" font-family=\"Helvetica,sans-Serif\" font-size=\"14.00\" fill=\"#000000\">samples = 95</text>\n<text text-anchor=\"start\" x=\"319\" y=\"-581.8\" font-family=\"Helvetica,sans-Serif\" font-size=\"14.00\" fill=\"#000000\">value = [0, 0, 0, 0, 0, 0, 0, 0, 0, 0, 89, 0, 0, 6</text>\n<text text-anchor=\"start\" x=\"396\" y=\"-567.8\" font-family=\"Helvetica,sans-Serif\" font-size=\"14.00\" fill=\"#000000\">0, 0, 0, 0, 0, 0, 0, 0]</text>\n</g>\n<!-- 5&#45;&gt;7 -->\n<g id=\"edge7\" class=\"edge\">\n<title>5&#45;&gt;7</title>\n<path fill=\"none\" stroke=\"#000000\" d=\"M457.5,-673.7677C457.5,-665.6172 457.5,-656.9283 457.5,-648.4649\"/>\n<polygon fill=\"#000000\" stroke=\"#000000\" points=\"461.0001,-648.3046 457.5,-638.3046 454.0001,-648.3047 461.0001,-648.3046\"/>\n</g>\n<!-- 8 -->\n<g id=\"node9\" class=\"node\">\n<title>8</title>\n<path fill=\"#3941e5\" stroke=\"#000000\" d=\"M280.5,-519C280.5,-519 20.5,-519 20.5,-519 14.5,-519 8.5,-513 8.5,-507 8.5,-507 8.5,-463 8.5,-463 8.5,-457 14.5,-451 20.5,-451 20.5,-451 280.5,-451 280.5,-451 286.5,-451 292.5,-457 292.5,-463 292.5,-463 292.5,-507 292.5,-507 292.5,-513 286.5,-519 280.5,-519\"/>\n<text text-anchor=\"start\" x=\"108\" y=\"-503.8\" font-family=\"Helvetica,sans-Serif\" font-size=\"14.00\" fill=\"#000000\">entropy = 0.0</text>\n<text text-anchor=\"start\" x=\"111\" y=\"-488.8\" font-family=\"Helvetica,sans-Serif\" font-size=\"14.00\" fill=\"#000000\">samples = 6</text>\n<text text-anchor=\"start\" x=\"16.5\" y=\"-473.8\" font-family=\"Helvetica,sans-Serif\" font-size=\"14.00\" fill=\"#000000\">value = [0, 0, 0, 0, 0, 0, 0, 0, 0, 0, 0, 0, 0, 6</text>\n<text text-anchor=\"start\" x=\"89\" y=\"-458.8\" font-family=\"Helvetica,sans-Serif\" font-size=\"14.00\" fill=\"#000000\">0, 0, 0, 0, 0, 0, 0, 0]</text>\n</g>\n<!-- 7&#45;&gt;8 -->\n<g id=\"edge8\" class=\"edge\">\n<title>7&#45;&gt;8</title>\n<path fill=\"none\" stroke=\"#000000\" d=\"M352.2775,-559.9272C319.7336,-547.8424 283.9663,-534.5608 251.7006,-522.5794\"/>\n<polygon fill=\"#000000\" stroke=\"#000000\" points=\"252.8473,-519.2717 242.2544,-519.0716 250.4105,-525.8339 252.8473,-519.2717\"/>\n</g>\n<!-- 9 -->\n<g id=\"node10\" class=\"node\">\n<title>9</title>\n<path fill=\"#39cee5\" stroke=\"#000000\" d=\"M592,-519C592,-519 323,-519 323,-519 317,-519 311,-513 311,-507 311,-507 311,-463 311,-463 311,-457 317,-451 323,-451 323,-451 592,-451 592,-451 598,-451 604,-457 604,-463 604,-463 604,-507 604,-507 604,-513 598,-519 592,-519\"/>\n<text text-anchor=\"start\" x=\"415\" y=\"-503.8\" font-family=\"Helvetica,sans-Serif\" font-size=\"14.00\" fill=\"#000000\">entropy = 0.0</text>\n<text text-anchor=\"start\" x=\"413.5\" y=\"-488.8\" font-family=\"Helvetica,sans-Serif\" font-size=\"14.00\" fill=\"#000000\">samples = 89</text>\n<text text-anchor=\"start\" x=\"319\" y=\"-473.8\" font-family=\"Helvetica,sans-Serif\" font-size=\"14.00\" fill=\"#000000\">value = [0, 0, 0, 0, 0, 0, 0, 0, 0, 0, 89, 0, 0, 0</text>\n<text text-anchor=\"start\" x=\"396\" y=\"-458.8\" font-family=\"Helvetica,sans-Serif\" font-size=\"14.00\" fill=\"#000000\">0, 0, 0, 0, 0, 0, 0, 0]</text>\n</g>\n<!-- 7&#45;&gt;9 -->\n<g id=\"edge9\" class=\"edge\">\n<title>7&#45;&gt;9</title>\n<path fill=\"none\" stroke=\"#000000\" d=\"M457.5,-559.7677C457.5,-550.0161 457.5,-539.4937 457.5,-529.509\"/>\n<polygon fill=\"#000000\" stroke=\"#000000\" points=\"461.0001,-529.3535 457.5,-519.3535 454.0001,-529.3536 461.0001,-529.3535\"/>\n</g>\n<!-- 11 -->\n<g id=\"node12\" class=\"node\">\n<title>11</title>\n<path fill=\"#d7d9fa\" stroke=\"#000000\" d=\"M1209,-638C1209,-638 932,-638 932,-638 926,-638 920,-632 920,-626 920,-626 920,-572 920,-572 920,-566 926,-560 932,-560 932,-560 1209,-560 1209,-560 1215,-560 1221,-566 1221,-572 1221,-572 1221,-626 1221,-626 1221,-632 1215,-638 1209,-638\"/>\n<text text-anchor=\"start\" x=\"1036\" y=\"-623.8\" font-family=\"Helvetica,sans-Serif\" font-size=\"14.00\" fill=\"#000000\">X</text>\n<text text-anchor=\"start\" x=\"1046\" y=\"-623.8\" font-family=\"Helvetica,sans-Serif\" baseline-shift=\"sub\" font-size=\"14.00\" fill=\"#000000\">1</text>\n<text text-anchor=\"start\" x=\"1053\" y=\"-623.8\" font-family=\"Helvetica,sans-Serif\" font-size=\"14.00\" fill=\"#000000\"> ≤ 0.216</text>\n<text text-anchor=\"start\" x=\"1019.5\" y=\"-609.8\" font-family=\"Helvetica,sans-Serif\" font-size=\"14.00\" fill=\"#000000\">entropy = 0.991</text>\n<text text-anchor=\"start\" x=\"1026.5\" y=\"-595.8\" font-family=\"Helvetica,sans-Serif\" font-size=\"14.00\" fill=\"#000000\">samples = 27</text>\n<text text-anchor=\"start\" x=\"928\" y=\"-581.8\" font-family=\"Helvetica,sans-Serif\" font-size=\"14.00\" fill=\"#000000\">value = [0, 0, 0, 0, 0, 0, 0, 0, 0, 12, 0, 0, 0, 15</text>\n<text text-anchor=\"start\" x=\"1009\" y=\"-567.8\" font-family=\"Helvetica,sans-Serif\" font-size=\"14.00\" fill=\"#000000\">0, 0, 0, 0, 0, 0, 0, 0]</text>\n</g>\n<!-- 10&#45;&gt;11 -->\n<g id=\"edge11\" class=\"edge\">\n<title>10&#45;&gt;11</title>\n<path fill=\"none\" stroke=\"#000000\" d=\"M1070.5,-673.7677C1070.5,-665.6172 1070.5,-656.9283 1070.5,-648.4649\"/>\n<polygon fill=\"#000000\" stroke=\"#000000\" points=\"1074.0001,-648.3046 1070.5,-638.3046 1067.0001,-648.3047 1074.0001,-648.3046\"/>\n</g>\n<!-- 14 -->\n<g id=\"node15\" class=\"node\">\n<title>14</title>\n<path fill=\"#e8e050\" stroke=\"#000000\" d=\"M1521,-638C1521,-638 1252,-638 1252,-638 1246,-638 1240,-632 1240,-626 1240,-626 1240,-572 1240,-572 1240,-566 1246,-560 1252,-560 1252,-560 1521,-560 1521,-560 1527,-560 1533,-566 1533,-572 1533,-572 1533,-626 1533,-626 1533,-632 1527,-638 1521,-638\"/>\n<text text-anchor=\"start\" x=\"1352\" y=\"-623.8\" font-family=\"Helvetica,sans-Serif\" font-size=\"14.00\" fill=\"#000000\">X</text>\n<text text-anchor=\"start\" x=\"1362\" y=\"-623.8\" font-family=\"Helvetica,sans-Serif\" baseline-shift=\"sub\" font-size=\"14.00\" fill=\"#000000\">1</text>\n<text text-anchor=\"start\" x=\"1369\" y=\"-623.8\" font-family=\"Helvetica,sans-Serif\" font-size=\"14.00\" fill=\"#000000\"> ≤ 0.004</text>\n<text text-anchor=\"start\" x=\"1335.5\" y=\"-609.8\" font-family=\"Helvetica,sans-Serif\" font-size=\"14.00\" fill=\"#000000\">entropy = 0.476</text>\n<text text-anchor=\"start\" x=\"1342.5\" y=\"-595.8\" font-family=\"Helvetica,sans-Serif\" font-size=\"14.00\" fill=\"#000000\">samples = 88</text>\n<text text-anchor=\"start\" x=\"1248\" y=\"-581.8\" font-family=\"Helvetica,sans-Serif\" font-size=\"14.00\" fill=\"#000000\">value = [0, 0, 79, 0, 0, 0, 0, 0, 0, 0, 0, 0, 0, 9</text>\n<text text-anchor=\"start\" x=\"1325\" y=\"-567.8\" font-family=\"Helvetica,sans-Serif\" font-size=\"14.00\" fill=\"#000000\">0, 0, 0, 0, 0, 0, 0, 0]</text>\n</g>\n<!-- 10&#45;&gt;14 -->\n<g id=\"edge14\" class=\"edge\">\n<title>10&#45;&gt;14</title>\n<path fill=\"none\" stroke=\"#000000\" d=\"M1178.8072,-673.9272C1207.826,-663.4583 1239.3347,-652.0913 1268.8332,-641.4494\"/>\n<polygon fill=\"#000000\" stroke=\"#000000\" points=\"1270.1155,-644.7077 1278.3344,-638.0218 1267.74,-638.1231 1270.1155,-644.7077\"/>\n</g>\n<!-- 12 -->\n<g id=\"node13\" class=\"node\">\n<title>12</title>\n<path fill=\"#3941e5\" stroke=\"#000000\" d=\"M903,-519C903,-519 634,-519 634,-519 628,-519 622,-513 622,-507 622,-507 622,-463 622,-463 622,-457 628,-451 634,-451 634,-451 903,-451 903,-451 909,-451 915,-457 915,-463 915,-463 915,-507 915,-507 915,-513 909,-519 903,-519\"/>\n<text text-anchor=\"start\" x=\"726\" y=\"-503.8\" font-family=\"Helvetica,sans-Serif\" font-size=\"14.00\" fill=\"#000000\">entropy = 0.0</text>\n<text text-anchor=\"start\" x=\"724.5\" y=\"-488.8\" font-family=\"Helvetica,sans-Serif\" font-size=\"14.00\" fill=\"#000000\">samples = 15</text>\n<text text-anchor=\"start\" x=\"630\" y=\"-473.8\" font-family=\"Helvetica,sans-Serif\" font-size=\"14.00\" fill=\"#000000\">value = [0, 0, 0, 0, 0, 0, 0, 0, 0, 0, 0, 0, 0, 15</text>\n<text text-anchor=\"start\" x=\"707\" y=\"-458.8\" font-family=\"Helvetica,sans-Serif\" font-size=\"14.00\" fill=\"#000000\">0, 0, 0, 0, 0, 0, 0, 0]</text>\n</g>\n<!-- 11&#45;&gt;12 -->\n<g id=\"edge12\" class=\"edge\">\n<title>11&#45;&gt;12</title>\n<path fill=\"none\" stroke=\"#000000\" d=\"M966.9912,-559.9272C935.1148,-547.8943 900.0946,-534.6748 868.4613,-522.7337\"/>\n<polygon fill=\"#000000\" stroke=\"#000000\" points=\"869.3517,-519.3288 858.76,-519.0716 866.8795,-525.8778 869.3517,-519.3288\"/>\n</g>\n<!-- 13 -->\n<g id=\"node14\" class=\"node\">\n<title>13</title>\n<path fill=\"#39e5ce\" stroke=\"#000000\" d=\"M1214,-519C1214,-519 945,-519 945,-519 939,-519 933,-513 933,-507 933,-507 933,-463 933,-463 933,-457 939,-451 945,-451 945,-451 1214,-451 1214,-451 1220,-451 1226,-457 1226,-463 1226,-463 1226,-507 1226,-507 1226,-513 1220,-519 1214,-519\"/>\n<text text-anchor=\"start\" x=\"1037\" y=\"-503.8\" font-family=\"Helvetica,sans-Serif\" font-size=\"14.00\" fill=\"#000000\">entropy = 0.0</text>\n<text text-anchor=\"start\" x=\"1035.5\" y=\"-488.8\" font-family=\"Helvetica,sans-Serif\" font-size=\"14.00\" fill=\"#000000\">samples = 12</text>\n<text text-anchor=\"start\" x=\"941\" y=\"-473.8\" font-family=\"Helvetica,sans-Serif\" font-size=\"14.00\" fill=\"#000000\">value = [0, 0, 0, 0, 0, 0, 0, 0, 0, 12, 0, 0, 0, 0</text>\n<text text-anchor=\"start\" x=\"1018\" y=\"-458.8\" font-family=\"Helvetica,sans-Serif\" font-size=\"14.00\" fill=\"#000000\">0, 0, 0, 0, 0, 0, 0, 0]</text>\n</g>\n<!-- 11&#45;&gt;13 -->\n<g id=\"edge13\" class=\"edge\">\n<title>11&#45;&gt;13</title>\n<path fill=\"none\" stroke=\"#000000\" d=\"M1073.5973,-559.7677C1074.3671,-550.0161 1075.1979,-539.4937 1075.9861,-529.509\"/>\n<polygon fill=\"#000000\" stroke=\"#000000\" points=\"1079.4899,-529.598 1076.7879,-519.3535 1072.5116,-529.047 1079.4899,-529.598\"/>\n</g>\n<!-- 15 -->\n<g id=\"node16\" class=\"node\">\n<title>15</title>\n<path fill=\"#3941e5\" stroke=\"#000000\" d=\"M1516.5,-519C1516.5,-519 1256.5,-519 1256.5,-519 1250.5,-519 1244.5,-513 1244.5,-507 1244.5,-507 1244.5,-463 1244.5,-463 1244.5,-457 1250.5,-451 1256.5,-451 1256.5,-451 1516.5,-451 1516.5,-451 1522.5,-451 1528.5,-457 1528.5,-463 1528.5,-463 1528.5,-507 1528.5,-507 1528.5,-513 1522.5,-519 1516.5,-519\"/>\n<text text-anchor=\"start\" x=\"1344\" y=\"-503.8\" font-family=\"Helvetica,sans-Serif\" font-size=\"14.00\" fill=\"#000000\">entropy = 0.0</text>\n<text text-anchor=\"start\" x=\"1347\" y=\"-488.8\" font-family=\"Helvetica,sans-Serif\" font-size=\"14.00\" fill=\"#000000\">samples = 8</text>\n<text text-anchor=\"start\" x=\"1252.5\" y=\"-473.8\" font-family=\"Helvetica,sans-Serif\" font-size=\"14.00\" fill=\"#000000\">value = [0, 0, 0, 0, 0, 0, 0, 0, 0, 0, 0, 0, 0, 8</text>\n<text text-anchor=\"start\" x=\"1325\" y=\"-458.8\" font-family=\"Helvetica,sans-Serif\" font-size=\"14.00\" fill=\"#000000\">0, 0, 0, 0, 0, 0, 0, 0]</text>\n</g>\n<!-- 14&#45;&gt;15 -->\n<g id=\"edge15\" class=\"edge\">\n<title>14&#45;&gt;15</title>\n<path fill=\"none\" stroke=\"#000000\" d=\"M1386.5,-559.7677C1386.5,-550.0161 1386.5,-539.4937 1386.5,-529.509\"/>\n<polygon fill=\"#000000\" stroke=\"#000000\" points=\"1390.0001,-529.3535 1386.5,-519.3535 1383.0001,-529.3536 1390.0001,-529.3535\"/>\n</g>\n<!-- 16 -->\n<g id=\"node17\" class=\"node\">\n<title>16</title>\n<path fill=\"#e5dc3c\" stroke=\"#000000\" d=\"M1828,-524C1828,-524 1559,-524 1559,-524 1553,-524 1547,-518 1547,-512 1547,-512 1547,-458 1547,-458 1547,-452 1553,-446 1559,-446 1559,-446 1828,-446 1828,-446 1834,-446 1840,-452 1840,-458 1840,-458 1840,-512 1840,-512 1840,-518 1834,-524 1828,-524\"/>\n<text text-anchor=\"start\" x=\"1659\" y=\"-509.8\" font-family=\"Helvetica,sans-Serif\" font-size=\"14.00\" fill=\"#000000\">X</text>\n<text text-anchor=\"start\" x=\"1669\" y=\"-509.8\" font-family=\"Helvetica,sans-Serif\" baseline-shift=\"sub\" font-size=\"14.00\" fill=\"#000000\">5</text>\n<text text-anchor=\"start\" x=\"1676\" y=\"-509.8\" font-family=\"Helvetica,sans-Serif\" font-size=\"14.00\" fill=\"#000000\"> ≤ 2.748</text>\n<text text-anchor=\"start\" x=\"1642.5\" y=\"-495.8\" font-family=\"Helvetica,sans-Serif\" font-size=\"14.00\" fill=\"#000000\">entropy = 0.097</text>\n<text text-anchor=\"start\" x=\"1649.5\" y=\"-481.8\" font-family=\"Helvetica,sans-Serif\" font-size=\"14.00\" fill=\"#000000\">samples = 80</text>\n<text text-anchor=\"start\" x=\"1555\" y=\"-467.8\" font-family=\"Helvetica,sans-Serif\" font-size=\"14.00\" fill=\"#000000\">value = [0, 0, 79, 0, 0, 0, 0, 0, 0, 0, 0, 0, 0, 1</text>\n<text text-anchor=\"start\" x=\"1632\" y=\"-453.8\" font-family=\"Helvetica,sans-Serif\" font-size=\"14.00\" fill=\"#000000\">0, 0, 0, 0, 0, 0, 0, 0]</text>\n</g>\n<!-- 14&#45;&gt;16 -->\n<g id=\"edge16\" class=\"edge\">\n<title>14&#45;&gt;16</title>\n<path fill=\"none\" stroke=\"#000000\" d=\"M1491.7225,-559.9272C1519.7928,-549.5037 1550.2611,-538.1897 1578.8122,-527.5876\"/>\n<polygon fill=\"#000000\" stroke=\"#000000\" points=\"1580.2589,-530.784 1588.415,-524.0218 1577.8221,-524.2219 1580.2589,-530.784\"/>\n</g>\n<!-- 17 -->\n<g id=\"node18\" class=\"node\">\n<title>17</title>\n<path fill=\"#e5dc39\" stroke=\"#000000\" d=\"M1675,-405C1675,-405 1406,-405 1406,-405 1400,-405 1394,-399 1394,-393 1394,-393 1394,-349 1394,-349 1394,-343 1400,-337 1406,-337 1406,-337 1675,-337 1675,-337 1681,-337 1687,-343 1687,-349 1687,-349 1687,-393 1687,-393 1687,-399 1681,-405 1675,-405\"/>\n<text text-anchor=\"start\" x=\"1498\" y=\"-389.8\" font-family=\"Helvetica,sans-Serif\" font-size=\"14.00\" fill=\"#000000\">entropy = 0.0</text>\n<text text-anchor=\"start\" x=\"1496.5\" y=\"-374.8\" font-family=\"Helvetica,sans-Serif\" font-size=\"14.00\" fill=\"#000000\">samples = 79</text>\n<text text-anchor=\"start\" x=\"1402\" y=\"-359.8\" font-family=\"Helvetica,sans-Serif\" font-size=\"14.00\" fill=\"#000000\">value = [0, 0, 79, 0, 0, 0, 0, 0, 0, 0, 0, 0, 0, 0</text>\n<text text-anchor=\"start\" x=\"1479\" y=\"-344.8\" font-family=\"Helvetica,sans-Serif\" font-size=\"14.00\" fill=\"#000000\">0, 0, 0, 0, 0, 0, 0, 0]</text>\n</g>\n<!-- 16&#45;&gt;17 -->\n<g id=\"edge17\" class=\"edge\">\n<title>16&#45;&gt;17</title>\n<path fill=\"none\" stroke=\"#000000\" d=\"M1640.8461,-445.7677C1625.8946,-434.6274 1609.5929,-422.4809 1594.5595,-411.2797\"/>\n<polygon fill=\"#000000\" stroke=\"#000000\" points=\"1596.4649,-408.3346 1586.3548,-405.1663 1592.2825,-413.9478 1596.4649,-408.3346\"/>\n</g>\n<!-- 18 -->\n<g id=\"node19\" class=\"node\">\n<title>18</title>\n<path fill=\"#3941e5\" stroke=\"#000000\" d=\"M1977.5,-405C1977.5,-405 1717.5,-405 1717.5,-405 1711.5,-405 1705.5,-399 1705.5,-393 1705.5,-393 1705.5,-349 1705.5,-349 1705.5,-343 1711.5,-337 1717.5,-337 1717.5,-337 1977.5,-337 1977.5,-337 1983.5,-337 1989.5,-343 1989.5,-349 1989.5,-349 1989.5,-393 1989.5,-393 1989.5,-399 1983.5,-405 1977.5,-405\"/>\n<text text-anchor=\"start\" x=\"1805\" y=\"-389.8\" font-family=\"Helvetica,sans-Serif\" font-size=\"14.00\" fill=\"#000000\">entropy = 0.0</text>\n<text text-anchor=\"start\" x=\"1808\" y=\"-374.8\" font-family=\"Helvetica,sans-Serif\" font-size=\"14.00\" fill=\"#000000\">samples = 1</text>\n<text text-anchor=\"start\" x=\"1713.5\" y=\"-359.8\" font-family=\"Helvetica,sans-Serif\" font-size=\"14.00\" fill=\"#000000\">value = [0, 0, 0, 0, 0, 0, 0, 0, 0, 0, 0, 0, 0, 1</text>\n<text text-anchor=\"start\" x=\"1786\" y=\"-344.8\" font-family=\"Helvetica,sans-Serif\" font-size=\"14.00\" fill=\"#000000\">0, 0, 0, 0, 0, 0, 0, 0]</text>\n</g>\n<!-- 16&#45;&gt;18 -->\n<g id=\"edge18\" class=\"edge\">\n<title>16&#45;&gt;18</title>\n<path fill=\"none\" stroke=\"#000000\" d=\"M1746.4981,-445.7677C1761.5473,-434.6274 1777.9556,-422.4809 1793.0871,-411.2797\"/>\n<polygon fill=\"#000000\" stroke=\"#000000\" points=\"1795.3905,-413.9293 1801.3455,-405.1663 1791.2256,-408.3031 1795.3905,-413.9293\"/>\n</g>\n<!-- 20 -->\n<g id=\"node21\" class=\"node\">\n<title>20</title>\n<path fill=\"#396fe5\" stroke=\"#000000\" d=\"M1524,-747C1524,-747 1255,-747 1255,-747 1249,-747 1243,-741 1243,-735 1243,-735 1243,-691 1243,-691 1243,-685 1249,-679 1255,-679 1255,-679 1524,-679 1524,-679 1530,-679 1536,-685 1536,-691 1536,-691 1536,-735 1536,-735 1536,-741 1530,-747 1524,-747\"/>\n<text text-anchor=\"start\" x=\"1347\" y=\"-731.8\" font-family=\"Helvetica,sans-Serif\" font-size=\"14.00\" fill=\"#000000\">entropy = 0.0</text>\n<text text-anchor=\"start\" x=\"1345.5\" y=\"-716.8\" font-family=\"Helvetica,sans-Serif\" font-size=\"14.00\" fill=\"#000000\">samples = 81</text>\n<text text-anchor=\"start\" x=\"1251\" y=\"-701.8\" font-family=\"Helvetica,sans-Serif\" font-size=\"14.00\" fill=\"#000000\">value = [0, 0, 0, 0, 0, 0, 0, 0, 0, 0, 0, 0, 81, 0</text>\n<text text-anchor=\"start\" x=\"1328\" y=\"-686.8\" font-family=\"Helvetica,sans-Serif\" font-size=\"14.00\" fill=\"#000000\">0, 0, 0, 0, 0, 0, 0, 0]</text>\n</g>\n<!-- 19&#45;&gt;20 -->\n<g id=\"edge20\" class=\"edge\">\n<title>19&#45;&gt;20</title>\n<path fill=\"none\" stroke=\"#000000\" d=\"M1494.4371,-787.7677C1478.8015,-776.6274 1461.754,-764.4809 1446.0329,-753.2797\"/>\n<polygon fill=\"#000000\" stroke=\"#000000\" points=\"1447.628,-750.1187 1437.4528,-747.1663 1443.566,-755.8196 1447.628,-750.1187\"/>\n</g>\n<!-- 21 -->\n<g id=\"node22\" class=\"node\">\n<title>21</title>\n<path fill=\"#fce8f6\" stroke=\"#000000\" d=\"M1835,-752C1835,-752 1566,-752 1566,-752 1560,-752 1554,-746 1554,-740 1554,-740 1554,-686 1554,-686 1554,-680 1560,-674 1566,-674 1566,-674 1835,-674 1835,-674 1841,-674 1847,-680 1847,-686 1847,-686 1847,-740 1847,-740 1847,-746 1841,-752 1835,-752\"/>\n<text text-anchor=\"start\" x=\"1663.5\" y=\"-737.8\" font-family=\"Helvetica,sans-Serif\" font-size=\"14.00\" fill=\"#000000\">X</text>\n<text text-anchor=\"start\" x=\"1673.5\" y=\"-737.8\" font-family=\"Helvetica,sans-Serif\" baseline-shift=\"sub\" font-size=\"14.00\" fill=\"#000000\">4</text>\n<text text-anchor=\"start\" x=\"1680.5\" y=\"-737.8\" font-family=\"Helvetica,sans-Serif\" font-size=\"14.00\" fill=\"#000000\"> ≤ &#45;1.968</text>\n<text text-anchor=\"start\" x=\"1649.5\" y=\"-723.8\" font-family=\"Helvetica,sans-Serif\" font-size=\"14.00\" fill=\"#000000\">entropy = 0.997</text>\n<text text-anchor=\"start\" x=\"1652.5\" y=\"-709.8\" font-family=\"Helvetica,sans-Serif\" font-size=\"14.00\" fill=\"#000000\">samples = 145</text>\n<text text-anchor=\"start\" x=\"1562\" y=\"-695.8\" font-family=\"Helvetica,sans-Serif\" font-size=\"14.00\" fill=\"#000000\">value = [0, 0, 0, 0, 0, 0, 0, 0, 0, 68, 0, 0, 0, 0</text>\n<text text-anchor=\"start\" x=\"1635\" y=\"-681.8\" font-family=\"Helvetica,sans-Serif\" font-size=\"14.00\" fill=\"#000000\">0, 0, 0, 0, 77, 0, 0, 0]</text>\n</g>\n<!-- 19&#45;&gt;21 -->\n<g id=\"edge21\" class=\"edge\">\n<title>19&#45;&gt;21</title>\n<path fill=\"none\" stroke=\"#000000\" d=\"M1601.4656,-787.7677C1614.1116,-778.2204 1627.7362,-767.9342 1640.7129,-758.1373\"/>\n<polygon fill=\"#000000\" stroke=\"#000000\" points=\"1642.8224,-760.9302 1648.6945,-752.1115 1638.6046,-755.3435 1642.8224,-760.9302\"/>\n</g>\n<!-- 22 -->\n<g id=\"node23\" class=\"node\">\n<title>22</title>\n<path fill=\"#39e5ce\" stroke=\"#000000\" d=\"M1834,-633C1834,-633 1565,-633 1565,-633 1559,-633 1553,-627 1553,-621 1553,-621 1553,-577 1553,-577 1553,-571 1559,-565 1565,-565 1565,-565 1834,-565 1834,-565 1840,-565 1846,-571 1846,-577 1846,-577 1846,-621 1846,-621 1846,-627 1840,-633 1834,-633\"/>\n<text text-anchor=\"start\" x=\"1657\" y=\"-617.8\" font-family=\"Helvetica,sans-Serif\" font-size=\"14.00\" fill=\"#000000\">entropy = 0.0</text>\n<text text-anchor=\"start\" x=\"1655.5\" y=\"-602.8\" font-family=\"Helvetica,sans-Serif\" font-size=\"14.00\" fill=\"#000000\">samples = 68</text>\n<text text-anchor=\"start\" x=\"1561\" y=\"-587.8\" font-family=\"Helvetica,sans-Serif\" font-size=\"14.00\" fill=\"#000000\">value = [0, 0, 0, 0, 0, 0, 0, 0, 0, 68, 0, 0, 0, 0</text>\n<text text-anchor=\"start\" x=\"1638\" y=\"-572.8\" font-family=\"Helvetica,sans-Serif\" font-size=\"14.00\" fill=\"#000000\">0, 0, 0, 0, 0, 0, 0, 0]</text>\n</g>\n<!-- 21&#45;&gt;22 -->\n<g id=\"edge22\" class=\"edge\">\n<title>21&#45;&gt;22</title>\n<path fill=\"none\" stroke=\"#000000\" d=\"M1700.1559,-673.7677C1700.0703,-664.0161 1699.978,-653.4937 1699.8904,-643.509\"/>\n<polygon fill=\"#000000\" stroke=\"#000000\" points=\"1703.389,-643.3224 1699.8013,-633.3535 1696.3893,-643.3839 1703.389,-643.3224\"/>\n</g>\n<!-- 23 -->\n<g id=\"node24\" class=\"node\">\n<title>23</title>\n<path fill=\"#e539ae\" stroke=\"#000000\" d=\"M2136.5,-633C2136.5,-633 1876.5,-633 1876.5,-633 1870.5,-633 1864.5,-627 1864.5,-621 1864.5,-621 1864.5,-577 1864.5,-577 1864.5,-571 1870.5,-565 1876.5,-565 1876.5,-565 2136.5,-565 2136.5,-565 2142.5,-565 2148.5,-571 2148.5,-577 2148.5,-577 2148.5,-621 2148.5,-621 2148.5,-627 2142.5,-633 2136.5,-633\"/>\n<text text-anchor=\"start\" x=\"1964\" y=\"-617.8\" font-family=\"Helvetica,sans-Serif\" font-size=\"14.00\" fill=\"#000000\">entropy = 0.0</text>\n<text text-anchor=\"start\" x=\"1962.5\" y=\"-602.8\" font-family=\"Helvetica,sans-Serif\" font-size=\"14.00\" fill=\"#000000\">samples = 77</text>\n<text text-anchor=\"start\" x=\"1872.5\" y=\"-587.8\" font-family=\"Helvetica,sans-Serif\" font-size=\"14.00\" fill=\"#000000\">value = [0, 0, 0, 0, 0, 0, 0, 0, 0, 0, 0, 0, 0, 0</text>\n<text text-anchor=\"start\" x=\"1941\" y=\"-572.8\" font-family=\"Helvetica,sans-Serif\" font-size=\"14.00\" fill=\"#000000\">0, 0, 0, 0, 77, 0, 0, 0]</text>\n</g>\n<!-- 21&#45;&gt;23 -->\n<g id=\"edge23\" class=\"edge\">\n<title>21&#45;&gt;23</title>\n<path fill=\"none\" stroke=\"#000000\" d=\"M1805.3797,-673.9272C1837.8176,-661.8424 1873.4684,-648.5608 1905.629,-636.5794\"/>\n<polygon fill=\"#000000\" stroke=\"#000000\" points=\"1906.8956,-639.8426 1915.0445,-633.0716 1904.4518,-633.283 1906.8956,-639.8426\"/>\n</g>\n<!-- 25 -->\n<g id=\"node26\" class=\"node\">\n<title>25</title>\n<path fill=\"#3ca1e5\" stroke=\"#000000\" d=\"M2449,-866C2449,-866 2180,-866 2180,-866 2174,-866 2168,-860 2168,-854 2168,-854 2168,-800 2168,-800 2168,-794 2174,-788 2180,-788 2180,-788 2449,-788 2449,-788 2455,-788 2461,-794 2461,-800 2461,-800 2461,-854 2461,-854 2461,-860 2455,-866 2449,-866\"/>\n<text text-anchor=\"start\" x=\"2284\" y=\"-851.8\" font-family=\"Helvetica,sans-Serif\" font-size=\"14.00\" fill=\"#000000\">X</text>\n<text text-anchor=\"start\" x=\"2294\" y=\"-851.8\" font-family=\"Helvetica,sans-Serif\" baseline-shift=\"sub\" font-size=\"14.00\" fill=\"#000000\">3</text>\n<text text-anchor=\"start\" x=\"2301\" y=\"-851.8\" font-family=\"Helvetica,sans-Serif\" font-size=\"14.00\" fill=\"#000000\"> ≤ 0.71</text>\n<text text-anchor=\"start\" x=\"2263.5\" y=\"-837.8\" font-family=\"Helvetica,sans-Serif\" font-size=\"14.00\" fill=\"#000000\">entropy = 0.097</text>\n<text text-anchor=\"start\" x=\"2270.5\" y=\"-823.8\" font-family=\"Helvetica,sans-Serif\" font-size=\"14.00\" fill=\"#000000\">samples = 80</text>\n<text text-anchor=\"start\" x=\"2176\" y=\"-809.8\" font-family=\"Helvetica,sans-Serif\" font-size=\"14.00\" fill=\"#000000\">value = [0, 0, 1, 0, 0, 0, 0, 0, 0, 0, 0, 79, 0, 0</text>\n<text text-anchor=\"start\" x=\"2253\" y=\"-795.8\" font-family=\"Helvetica,sans-Serif\" font-size=\"14.00\" fill=\"#000000\">0, 0, 0, 0, 0, 0, 0, 0]</text>\n</g>\n<!-- 24&#45;&gt;25 -->\n<g id=\"edge25\" class=\"edge\">\n<title>24&#45;&gt;25</title>\n<path fill=\"none\" stroke=\"#000000\" d=\"M2416.1578,-901.7677C2403.1769,-892.2204 2389.1913,-881.9342 2375.8708,-872.1373\"/>\n<polygon fill=\"#000000\" stroke=\"#000000\" points=\"2377.8074,-869.2169 2367.6779,-866.1115 2373.6599,-874.8559 2377.8074,-869.2169\"/>\n</g>\n<!-- 28 -->\n<g id=\"node29\" class=\"node\">\n<title>28</title>\n<path fill=\"#63e53b\" stroke=\"#000000\" d=\"M2760,-866C2760,-866 2491,-866 2491,-866 2485,-866 2479,-860 2479,-854 2479,-854 2479,-800 2479,-800 2479,-794 2485,-788 2491,-788 2491,-788 2760,-788 2760,-788 2766,-788 2772,-794 2772,-800 2772,-800 2772,-854 2772,-854 2772,-860 2766,-866 2760,-866\"/>\n<text text-anchor=\"start\" x=\"2588.5\" y=\"-851.8\" font-family=\"Helvetica,sans-Serif\" font-size=\"14.00\" fill=\"#000000\">X</text>\n<text text-anchor=\"start\" x=\"2598.5\" y=\"-851.8\" font-family=\"Helvetica,sans-Serif\" baseline-shift=\"sub\" font-size=\"14.00\" fill=\"#000000\">1</text>\n<text text-anchor=\"start\" x=\"2605.5\" y=\"-851.8\" font-family=\"Helvetica,sans-Serif\" font-size=\"14.00\" fill=\"#000000\"> ≤ &#45;0.193</text>\n<text text-anchor=\"start\" x=\"2574.5\" y=\"-837.8\" font-family=\"Helvetica,sans-Serif\" font-size=\"14.00\" fill=\"#000000\">entropy = 0.093</text>\n<text text-anchor=\"start\" x=\"2581.5\" y=\"-823.8\" font-family=\"Helvetica,sans-Serif\" font-size=\"14.00\" fill=\"#000000\">samples = 84</text>\n<text text-anchor=\"start\" x=\"2487\" y=\"-809.8\" font-family=\"Helvetica,sans-Serif\" font-size=\"14.00\" fill=\"#000000\">value = [0, 0, 0, 0, 0, 83, 0, 0, 1, 0, 0, 0, 0, 0</text>\n<text text-anchor=\"start\" x=\"2564\" y=\"-795.8\" font-family=\"Helvetica,sans-Serif\" font-size=\"14.00\" fill=\"#000000\">0, 0, 0, 0, 0, 0, 0, 0]</text>\n</g>\n<!-- 24&#45;&gt;28 -->\n<g id=\"edge28\" class=\"edge\">\n<title>24&#45;&gt;28</title>\n<path fill=\"none\" stroke=\"#000000\" d=\"M2523.1864,-901.7677C2536.251,-892.2204 2550.3268,-881.9342 2563.7332,-872.1373\"/>\n<polygon fill=\"#000000\" stroke=\"#000000\" points=\"2565.9702,-874.8375 2571.9791,-866.1115 2561.8401,-869.1858 2565.9702,-874.8375\"/>\n</g>\n<!-- 26 -->\n<g id=\"node27\" class=\"node\">\n<title>26</title>\n<path fill=\"#39a0e5\" stroke=\"#000000\" d=\"M2146,-747C2146,-747 1877,-747 1877,-747 1871,-747 1865,-741 1865,-735 1865,-735 1865,-691 1865,-691 1865,-685 1871,-679 1877,-679 1877,-679 2146,-679 2146,-679 2152,-679 2158,-685 2158,-691 2158,-691 2158,-735 2158,-735 2158,-741 2152,-747 2146,-747\"/>\n<text text-anchor=\"start\" x=\"1969\" y=\"-731.8\" font-family=\"Helvetica,sans-Serif\" font-size=\"14.00\" fill=\"#000000\">entropy = 0.0</text>\n<text text-anchor=\"start\" x=\"1967.5\" y=\"-716.8\" font-family=\"Helvetica,sans-Serif\" font-size=\"14.00\" fill=\"#000000\">samples = 79</text>\n<text text-anchor=\"start\" x=\"1873\" y=\"-701.8\" font-family=\"Helvetica,sans-Serif\" font-size=\"14.00\" fill=\"#000000\">value = [0, 0, 0, 0, 0, 0, 0, 0, 0, 0, 0, 79, 0, 0</text>\n<text text-anchor=\"start\" x=\"1950\" y=\"-686.8\" font-family=\"Helvetica,sans-Serif\" font-size=\"14.00\" fill=\"#000000\">0, 0, 0, 0, 0, 0, 0, 0]</text>\n</g>\n<!-- 25&#45;&gt;26 -->\n<g id=\"edge26\" class=\"edge\">\n<title>25&#45;&gt;26</title>\n<path fill=\"none\" stroke=\"#000000\" d=\"M2210.6485,-787.9272C2178.6665,-775.8943 2143.5303,-762.6748 2111.7923,-750.7337\"/>\n<polygon fill=\"#000000\" stroke=\"#000000\" points=\"2112.6508,-747.3173 2102.0589,-747.0716 2110.1858,-753.8689 2112.6508,-747.3173\"/>\n</g>\n<!-- 27 -->\n<g id=\"node28\" class=\"node\">\n<title>27</title>\n<path fill=\"#e5dc39\" stroke=\"#000000\" d=\"M2448.5,-747C2448.5,-747 2188.5,-747 2188.5,-747 2182.5,-747 2176.5,-741 2176.5,-735 2176.5,-735 2176.5,-691 2176.5,-691 2176.5,-685 2182.5,-679 2188.5,-679 2188.5,-679 2448.5,-679 2448.5,-679 2454.5,-679 2460.5,-685 2460.5,-691 2460.5,-691 2460.5,-735 2460.5,-735 2460.5,-741 2454.5,-747 2448.5,-747\"/>\n<text text-anchor=\"start\" x=\"2276\" y=\"-731.8\" font-family=\"Helvetica,sans-Serif\" font-size=\"14.00\" fill=\"#000000\">entropy = 0.0</text>\n<text text-anchor=\"start\" x=\"2279\" y=\"-716.8\" font-family=\"Helvetica,sans-Serif\" font-size=\"14.00\" fill=\"#000000\">samples = 1</text>\n<text text-anchor=\"start\" x=\"2184.5\" y=\"-701.8\" font-family=\"Helvetica,sans-Serif\" font-size=\"14.00\" fill=\"#000000\">value = [0, 0, 1, 0, 0, 0, 0, 0, 0, 0, 0, 0, 0, 0</text>\n<text text-anchor=\"start\" x=\"2257\" y=\"-686.8\" font-family=\"Helvetica,sans-Serif\" font-size=\"14.00\" fill=\"#000000\">0, 0, 0, 0, 0, 0, 0, 0]</text>\n</g>\n<!-- 25&#45;&gt;27 -->\n<g id=\"edge27\" class=\"edge\">\n<title>25&#45;&gt;27</title>\n<path fill=\"none\" stroke=\"#000000\" d=\"M2315.8766,-787.7677C2316.2187,-778.0161 2316.5879,-767.4937 2316.9383,-757.509\"/>\n<polygon fill=\"#000000\" stroke=\"#000000\" points=\"2320.4417,-757.4701 2317.2946,-747.3535 2313.446,-757.2246 2320.4417,-757.4701\"/>\n</g>\n<!-- 29 -->\n<g id=\"node30\" class=\"node\">\n<title>29</title>\n<path fill=\"#61e539\" stroke=\"#000000\" d=\"M2760,-747C2760,-747 2491,-747 2491,-747 2485,-747 2479,-741 2479,-735 2479,-735 2479,-691 2479,-691 2479,-685 2485,-679 2491,-679 2491,-679 2760,-679 2760,-679 2766,-679 2772,-685 2772,-691 2772,-691 2772,-735 2772,-735 2772,-741 2766,-747 2760,-747\"/>\n<text text-anchor=\"start\" x=\"2583\" y=\"-731.8\" font-family=\"Helvetica,sans-Serif\" font-size=\"14.00\" fill=\"#000000\">entropy = 0.0</text>\n<text text-anchor=\"start\" x=\"2581.5\" y=\"-716.8\" font-family=\"Helvetica,sans-Serif\" font-size=\"14.00\" fill=\"#000000\">samples = 83</text>\n<text text-anchor=\"start\" x=\"2487\" y=\"-701.8\" font-family=\"Helvetica,sans-Serif\" font-size=\"14.00\" fill=\"#000000\">value = [0, 0, 0, 0, 0, 83, 0, 0, 0, 0, 0, 0, 0, 0</text>\n<text text-anchor=\"start\" x=\"2564\" y=\"-686.8\" font-family=\"Helvetica,sans-Serif\" font-size=\"14.00\" fill=\"#000000\">0, 0, 0, 0, 0, 0, 0, 0]</text>\n</g>\n<!-- 28&#45;&gt;29 -->\n<g id=\"edge29\" class=\"edge\">\n<title>28&#45;&gt;29</title>\n<path fill=\"none\" stroke=\"#000000\" d=\"M2625.5,-787.7677C2625.5,-778.0161 2625.5,-767.4937 2625.5,-757.509\"/>\n<polygon fill=\"#000000\" stroke=\"#000000\" points=\"2629.0001,-757.3535 2625.5,-747.3535 2622.0001,-757.3536 2629.0001,-757.3535\"/>\n</g>\n<!-- 30 -->\n<g id=\"node31\" class=\"node\">\n<title>30</title>\n<path fill=\"#39e59d\" stroke=\"#000000\" d=\"M3062.5,-747C3062.5,-747 2802.5,-747 2802.5,-747 2796.5,-747 2790.5,-741 2790.5,-735 2790.5,-735 2790.5,-691 2790.5,-691 2790.5,-685 2796.5,-679 2802.5,-679 2802.5,-679 3062.5,-679 3062.5,-679 3068.5,-679 3074.5,-685 3074.5,-691 3074.5,-691 3074.5,-735 3074.5,-735 3074.5,-741 3068.5,-747 3062.5,-747\"/>\n<text text-anchor=\"start\" x=\"2890\" y=\"-731.8\" font-family=\"Helvetica,sans-Serif\" font-size=\"14.00\" fill=\"#000000\">entropy = 0.0</text>\n<text text-anchor=\"start\" x=\"2893\" y=\"-716.8\" font-family=\"Helvetica,sans-Serif\" font-size=\"14.00\" fill=\"#000000\">samples = 1</text>\n<text text-anchor=\"start\" x=\"2798.5\" y=\"-701.8\" font-family=\"Helvetica,sans-Serif\" font-size=\"14.00\" fill=\"#000000\">value = [0, 0, 0, 0, 0, 0, 0, 0, 1, 0, 0, 0, 0, 0</text>\n<text text-anchor=\"start\" x=\"2871\" y=\"-686.8\" font-family=\"Helvetica,sans-Serif\" font-size=\"14.00\" fill=\"#000000\">0, 0, 0, 0, 0, 0, 0, 0]</text>\n</g>\n<!-- 28&#45;&gt;30 -->\n<g id=\"edge30\" class=\"edge\">\n<title>28&#45;&gt;30</title>\n<path fill=\"none\" stroke=\"#000000\" d=\"M2730.7225,-787.9272C2763.2664,-775.8424 2799.0337,-762.5608 2831.2994,-750.5794\"/>\n<polygon fill=\"#000000\" stroke=\"#000000\" points=\"2832.5895,-753.8339 2840.7456,-747.0716 2830.1527,-747.2717 2832.5895,-753.8339\"/>\n</g>\n<!-- 32 -->\n<g id=\"node33\" class=\"node\">\n<title>32</title>\n<path fill=\"#fafefa\" stroke=\"#000000\" d=\"M3372,-980C3372,-980 3103,-980 3103,-980 3097,-980 3091,-974 3091,-968 3091,-968 3091,-914 3091,-914 3091,-908 3097,-902 3103,-902 3103,-902 3372,-902 3372,-902 3378,-902 3384,-908 3384,-914 3384,-914 3384,-968 3384,-968 3384,-974 3378,-980 3372,-980\"/>\n<text text-anchor=\"start\" x=\"3200.5\" y=\"-965.8\" font-family=\"Helvetica,sans-Serif\" font-size=\"14.00\" fill=\"#000000\">X</text>\n<text text-anchor=\"start\" x=\"3210.5\" y=\"-965.8\" font-family=\"Helvetica,sans-Serif\" baseline-shift=\"sub\" font-size=\"14.00\" fill=\"#000000\">6</text>\n<text text-anchor=\"start\" x=\"3217.5\" y=\"-965.8\" font-family=\"Helvetica,sans-Serif\" font-size=\"14.00\" fill=\"#000000\"> ≤ &#45;0.785</text>\n<text text-anchor=\"start\" x=\"3195\" y=\"-951.8\" font-family=\"Helvetica,sans-Serif\" font-size=\"14.00\" fill=\"#000000\">entropy = 1.0</text>\n<text text-anchor=\"start\" x=\"3189.5\" y=\"-937.8\" font-family=\"Helvetica,sans-Serif\" font-size=\"14.00\" fill=\"#000000\">samples = 164</text>\n<text text-anchor=\"start\" x=\"3099\" y=\"-923.8\" font-family=\"Helvetica,sans-Serif\" font-size=\"14.00\" fill=\"#000000\">value = [0, 0, 0, 0, 0, 0, 83, 0, 0, 0, 0, 0, 0, 0</text>\n<text text-anchor=\"start\" x=\"3172\" y=\"-909.8\" font-family=\"Helvetica,sans-Serif\" font-size=\"14.00\" fill=\"#000000\">81, 0, 0, 0, 0, 0, 0, 0]</text>\n</g>\n<!-- 31&#45;&gt;32 -->\n<g id=\"edge32\" class=\"edge\">\n<title>31&#45;&gt;32</title>\n<path fill=\"none\" stroke=\"#000000\" d=\"M3339.1578,-1015.7677C3326.1769,-1006.2204 3312.1913,-995.9342 3298.8708,-986.1373\"/>\n<polygon fill=\"#000000\" stroke=\"#000000\" points=\"3300.8074,-983.2169 3290.6779,-980.1115 3296.6599,-988.8559 3300.8074,-983.2169\"/>\n</g>\n<!-- 35 -->\n<g id=\"node36\" class=\"node\">\n<title>35</title>\n<path fill=\"#f6e5fc\" stroke=\"#000000\" d=\"M3683,-980C3683,-980 3414,-980 3414,-980 3408,-980 3402,-974 3402,-968 3402,-968 3402,-914 3402,-914 3402,-908 3408,-902 3414,-902 3414,-902 3683,-902 3683,-902 3689,-902 3695,-908 3695,-914 3695,-914 3695,-968 3695,-968 3695,-974 3689,-980 3683,-980\"/>\n<text text-anchor=\"start\" x=\"3511.5\" y=\"-965.8\" font-family=\"Helvetica,sans-Serif\" font-size=\"14.00\" fill=\"#000000\">X</text>\n<text text-anchor=\"start\" x=\"3521.5\" y=\"-965.8\" font-family=\"Helvetica,sans-Serif\" baseline-shift=\"sub\" font-size=\"14.00\" fill=\"#000000\">2</text>\n<text text-anchor=\"start\" x=\"3528.5\" y=\"-965.8\" font-family=\"Helvetica,sans-Serif\" font-size=\"14.00\" fill=\"#000000\"> ≤ &#45;0.556</text>\n<text text-anchor=\"start\" x=\"3497.5\" y=\"-951.8\" font-family=\"Helvetica,sans-Serif\" font-size=\"14.00\" fill=\"#000000\">entropy = 1.434</text>\n<text text-anchor=\"start\" x=\"3500.5\" y=\"-937.8\" font-family=\"Helvetica,sans-Serif\" font-size=\"14.00\" fill=\"#000000\">samples = 173</text>\n<text text-anchor=\"start\" x=\"3410\" y=\"-923.8\" font-family=\"Helvetica,sans-Serif\" font-size=\"14.00\" fill=\"#000000\">value = [0, 0, 0, 0, 73, 0, 0, 0, 8, 0, 0, 0, 0, 0</text>\n<text text-anchor=\"start\" x=\"3483\" y=\"-909.8\" font-family=\"Helvetica,sans-Serif\" font-size=\"14.00\" fill=\"#000000\">0, 0, 86, 0, 0, 3, 3, 0]</text>\n</g>\n<!-- 31&#45;&gt;35 -->\n<g id=\"edge35\" class=\"edge\">\n<title>31&#45;&gt;35</title>\n<path fill=\"none\" stroke=\"#000000\" d=\"M3446.1864,-1015.7677C3459.251,-1006.2204 3473.3268,-995.9342 3486.7332,-986.1373\"/>\n<polygon fill=\"#000000\" stroke=\"#000000\" points=\"3488.9702,-988.8375 3494.9791,-980.1115 3484.8401,-983.1858 3488.9702,-988.8375\"/>\n</g>\n<!-- 33 -->\n<g id=\"node34\" class=\"node\">\n<title>33</title>\n<path fill=\"#6139e5\" stroke=\"#000000\" d=\"M3062.5,-861C3062.5,-861 2802.5,-861 2802.5,-861 2796.5,-861 2790.5,-855 2790.5,-849 2790.5,-849 2790.5,-805 2790.5,-805 2790.5,-799 2796.5,-793 2802.5,-793 2802.5,-793 3062.5,-793 3062.5,-793 3068.5,-793 3074.5,-799 3074.5,-805 3074.5,-805 3074.5,-849 3074.5,-849 3074.5,-855 3068.5,-861 3062.5,-861\"/>\n<text text-anchor=\"start\" x=\"2890\" y=\"-845.8\" font-family=\"Helvetica,sans-Serif\" font-size=\"14.00\" fill=\"#000000\">entropy = 0.0</text>\n<text text-anchor=\"start\" x=\"2888.5\" y=\"-830.8\" font-family=\"Helvetica,sans-Serif\" font-size=\"14.00\" fill=\"#000000\">samples = 81</text>\n<text text-anchor=\"start\" x=\"2798.5\" y=\"-815.8\" font-family=\"Helvetica,sans-Serif\" font-size=\"14.00\" fill=\"#000000\">value = [0, 0, 0, 0, 0, 0, 0, 0, 0, 0, 0, 0, 0, 0</text>\n<text text-anchor=\"start\" x=\"2867\" y=\"-800.8\" font-family=\"Helvetica,sans-Serif\" font-size=\"14.00\" fill=\"#000000\">81, 0, 0, 0, 0, 0, 0, 0]</text>\n</g>\n<!-- 32&#45;&gt;33 -->\n<g id=\"edge33\" class=\"edge\">\n<title>32&#45;&gt;33</title>\n<path fill=\"none\" stroke=\"#000000\" d=\"M3132.963,-901.9272C3100.6311,-889.8424 3065.0969,-876.5608 3033.0413,-864.5794\"/>\n<polygon fill=\"#000000\" stroke=\"#000000\" points=\"3034.2491,-861.2944 3023.6566,-861.0716 3031.7983,-867.8513 3034.2491,-861.2944\"/>\n</g>\n<!-- 34 -->\n<g id=\"node35\" class=\"node\">\n<title>34</title>\n<path fill=\"#39e541\" stroke=\"#000000\" d=\"M3374,-861C3374,-861 3105,-861 3105,-861 3099,-861 3093,-855 3093,-849 3093,-849 3093,-805 3093,-805 3093,-799 3099,-793 3105,-793 3105,-793 3374,-793 3374,-793 3380,-793 3386,-799 3386,-805 3386,-805 3386,-849 3386,-849 3386,-855 3380,-861 3374,-861\"/>\n<text text-anchor=\"start\" x=\"3197\" y=\"-845.8\" font-family=\"Helvetica,sans-Serif\" font-size=\"14.00\" fill=\"#000000\">entropy = 0.0</text>\n<text text-anchor=\"start\" x=\"3195.5\" y=\"-830.8\" font-family=\"Helvetica,sans-Serif\" font-size=\"14.00\" fill=\"#000000\">samples = 83</text>\n<text text-anchor=\"start\" x=\"3101\" y=\"-815.8\" font-family=\"Helvetica,sans-Serif\" font-size=\"14.00\" fill=\"#000000\">value = [0, 0, 0, 0, 0, 0, 83, 0, 0, 0, 0, 0, 0, 0</text>\n<text text-anchor=\"start\" x=\"3178\" y=\"-800.8\" font-family=\"Helvetica,sans-Serif\" font-size=\"14.00\" fill=\"#000000\">0, 0, 0, 0, 0, 0, 0, 0]</text>\n</g>\n<!-- 32&#45;&gt;34 -->\n<g id=\"edge34\" class=\"edge\">\n<title>32&#45;&gt;34</title>\n<path fill=\"none\" stroke=\"#000000\" d=\"M3238.1883,-901.7677C3238.3594,-892.0161 3238.544,-881.4937 3238.7191,-871.509\"/>\n<polygon fill=\"#000000\" stroke=\"#000000\" points=\"3242.2213,-871.4134 3238.8973,-861.3535 3235.2223,-871.2906 3242.2213,-871.4134\"/>\n</g>\n<!-- 36 -->\n<g id=\"node37\" class=\"node\">\n<title>36</title>\n<path fill=\"#bd39e5\" stroke=\"#000000\" d=\"M3676.5,-861C3676.5,-861 3416.5,-861 3416.5,-861 3410.5,-861 3404.5,-855 3404.5,-849 3404.5,-849 3404.5,-805 3404.5,-805 3404.5,-799 3410.5,-793 3416.5,-793 3416.5,-793 3676.5,-793 3676.5,-793 3682.5,-793 3688.5,-799 3688.5,-805 3688.5,-805 3688.5,-849 3688.5,-849 3688.5,-855 3682.5,-861 3676.5,-861\"/>\n<text text-anchor=\"start\" x=\"3504\" y=\"-845.8\" font-family=\"Helvetica,sans-Serif\" font-size=\"14.00\" fill=\"#000000\">entropy = 0.0</text>\n<text text-anchor=\"start\" x=\"3502.5\" y=\"-830.8\" font-family=\"Helvetica,sans-Serif\" font-size=\"14.00\" fill=\"#000000\">samples = 86</text>\n<text text-anchor=\"start\" x=\"3412.5\" y=\"-815.8\" font-family=\"Helvetica,sans-Serif\" font-size=\"14.00\" fill=\"#000000\">value = [0, 0, 0, 0, 0, 0, 0, 0, 0, 0, 0, 0, 0, 0</text>\n<text text-anchor=\"start\" x=\"3481\" y=\"-800.8\" font-family=\"Helvetica,sans-Serif\" font-size=\"14.00\" fill=\"#000000\">0, 0, 86, 0, 0, 0, 0, 0]</text>\n</g>\n<!-- 35&#45;&gt;36 -->\n<g id=\"edge36\" class=\"edge\">\n<title>35&#45;&gt;36</title>\n<path fill=\"none\" stroke=\"#000000\" d=\"M3547.8117,-901.7677C3547.6406,-892.0161 3547.456,-881.4937 3547.2809,-871.509\"/>\n<polygon fill=\"#000000\" stroke=\"#000000\" points=\"3550.7777,-871.2906 3547.1027,-861.3535 3543.7787,-871.4134 3550.7777,-871.2906\"/>\n</g>\n<!-- 37 -->\n<g id=\"node38\" class=\"node\">\n<title>37</title>\n<path fill=\"#a3ea5c\" stroke=\"#000000\" d=\"M3988,-866C3988,-866 3719,-866 3719,-866 3713,-866 3707,-860 3707,-854 3707,-854 3707,-800 3707,-800 3707,-794 3713,-788 3719,-788 3719,-788 3988,-788 3988,-788 3994,-788 4000,-794 4000,-800 4000,-800 4000,-854 4000,-854 4000,-860 3994,-866 3988,-866\"/>\n<text text-anchor=\"start\" x=\"3819\" y=\"-851.8\" font-family=\"Helvetica,sans-Serif\" font-size=\"14.00\" fill=\"#000000\">X</text>\n<text text-anchor=\"start\" x=\"3829\" y=\"-851.8\" font-family=\"Helvetica,sans-Serif\" baseline-shift=\"sub\" font-size=\"14.00\" fill=\"#000000\">4</text>\n<text text-anchor=\"start\" x=\"3836\" y=\"-851.8\" font-family=\"Helvetica,sans-Serif\" font-size=\"14.00\" fill=\"#000000\"> ≤ 0.835</text>\n<text text-anchor=\"start\" x=\"3802.5\" y=\"-837.8\" font-family=\"Helvetica,sans-Serif\" font-size=\"14.00\" fill=\"#000000\">entropy = 0.864</text>\n<text text-anchor=\"start\" x=\"3809.5\" y=\"-823.8\" font-family=\"Helvetica,sans-Serif\" font-size=\"14.00\" fill=\"#000000\">samples = 87</text>\n<text text-anchor=\"start\" x=\"3715\" y=\"-809.8\" font-family=\"Helvetica,sans-Serif\" font-size=\"14.00\" fill=\"#000000\">value = [0, 0, 0, 0, 73, 0, 0, 0, 8, 0, 0, 0, 0, 0</text>\n<text text-anchor=\"start\" x=\"3792\" y=\"-795.8\" font-family=\"Helvetica,sans-Serif\" font-size=\"14.00\" fill=\"#000000\">0, 0, 0, 0, 0, 3, 3, 0]</text>\n</g>\n<!-- 35&#45;&gt;37 -->\n<g id=\"edge37\" class=\"edge\">\n<title>35&#45;&gt;37</title>\n<path fill=\"none\" stroke=\"#000000\" d=\"M3653.037,-901.9272C3680.9244,-891.5037 3711.1943,-880.1897 3739.5594,-869.5876\"/>\n<polygon fill=\"#000000\" stroke=\"#000000\" points=\"3740.958,-872.8015 3749.0996,-866.0218 3738.5071,-866.2445 3740.958,-872.8015\"/>\n</g>\n<!-- 38 -->\n<g id=\"node39\" class=\"node\">\n<title>38</title>\n<path fill=\"#9cf2ce\" stroke=\"#000000\" d=\"M3752.5,-752C3752.5,-752 3492.5,-752 3492.5,-752 3486.5,-752 3480.5,-746 3480.5,-740 3480.5,-740 3480.5,-686 3480.5,-686 3480.5,-680 3486.5,-674 3492.5,-674 3492.5,-674 3752.5,-674 3752.5,-674 3758.5,-674 3764.5,-680 3764.5,-686 3764.5,-686 3764.5,-740 3764.5,-740 3764.5,-746 3758.5,-752 3752.5,-752\"/>\n<text text-anchor=\"start\" x=\"3589.5\" y=\"-737.8\" font-family=\"Helvetica,sans-Serif\" font-size=\"14.00\" fill=\"#000000\">X</text>\n<text text-anchor=\"start\" x=\"3599.5\" y=\"-737.8\" font-family=\"Helvetica,sans-Serif\" baseline-shift=\"sub\" font-size=\"14.00\" fill=\"#000000\">3</text>\n<text text-anchor=\"start\" x=\"3606.5\" y=\"-737.8\" font-family=\"Helvetica,sans-Serif\" font-size=\"14.00\" fill=\"#000000\"> ≤ &#45;0.74</text>\n<text text-anchor=\"start\" x=\"3571.5\" y=\"-723.8\" font-family=\"Helvetica,sans-Serif\" font-size=\"14.00\" fill=\"#000000\">entropy = 1.335</text>\n<text text-anchor=\"start\" x=\"3578.5\" y=\"-709.8\" font-family=\"Helvetica,sans-Serif\" font-size=\"14.00\" fill=\"#000000\">samples = 13</text>\n<text text-anchor=\"start\" x=\"3488.5\" y=\"-695.8\" font-family=\"Helvetica,sans-Serif\" font-size=\"14.00\" fill=\"#000000\">value = [0, 0, 0, 0, 0, 0, 0, 0, 8, 0, 0, 0, 0, 0</text>\n<text text-anchor=\"start\" x=\"3561\" y=\"-681.8\" font-family=\"Helvetica,sans-Serif\" font-size=\"14.00\" fill=\"#000000\">0, 0, 0, 0, 0, 2, 3, 0]</text>\n</g>\n<!-- 37&#45;&gt;38 -->\n<g id=\"edge38\" class=\"edge\">\n<title>37&#45;&gt;38</title>\n<path fill=\"none\" stroke=\"#000000\" d=\"M3774.3261,-787.9272C3753.8476,-777.8209 3731.6729,-766.8775 3710.7614,-756.5576\"/>\n<polygon fill=\"#000000\" stroke=\"#000000\" points=\"3712.0868,-753.3087 3701.5705,-752.0218 3708.989,-759.5859 3712.0868,-753.3087\"/>\n</g>\n<!-- 45 -->\n<g id=\"node46\" class=\"node\">\n<title>45</title>\n<path fill=\"#91e53c\" stroke=\"#000000\" d=\"M4064,-752C4064,-752 3795,-752 3795,-752 3789,-752 3783,-746 3783,-740 3783,-740 3783,-686 3783,-686 3783,-680 3789,-674 3795,-674 3795,-674 4064,-674 4064,-674 4070,-674 4076,-680 4076,-686 4076,-686 4076,-740 4076,-740 4076,-746 4070,-752 4064,-752\"/>\n<text text-anchor=\"start\" x=\"3892.5\" y=\"-737.8\" font-family=\"Helvetica,sans-Serif\" font-size=\"14.00\" fill=\"#000000\">X</text>\n<text text-anchor=\"start\" x=\"3902.5\" y=\"-737.8\" font-family=\"Helvetica,sans-Serif\" baseline-shift=\"sub\" font-size=\"14.00\" fill=\"#000000\">3</text>\n<text text-anchor=\"start\" x=\"3909.5\" y=\"-737.8\" font-family=\"Helvetica,sans-Serif\" font-size=\"14.00\" fill=\"#000000\"> ≤ &#45;0.291</text>\n<text text-anchor=\"start\" x=\"3878.5\" y=\"-723.8\" font-family=\"Helvetica,sans-Serif\" font-size=\"14.00\" fill=\"#000000\">entropy = 0.103</text>\n<text text-anchor=\"start\" x=\"3885.5\" y=\"-709.8\" font-family=\"Helvetica,sans-Serif\" font-size=\"14.00\" fill=\"#000000\">samples = 74</text>\n<text text-anchor=\"start\" x=\"3791\" y=\"-695.8\" font-family=\"Helvetica,sans-Serif\" font-size=\"14.00\" fill=\"#000000\">value = [0, 0, 0, 0, 73, 0, 0, 0, 0, 0, 0, 0, 0, 0</text>\n<text text-anchor=\"start\" x=\"3868\" y=\"-681.8\" font-family=\"Helvetica,sans-Serif\" font-size=\"14.00\" fill=\"#000000\">0, 0, 0, 0, 0, 1, 0, 0]</text>\n</g>\n<!-- 37&#45;&gt;45 -->\n<g id=\"edge45\" class=\"edge\">\n<title>37&#45;&gt;45</title>\n<path fill=\"none\" stroke=\"#000000\" d=\"M3879.6549,-787.7677C3885.4468,-779.0798 3891.6466,-769.7801 3897.6374,-760.794\"/>\n<polygon fill=\"#000000\" stroke=\"#000000\" points=\"3900.662,-762.5666 3903.2969,-752.3046 3894.8377,-758.6837 3900.662,-762.5666\"/>\n</g>\n<!-- 39 -->\n<g id=\"node40\" class=\"node\">\n<title>39</title>\n<path fill=\"#e53981\" stroke=\"#000000\" d=\"M3452.5,-633C3452.5,-633 3192.5,-633 3192.5,-633 3186.5,-633 3180.5,-627 3180.5,-621 3180.5,-621 3180.5,-577 3180.5,-577 3180.5,-571 3186.5,-565 3192.5,-565 3192.5,-565 3452.5,-565 3452.5,-565 3458.5,-565 3464.5,-571 3464.5,-577 3464.5,-577 3464.5,-621 3464.5,-621 3464.5,-627 3458.5,-633 3452.5,-633\"/>\n<text text-anchor=\"start\" x=\"3280\" y=\"-617.8\" font-family=\"Helvetica,sans-Serif\" font-size=\"14.00\" fill=\"#000000\">entropy = 0.0</text>\n<text text-anchor=\"start\" x=\"3283\" y=\"-602.8\" font-family=\"Helvetica,sans-Serif\" font-size=\"14.00\" fill=\"#000000\">samples = 2</text>\n<text text-anchor=\"start\" x=\"3188.5\" y=\"-587.8\" font-family=\"Helvetica,sans-Serif\" font-size=\"14.00\" fill=\"#000000\">value = [0, 0, 0, 0, 0, 0, 0, 0, 0, 0, 0, 0, 0, 0</text>\n<text text-anchor=\"start\" x=\"3261\" y=\"-572.8\" font-family=\"Helvetica,sans-Serif\" font-size=\"14.00\" fill=\"#000000\">0, 0, 0, 0, 0, 2, 0, 0]</text>\n</g>\n<!-- 38&#45;&gt;39 -->\n<g id=\"edge39\" class=\"edge\">\n<title>38&#45;&gt;39</title>\n<path fill=\"none\" stroke=\"#000000\" d=\"M3519.6767,-673.9272C3488.0113,-661.8943 3453.2231,-648.6748 3421.7993,-636.7337\"/>\n<polygon fill=\"#000000\" stroke=\"#000000\" points=\"3422.7534,-633.3521 3412.1622,-633.0716 3420.2668,-639.8956 3422.7534,-633.3521\"/>\n</g>\n<!-- 40 -->\n<g id=\"node41\" class=\"node\">\n<title>40</title>\n<path fill=\"#83efc2\" stroke=\"#000000\" d=\"M3754.5,-638C3754.5,-638 3494.5,-638 3494.5,-638 3488.5,-638 3482.5,-632 3482.5,-626 3482.5,-626 3482.5,-572 3482.5,-572 3482.5,-566 3488.5,-560 3494.5,-560 3494.5,-560 3754.5,-560 3754.5,-560 3760.5,-560 3766.5,-566 3766.5,-572 3766.5,-572 3766.5,-626 3766.5,-626 3766.5,-632 3760.5,-638 3754.5,-638\"/>\n<text text-anchor=\"start\" x=\"3587.5\" y=\"-623.8\" font-family=\"Helvetica,sans-Serif\" font-size=\"14.00\" fill=\"#000000\">X</text>\n<text text-anchor=\"start\" x=\"3597.5\" y=\"-623.8\" font-family=\"Helvetica,sans-Serif\" baseline-shift=\"sub\" font-size=\"14.00\" fill=\"#000000\">5</text>\n<text text-anchor=\"start\" x=\"3604.5\" y=\"-623.8\" font-family=\"Helvetica,sans-Serif\" font-size=\"14.00\" fill=\"#000000\"> ≤ &#45;0.384</text>\n<text text-anchor=\"start\" x=\"3573.5\" y=\"-609.8\" font-family=\"Helvetica,sans-Serif\" font-size=\"14.00\" fill=\"#000000\">entropy = 0.845</text>\n<text text-anchor=\"start\" x=\"3580.5\" y=\"-595.8\" font-family=\"Helvetica,sans-Serif\" font-size=\"14.00\" fill=\"#000000\">samples = 11</text>\n<text text-anchor=\"start\" x=\"3490.5\" y=\"-581.8\" font-family=\"Helvetica,sans-Serif\" font-size=\"14.00\" fill=\"#000000\">value = [0, 0, 0, 0, 0, 0, 0, 0, 8, 0, 0, 0, 0, 0</text>\n<text text-anchor=\"start\" x=\"3563\" y=\"-567.8\" font-family=\"Helvetica,sans-Serif\" font-size=\"14.00\" fill=\"#000000\">0, 0, 0, 0, 0, 0, 3, 0]</text>\n</g>\n<!-- 38&#45;&gt;40 -->\n<g id=\"edge40\" class=\"edge\">\n<title>38&#45;&gt;40</title>\n<path fill=\"none\" stroke=\"#000000\" d=\"M3623.1883,-673.7677C3623.3313,-665.6172 3623.4837,-656.9283 3623.6322,-648.4649\"/>\n<polygon fill=\"#000000\" stroke=\"#000000\" points=\"3627.1344,-648.3645 3623.8104,-638.3046 3620.1355,-648.2417 3627.1344,-648.3645\"/>\n</g>\n<!-- 41 -->\n<g id=\"node42\" class=\"node\">\n<title>41</title>\n<path fill=\"#ee7b8a\" stroke=\"#000000\" d=\"M3603.5,-524C3603.5,-524 3343.5,-524 3343.5,-524 3337.5,-524 3331.5,-518 3331.5,-512 3331.5,-512 3331.5,-458 3331.5,-458 3331.5,-452 3337.5,-446 3343.5,-446 3343.5,-446 3603.5,-446 3603.5,-446 3609.5,-446 3615.5,-452 3615.5,-458 3615.5,-458 3615.5,-512 3615.5,-512 3615.5,-518 3609.5,-524 3603.5,-524\"/>\n<text text-anchor=\"start\" x=\"3439\" y=\"-509.8\" font-family=\"Helvetica,sans-Serif\" font-size=\"14.00\" fill=\"#000000\">X</text>\n<text text-anchor=\"start\" x=\"3449\" y=\"-509.8\" font-family=\"Helvetica,sans-Serif\" baseline-shift=\"sub\" font-size=\"14.00\" fill=\"#000000\">6</text>\n<text text-anchor=\"start\" x=\"3456\" y=\"-509.8\" font-family=\"Helvetica,sans-Serif\" font-size=\"14.00\" fill=\"#000000\"> ≤ 1.415</text>\n<text text-anchor=\"start\" x=\"3422.5\" y=\"-495.8\" font-family=\"Helvetica,sans-Serif\" font-size=\"14.00\" fill=\"#000000\">entropy = 0.811</text>\n<text text-anchor=\"start\" x=\"3434\" y=\"-481.8\" font-family=\"Helvetica,sans-Serif\" font-size=\"14.00\" fill=\"#000000\">samples = 4</text>\n<text text-anchor=\"start\" x=\"3339.5\" y=\"-467.8\" font-family=\"Helvetica,sans-Serif\" font-size=\"14.00\" fill=\"#000000\">value = [0, 0, 0, 0, 0, 0, 0, 0, 1, 0, 0, 0, 0, 0</text>\n<text text-anchor=\"start\" x=\"3412\" y=\"-453.8\" font-family=\"Helvetica,sans-Serif\" font-size=\"14.00\" fill=\"#000000\">0, 0, 0, 0, 0, 0, 3, 0]</text>\n</g>\n<!-- 40&#45;&gt;41 -->\n<g id=\"edge41\" class=\"edge\">\n<title>40&#45;&gt;41</title>\n<path fill=\"none\" stroke=\"#000000\" d=\"M3572.5344,-559.7677C3559.8884,-550.2204 3546.2638,-539.9342 3533.2871,-530.1373\"/>\n<polygon fill=\"#000000\" stroke=\"#000000\" points=\"3535.3954,-527.3435 3525.3055,-524.1115 3531.1776,-532.9302 3535.3954,-527.3435\"/>\n</g>\n<!-- 44 -->\n<g id=\"node45\" class=\"node\">\n<title>44</title>\n<path fill=\"#39e59d\" stroke=\"#000000\" d=\"M3905.5,-519C3905.5,-519 3645.5,-519 3645.5,-519 3639.5,-519 3633.5,-513 3633.5,-507 3633.5,-507 3633.5,-463 3633.5,-463 3633.5,-457 3639.5,-451 3645.5,-451 3645.5,-451 3905.5,-451 3905.5,-451 3911.5,-451 3917.5,-457 3917.5,-463 3917.5,-463 3917.5,-507 3917.5,-507 3917.5,-513 3911.5,-519 3905.5,-519\"/>\n<text text-anchor=\"start\" x=\"3733\" y=\"-503.8\" font-family=\"Helvetica,sans-Serif\" font-size=\"14.00\" fill=\"#000000\">entropy = 0.0</text>\n<text text-anchor=\"start\" x=\"3736\" y=\"-488.8\" font-family=\"Helvetica,sans-Serif\" font-size=\"14.00\" fill=\"#000000\">samples = 7</text>\n<text text-anchor=\"start\" x=\"3641.5\" y=\"-473.8\" font-family=\"Helvetica,sans-Serif\" font-size=\"14.00\" fill=\"#000000\">value = [0, 0, 0, 0, 0, 0, 0, 0, 7, 0, 0, 0, 0, 0</text>\n<text text-anchor=\"start\" x=\"3714\" y=\"-458.8\" font-family=\"Helvetica,sans-Serif\" font-size=\"14.00\" fill=\"#000000\">0, 0, 0, 0, 0, 0, 0, 0]</text>\n</g>\n<!-- 40&#45;&gt;44 -->\n<g id=\"edge44\" class=\"edge\">\n<title>40&#45;&gt;44</title>\n<path fill=\"none\" stroke=\"#000000\" d=\"M3676.4656,-559.7677C3691.1497,-548.6817 3707.1534,-536.5994 3721.9299,-525.4436\"/>\n<polygon fill=\"#000000\" stroke=\"#000000\" points=\"3724.1246,-528.1722 3729.9967,-519.3535 3719.9068,-522.5856 3724.1246,-528.1722\"/>\n</g>\n<!-- 42 -->\n<g id=\"node43\" class=\"node\">\n<title>42</title>\n<path fill=\"#39e59d\" stroke=\"#000000\" d=\"M3452.5,-405C3452.5,-405 3192.5,-405 3192.5,-405 3186.5,-405 3180.5,-399 3180.5,-393 3180.5,-393 3180.5,-349 3180.5,-349 3180.5,-343 3186.5,-337 3192.5,-337 3192.5,-337 3452.5,-337 3452.5,-337 3458.5,-337 3464.5,-343 3464.5,-349 3464.5,-349 3464.5,-393 3464.5,-393 3464.5,-399 3458.5,-405 3452.5,-405\"/>\n<text text-anchor=\"start\" x=\"3280\" y=\"-389.8\" font-family=\"Helvetica,sans-Serif\" font-size=\"14.00\" fill=\"#000000\">entropy = 0.0</text>\n<text text-anchor=\"start\" x=\"3283\" y=\"-374.8\" font-family=\"Helvetica,sans-Serif\" font-size=\"14.00\" fill=\"#000000\">samples = 1</text>\n<text text-anchor=\"start\" x=\"3188.5\" y=\"-359.8\" font-family=\"Helvetica,sans-Serif\" font-size=\"14.00\" fill=\"#000000\">value = [0, 0, 0, 0, 0, 0, 0, 0, 1, 0, 0, 0, 0, 0</text>\n<text text-anchor=\"start\" x=\"3261\" y=\"-344.8\" font-family=\"Helvetica,sans-Serif\" font-size=\"14.00\" fill=\"#000000\">0, 0, 0, 0, 0, 0, 0, 0]</text>\n</g>\n<!-- 41&#45;&gt;42 -->\n<g id=\"edge42\" class=\"edge\">\n<title>41&#45;&gt;42</title>\n<path fill=\"none\" stroke=\"#000000\" d=\"M3421.5344,-445.7677C3406.8503,-434.6817 3390.8466,-422.5994 3376.0701,-411.4436\"/>\n<polygon fill=\"#000000\" stroke=\"#000000\" points=\"3378.0932,-408.5856 3368.0033,-405.3535 3373.8754,-414.1722 3378.0932,-408.5856\"/>\n</g>\n<!-- 43 -->\n<g id=\"node44\" class=\"node\">\n<title>43</title>\n<path fill=\"#e53950\" stroke=\"#000000\" d=\"M3754.5,-405C3754.5,-405 3494.5,-405 3494.5,-405 3488.5,-405 3482.5,-399 3482.5,-393 3482.5,-393 3482.5,-349 3482.5,-349 3482.5,-343 3488.5,-337 3494.5,-337 3494.5,-337 3754.5,-337 3754.5,-337 3760.5,-337 3766.5,-343 3766.5,-349 3766.5,-349 3766.5,-393 3766.5,-393 3766.5,-399 3760.5,-405 3754.5,-405\"/>\n<text text-anchor=\"start\" x=\"3582\" y=\"-389.8\" font-family=\"Helvetica,sans-Serif\" font-size=\"14.00\" fill=\"#000000\">entropy = 0.0</text>\n<text text-anchor=\"start\" x=\"3585\" y=\"-374.8\" font-family=\"Helvetica,sans-Serif\" font-size=\"14.00\" fill=\"#000000\">samples = 3</text>\n<text text-anchor=\"start\" x=\"3490.5\" y=\"-359.8\" font-family=\"Helvetica,sans-Serif\" font-size=\"14.00\" fill=\"#000000\">value = [0, 0, 0, 0, 0, 0, 0, 0, 0, 0, 0, 0, 0, 0</text>\n<text text-anchor=\"start\" x=\"3563\" y=\"-344.8\" font-family=\"Helvetica,sans-Serif\" font-size=\"14.00\" fill=\"#000000\">0, 0, 0, 0, 0, 0, 3, 0]</text>\n</g>\n<!-- 41&#45;&gt;43 -->\n<g id=\"edge43\" class=\"edge\">\n<title>41&#45;&gt;43</title>\n<path fill=\"none\" stroke=\"#000000\" d=\"M3525.4656,-445.7677C3540.1497,-434.6817 3556.1534,-422.5994 3570.9299,-411.4436\"/>\n<polygon fill=\"#000000\" stroke=\"#000000\" points=\"3573.1246,-414.1722 3578.9967,-405.3535 3568.9068,-408.5856 3573.1246,-414.1722\"/>\n</g>\n<!-- 46 -->\n<g id=\"node47\" class=\"node\">\n<title>46</title>\n<path fill=\"#e53981\" stroke=\"#000000\" d=\"M4058.5,-633C4058.5,-633 3798.5,-633 3798.5,-633 3792.5,-633 3786.5,-627 3786.5,-621 3786.5,-621 3786.5,-577 3786.5,-577 3786.5,-571 3792.5,-565 3798.5,-565 3798.5,-565 4058.5,-565 4058.5,-565 4064.5,-565 4070.5,-571 4070.5,-577 4070.5,-577 4070.5,-621 4070.5,-621 4070.5,-627 4064.5,-633 4058.5,-633\"/>\n<text text-anchor=\"start\" x=\"3886\" y=\"-617.8\" font-family=\"Helvetica,sans-Serif\" font-size=\"14.00\" fill=\"#000000\">entropy = 0.0</text>\n<text text-anchor=\"start\" x=\"3889\" y=\"-602.8\" font-family=\"Helvetica,sans-Serif\" font-size=\"14.00\" fill=\"#000000\">samples = 1</text>\n<text text-anchor=\"start\" x=\"3794.5\" y=\"-587.8\" font-family=\"Helvetica,sans-Serif\" font-size=\"14.00\" fill=\"#000000\">value = [0, 0, 0, 0, 0, 0, 0, 0, 0, 0, 0, 0, 0, 0</text>\n<text text-anchor=\"start\" x=\"3867\" y=\"-572.8\" font-family=\"Helvetica,sans-Serif\" font-size=\"14.00\" fill=\"#000000\">0, 0, 0, 0, 0, 1, 0, 0]</text>\n</g>\n<!-- 45&#45;&gt;46 -->\n<g id=\"edge46\" class=\"edge\">\n<title>45&#45;&gt;46</title>\n<path fill=\"none\" stroke=\"#000000\" d=\"M3929.1559,-673.7677C3929.0703,-664.0161 3928.978,-653.4937 3928.8904,-643.509\"/>\n<polygon fill=\"#000000\" stroke=\"#000000\" points=\"3932.389,-643.3224 3928.8013,-633.3535 3925.3893,-643.3839 3932.389,-643.3224\"/>\n</g>\n<!-- 47 -->\n<g id=\"node48\" class=\"node\">\n<title>47</title>\n<path fill=\"#8fe539\" stroke=\"#000000\" d=\"M4370,-633C4370,-633 4101,-633 4101,-633 4095,-633 4089,-627 4089,-621 4089,-621 4089,-577 4089,-577 4089,-571 4095,-565 4101,-565 4101,-565 4370,-565 4370,-565 4376,-565 4382,-571 4382,-577 4382,-577 4382,-621 4382,-621 4382,-627 4376,-633 4370,-633\"/>\n<text text-anchor=\"start\" x=\"4193\" y=\"-617.8\" font-family=\"Helvetica,sans-Serif\" font-size=\"14.00\" fill=\"#000000\">entropy = 0.0</text>\n<text text-anchor=\"start\" x=\"4191.5\" y=\"-602.8\" font-family=\"Helvetica,sans-Serif\" font-size=\"14.00\" fill=\"#000000\">samples = 73</text>\n<text text-anchor=\"start\" x=\"4097\" y=\"-587.8\" font-family=\"Helvetica,sans-Serif\" font-size=\"14.00\" fill=\"#000000\">value = [0, 0, 0, 0, 73, 0, 0, 0, 0, 0, 0, 0, 0, 0</text>\n<text text-anchor=\"start\" x=\"4174\" y=\"-572.8\" font-family=\"Helvetica,sans-Serif\" font-size=\"14.00\" fill=\"#000000\">0, 0, 0, 0, 0, 0, 0, 0]</text>\n</g>\n<!-- 45&#45;&gt;47 -->\n<g id=\"edge47\" class=\"edge\">\n<title>45&#45;&gt;47</title>\n<path fill=\"none\" stroke=\"#000000\" d=\"M4034.3797,-673.9272C4066.8176,-661.8424 4102.4684,-648.5608 4134.629,-636.5794\"/>\n<polygon fill=\"#000000\" stroke=\"#000000\" points=\"4135.8956,-639.8426 4144.0445,-633.0716 4133.4518,-633.283 4135.8956,-639.8426\"/>\n</g>\n<!-- 49 -->\n<g id=\"node50\" class=\"node\">\n<title>49</title>\n<path fill=\"#f9fefa\" stroke=\"#000000\" d=\"M4766,-1094C4766,-1094 4481,-1094 4481,-1094 4475,-1094 4469,-1088 4469,-1082 4469,-1082 4469,-1028 4469,-1028 4469,-1022 4475,-1016 4481,-1016 4481,-1016 4766,-1016 4766,-1016 4772,-1016 4778,-1022 4778,-1028 4778,-1028 4778,-1082 4778,-1082 4778,-1088 4772,-1094 4766,-1094\"/>\n<text text-anchor=\"start\" x=\"4589\" y=\"-1079.8\" font-family=\"Helvetica,sans-Serif\" font-size=\"14.00\" fill=\"#000000\">X</text>\n<text text-anchor=\"start\" x=\"4599\" y=\"-1079.8\" font-family=\"Helvetica,sans-Serif\" baseline-shift=\"sub\" font-size=\"14.00\" fill=\"#000000\">1</text>\n<text text-anchor=\"start\" x=\"4606\" y=\"-1079.8\" font-family=\"Helvetica,sans-Serif\" font-size=\"14.00\" fill=\"#000000\"> ≤ 1.414</text>\n<text text-anchor=\"start\" x=\"4572.5\" y=\"-1065.8\" font-family=\"Helvetica,sans-Serif\" font-size=\"14.00\" fill=\"#000000\">entropy = 2.308</text>\n<text text-anchor=\"start\" x=\"4575.5\" y=\"-1051.8\" font-family=\"Helvetica,sans-Serif\" font-size=\"14.00\" fill=\"#000000\">samples = 365</text>\n<text text-anchor=\"start\" x=\"4477\" y=\"-1037.8\" font-family=\"Helvetica,sans-Serif\" font-size=\"14.00\" fill=\"#000000\">value = [77, 0, 0, 73, 0, 0, 0, 86, 0, 0, 0, 0, 0, 0</text>\n<text text-anchor=\"start\" x=\"4554\" y=\"-1023.8\" font-family=\"Helvetica,sans-Serif\" font-size=\"14.00\" fill=\"#000000\">0, 0, 0, 55, 0, 74, 0, 0]</text>\n</g>\n<!-- 48&#45;&gt;49 -->\n<g id=\"edge49\" class=\"edge\">\n<title>48&#45;&gt;49</title>\n<path fill=\"none\" stroke=\"#000000\" d=\"M4623.5,-1129.7677C4623.5,-1121.6172 4623.5,-1112.9283 4623.5,-1104.4649\"/>\n<polygon fill=\"#000000\" stroke=\"#000000\" points=\"4627.0001,-1104.3046 4623.5,-1094.3046 4620.0001,-1104.3047 4627.0001,-1104.3046\"/>\n</g>\n<!-- 58 -->\n<g id=\"node59\" class=\"node\">\n<title>58</title>\n<path fill=\"#fefeff\" stroke=\"#000000\" d=\"M5684,-1094C5684,-1094 5407,-1094 5407,-1094 5401,-1094 5395,-1088 5395,-1082 5395,-1082 5395,-1028 5395,-1028 5395,-1022 5401,-1016 5407,-1016 5407,-1016 5684,-1016 5684,-1016 5690,-1016 5696,-1022 5696,-1028 5696,-1028 5696,-1082 5696,-1082 5696,-1088 5690,-1094 5684,-1094\"/>\n<text text-anchor=\"start\" x=\"5508.5\" y=\"-1079.8\" font-family=\"Helvetica,sans-Serif\" font-size=\"14.00\" fill=\"#000000\">X</text>\n<text text-anchor=\"start\" x=\"5518.5\" y=\"-1079.8\" font-family=\"Helvetica,sans-Serif\" baseline-shift=\"sub\" font-size=\"14.00\" fill=\"#000000\">1</text>\n<text text-anchor=\"start\" x=\"5525.5\" y=\"-1079.8\" font-family=\"Helvetica,sans-Serif\" font-size=\"14.00\" fill=\"#000000\"> ≤ &#45;0.633</text>\n<text text-anchor=\"start\" x=\"5494.5\" y=\"-1065.8\" font-family=\"Helvetica,sans-Serif\" font-size=\"14.00\" fill=\"#000000\">entropy = 2.514</text>\n<text text-anchor=\"start\" x=\"5497.5\" y=\"-1051.8\" font-family=\"Helvetica,sans-Serif\" font-size=\"14.00\" fill=\"#000000\">samples = 412</text>\n<text text-anchor=\"start\" x=\"5403\" y=\"-1037.8\" font-family=\"Helvetica,sans-Serif\" font-size=\"14.00\" fill=\"#000000\">value = [0, 79, 0, 1, 0, 0, 0, 0, 68, 0, 0, 0, 0, 0</text>\n<text text-anchor=\"start\" x=\"5467.5\" y=\"-1023.8\" font-family=\"Helvetica,sans-Serif\" font-size=\"14.00\" fill=\"#000000\">0, 83, 0, 22, 0, 0, 78, 81]</text>\n</g>\n<!-- 48&#45;&gt;58 -->\n<g id=\"edge58\" class=\"edge\">\n<title>48&#45;&gt;58</title>\n<path fill=\"none\" stroke=\"#000000\" d=\"M4778.6019,-1149.8225C4946.8708,-1129.0171 5214.2386,-1095.9586 5384.704,-1074.8815\"/>\n<polygon fill=\"#000000\" stroke=\"#000000\" points=\"5385.2793,-1078.3371 5394.7743,-1073.6364 5384.4203,-1071.39 5385.2793,-1078.3371\"/>\n</g>\n<!-- 50 -->\n<g id=\"node51\" class=\"node\">\n<title>50</title>\n<path fill=\"#fffdfe\" stroke=\"#000000\" d=\"M4600,-980C4600,-980 4331,-980 4331,-980 4325,-980 4319,-974 4319,-968 4319,-968 4319,-914 4319,-914 4319,-908 4325,-902 4331,-902 4331,-902 4600,-902 4600,-902 4606,-902 4612,-908 4612,-914 4612,-914 4612,-968 4612,-968 4612,-974 4606,-980 4600,-980\"/>\n<text text-anchor=\"start\" x=\"4428.5\" y=\"-965.8\" font-family=\"Helvetica,sans-Serif\" font-size=\"14.00\" fill=\"#000000\">X</text>\n<text text-anchor=\"start\" x=\"4438.5\" y=\"-965.8\" font-family=\"Helvetica,sans-Serif\" baseline-shift=\"sub\" font-size=\"14.00\" fill=\"#000000\">1</text>\n<text text-anchor=\"start\" x=\"4445.5\" y=\"-965.8\" font-family=\"Helvetica,sans-Serif\" font-size=\"14.00\" fill=\"#000000\"> ≤ &#45;0.466</text>\n<text text-anchor=\"start\" x=\"4414.5\" y=\"-951.8\" font-family=\"Helvetica,sans-Serif\" font-size=\"14.00\" fill=\"#000000\">entropy = 1.572</text>\n<text text-anchor=\"start\" x=\"4417.5\" y=\"-937.8\" font-family=\"Helvetica,sans-Serif\" font-size=\"14.00\" fill=\"#000000\">samples = 202</text>\n<text text-anchor=\"start\" x=\"4327\" y=\"-923.8\" font-family=\"Helvetica,sans-Serif\" font-size=\"14.00\" fill=\"#000000\">value = [0, 0, 0, 73, 0, 0, 0, 0, 0, 0, 0, 0, 0, 0</text>\n<text text-anchor=\"start\" x=\"4396\" y=\"-909.8\" font-family=\"Helvetica,sans-Serif\" font-size=\"14.00\" fill=\"#000000\">0, 0, 0, 55, 0, 74, 0, 0]</text>\n</g>\n<!-- 49&#45;&gt;50 -->\n<g id=\"edge50\" class=\"edge\">\n<title>49&#45;&gt;50</title>\n<path fill=\"none\" stroke=\"#000000\" d=\"M4569.1254,-1015.7677C4555.8932,-1006.2204 4541.6369,-995.9342 4528.0587,-986.1373\"/>\n<polygon fill=\"#000000\" stroke=\"#000000\" points=\"4529.8645,-983.1243 4519.7071,-980.1115 4525.7687,-988.801 4529.8645,-983.1243\"/>\n</g>\n<!-- 55 -->\n<g id=\"node56\" class=\"node\">\n<title>55</title>\n<path fill=\"#eafcf0\" stroke=\"#000000\" d=\"M4919,-980C4919,-980 4642,-980 4642,-980 4636,-980 4630,-974 4630,-968 4630,-968 4630,-914 4630,-914 4630,-908 4636,-902 4642,-902 4642,-902 4919,-902 4919,-902 4925,-902 4931,-908 4931,-914 4931,-914 4931,-968 4931,-968 4931,-974 4925,-980 4919,-980\"/>\n<text text-anchor=\"start\" x=\"4746\" y=\"-965.8\" font-family=\"Helvetica,sans-Serif\" font-size=\"14.00\" fill=\"#000000\">X</text>\n<text text-anchor=\"start\" x=\"4756\" y=\"-965.8\" font-family=\"Helvetica,sans-Serif\" baseline-shift=\"sub\" font-size=\"14.00\" fill=\"#000000\">4</text>\n<text text-anchor=\"start\" x=\"4763\" y=\"-965.8\" font-family=\"Helvetica,sans-Serif\" font-size=\"14.00\" fill=\"#000000\"> ≤ 0.697</text>\n<text text-anchor=\"start\" x=\"4729.5\" y=\"-951.8\" font-family=\"Helvetica,sans-Serif\" font-size=\"14.00\" fill=\"#000000\">entropy = 0.998</text>\n<text text-anchor=\"start\" x=\"4732.5\" y=\"-937.8\" font-family=\"Helvetica,sans-Serif\" font-size=\"14.00\" fill=\"#000000\">samples = 163</text>\n<text text-anchor=\"start\" x=\"4638\" y=\"-923.8\" font-family=\"Helvetica,sans-Serif\" font-size=\"14.00\" fill=\"#000000\">value = [77, 0, 0, 0, 0, 0, 0, 86, 0, 0, 0, 0, 0, 0</text>\n<text text-anchor=\"start\" x=\"4719\" y=\"-909.8\" font-family=\"Helvetica,sans-Serif\" font-size=\"14.00\" fill=\"#000000\">0, 0, 0, 0, 0, 0, 0, 0]</text>\n</g>\n<!-- 49&#45;&gt;55 -->\n<g id=\"edge55\" class=\"edge\">\n<title>49&#45;&gt;55</title>\n<path fill=\"none\" stroke=\"#000000\" d=\"M4677.5305,-1015.7677C4690.6789,-1006.2204 4704.845,-995.9342 4718.3373,-986.1373\"/>\n<polygon fill=\"#000000\" stroke=\"#000000\" points=\"4720.6006,-988.8192 4726.636,-980.1115 4716.4877,-983.1549 4720.6006,-988.8192\"/>\n</g>\n<!-- 51 -->\n<g id=\"node52\" class=\"node\">\n<title>51</title>\n<path fill=\"#e53981\" stroke=\"#000000\" d=\"M4290.5,-861C4290.5,-861 4030.5,-861 4030.5,-861 4024.5,-861 4018.5,-855 4018.5,-849 4018.5,-849 4018.5,-805 4018.5,-805 4018.5,-799 4024.5,-793 4030.5,-793 4030.5,-793 4290.5,-793 4290.5,-793 4296.5,-793 4302.5,-799 4302.5,-805 4302.5,-805 4302.5,-849 4302.5,-849 4302.5,-855 4296.5,-861 4290.5,-861\"/>\n<text text-anchor=\"start\" x=\"4118\" y=\"-845.8\" font-family=\"Helvetica,sans-Serif\" font-size=\"14.00\" fill=\"#000000\">entropy = 0.0</text>\n<text text-anchor=\"start\" x=\"4116.5\" y=\"-830.8\" font-family=\"Helvetica,sans-Serif\" font-size=\"14.00\" fill=\"#000000\">samples = 74</text>\n<text text-anchor=\"start\" x=\"4026.5\" y=\"-815.8\" font-family=\"Helvetica,sans-Serif\" font-size=\"14.00\" fill=\"#000000\">value = [0, 0, 0, 0, 0, 0, 0, 0, 0, 0, 0, 0, 0, 0</text>\n<text text-anchor=\"start\" x=\"4095\" y=\"-800.8\" font-family=\"Helvetica,sans-Serif\" font-size=\"14.00\" fill=\"#000000\">0, 0, 0, 0, 0, 74, 0, 0]</text>\n</g>\n<!-- 50&#45;&gt;51 -->\n<g id=\"edge51\" class=\"edge\">\n<title>50&#45;&gt;51</title>\n<path fill=\"none\" stroke=\"#000000\" d=\"M4360.963,-901.9272C4328.6311,-889.8424 4293.0969,-876.5608 4261.0413,-864.5794\"/>\n<polygon fill=\"#000000\" stroke=\"#000000\" points=\"4262.2491,-861.2944 4251.6566,-861.0716 4259.7983,-867.8513 4262.2491,-861.2944\"/>\n</g>\n<!-- 52 -->\n<g id=\"node53\" class=\"node\">\n<title>52</title>\n<path fill=\"#eff9ce\" stroke=\"#000000\" d=\"M4602,-866C4602,-866 4333,-866 4333,-866 4327,-866 4321,-860 4321,-854 4321,-854 4321,-800 4321,-800 4321,-794 4327,-788 4333,-788 4333,-788 4602,-788 4602,-788 4608,-788 4614,-794 4614,-800 4614,-800 4614,-854 4614,-854 4614,-860 4608,-866 4602,-866\"/>\n<text text-anchor=\"start\" x=\"4434.5\" y=\"-851.8\" font-family=\"Helvetica,sans-Serif\" font-size=\"14.00\" fill=\"#000000\">X</text>\n<text text-anchor=\"start\" x=\"4444.5\" y=\"-851.8\" font-family=\"Helvetica,sans-Serif\" baseline-shift=\"sub\" font-size=\"14.00\" fill=\"#000000\">4</text>\n<text text-anchor=\"start\" x=\"4451.5\" y=\"-851.8\" font-family=\"Helvetica,sans-Serif\" font-size=\"14.00\" fill=\"#000000\"> ≤ &#45;0.74</text>\n<text text-anchor=\"start\" x=\"4416.5\" y=\"-837.8\" font-family=\"Helvetica,sans-Serif\" font-size=\"14.00\" fill=\"#000000\">entropy = 0.986</text>\n<text text-anchor=\"start\" x=\"4419.5\" y=\"-823.8\" font-family=\"Helvetica,sans-Serif\" font-size=\"14.00\" fill=\"#000000\">samples = 128</text>\n<text text-anchor=\"start\" x=\"4329\" y=\"-809.8\" font-family=\"Helvetica,sans-Serif\" font-size=\"14.00\" fill=\"#000000\">value = [0, 0, 0, 73, 0, 0, 0, 0, 0, 0, 0, 0, 0, 0</text>\n<text text-anchor=\"start\" x=\"4402\" y=\"-795.8\" font-family=\"Helvetica,sans-Serif\" font-size=\"14.00\" fill=\"#000000\">0, 0, 0, 55, 0, 0, 0, 0]</text>\n</g>\n<!-- 50&#45;&gt;52 -->\n<g id=\"edge52\" class=\"edge\">\n<title>50&#45;&gt;52</title>\n<path fill=\"none\" stroke=\"#000000\" d=\"M4466.1883,-901.7677C4466.3313,-893.6172 4466.4837,-884.9283 4466.6322,-876.4649\"/>\n<polygon fill=\"#000000\" stroke=\"#000000\" points=\"4470.1344,-876.3645 4466.8104,-866.3046 4463.1355,-876.2417 4470.1344,-876.3645\"/>\n</g>\n<!-- 53 -->\n<g id=\"node54\" class=\"node\">\n<title>53</title>\n<path fill=\"#bde539\" stroke=\"#000000\" d=\"M4526,-747C4526,-747 4257,-747 4257,-747 4251,-747 4245,-741 4245,-735 4245,-735 4245,-691 4245,-691 4245,-685 4251,-679 4257,-679 4257,-679 4526,-679 4526,-679 4532,-679 4538,-685 4538,-691 4538,-691 4538,-735 4538,-735 4538,-741 4532,-747 4526,-747\"/>\n<text text-anchor=\"start\" x=\"4349\" y=\"-731.8\" font-family=\"Helvetica,sans-Serif\" font-size=\"14.00\" fill=\"#000000\">entropy = 0.0</text>\n<text text-anchor=\"start\" x=\"4347.5\" y=\"-716.8\" font-family=\"Helvetica,sans-Serif\" font-size=\"14.00\" fill=\"#000000\">samples = 73</text>\n<text text-anchor=\"start\" x=\"4253\" y=\"-701.8\" font-family=\"Helvetica,sans-Serif\" font-size=\"14.00\" fill=\"#000000\">value = [0, 0, 0, 73, 0, 0, 0, 0, 0, 0, 0, 0, 0, 0</text>\n<text text-anchor=\"start\" x=\"4330\" y=\"-686.8\" font-family=\"Helvetica,sans-Serif\" font-size=\"14.00\" fill=\"#000000\">0, 0, 0, 0, 0, 0, 0, 0]</text>\n</g>\n<!-- 52&#45;&gt;53 -->\n<g id=\"edge53\" class=\"edge\">\n<title>52&#45;&gt;53</title>\n<path fill=\"none\" stroke=\"#000000\" d=\"M4441.3451,-787.7677C4434.5019,-777.5029 4427.0893,-766.3839 4420.1248,-755.9372\"/>\n<polygon fill=\"#000000\" stroke=\"#000000\" points=\"4422.8616,-753.7326 4414.4023,-747.3535 4417.0372,-757.6155 4422.8616,-753.7326\"/>\n</g>\n<!-- 54 -->\n<g id=\"node55\" class=\"node\">\n<title>54</title>\n<path fill=\"#e539dc\" stroke=\"#000000\" d=\"M4828.5,-747C4828.5,-747 4568.5,-747 4568.5,-747 4562.5,-747 4556.5,-741 4556.5,-735 4556.5,-735 4556.5,-691 4556.5,-691 4556.5,-685 4562.5,-679 4568.5,-679 4568.5,-679 4828.5,-679 4828.5,-679 4834.5,-679 4840.5,-685 4840.5,-691 4840.5,-691 4840.5,-735 4840.5,-735 4840.5,-741 4834.5,-747 4828.5,-747\"/>\n<text text-anchor=\"start\" x=\"4656\" y=\"-731.8\" font-family=\"Helvetica,sans-Serif\" font-size=\"14.00\" fill=\"#000000\">entropy = 0.0</text>\n<text text-anchor=\"start\" x=\"4654.5\" y=\"-716.8\" font-family=\"Helvetica,sans-Serif\" font-size=\"14.00\" fill=\"#000000\">samples = 55</text>\n<text text-anchor=\"start\" x=\"4564.5\" y=\"-701.8\" font-family=\"Helvetica,sans-Serif\" font-size=\"14.00\" fill=\"#000000\">value = [0, 0, 0, 0, 0, 0, 0, 0, 0, 0, 0, 0, 0, 0</text>\n<text text-anchor=\"start\" x=\"4633\" y=\"-686.8\" font-family=\"Helvetica,sans-Serif\" font-size=\"14.00\" fill=\"#000000\">0, 0, 0, 55, 0, 0, 0, 0]</text>\n</g>\n<!-- 52&#45;&gt;54 -->\n<g id=\"edge54\" class=\"edge\">\n<title>52&#45;&gt;54</title>\n<path fill=\"none\" stroke=\"#000000\" d=\"M4546.6739,-787.9272C4570.5308,-776.1536 4596.6897,-763.244 4620.4716,-751.5075\"/>\n<polygon fill=\"#000000\" stroke=\"#000000\" points=\"4622.0416,-754.6358 4629.4601,-747.0716 4618.9437,-748.3586 4622.0416,-754.6358\"/>\n</g>\n<!-- 56 -->\n<g id=\"node57\" class=\"node\">\n<title>56</title>\n<path fill=\"#39e56f\" stroke=\"#000000\" d=\"M4913,-861C4913,-861 4644,-861 4644,-861 4638,-861 4632,-855 4632,-849 4632,-849 4632,-805 4632,-805 4632,-799 4638,-793 4644,-793 4644,-793 4913,-793 4913,-793 4919,-793 4925,-799 4925,-805 4925,-805 4925,-849 4925,-849 4925,-855 4919,-861 4913,-861\"/>\n<text text-anchor=\"start\" x=\"4736\" y=\"-845.8\" font-family=\"Helvetica,sans-Serif\" font-size=\"14.00\" fill=\"#000000\">entropy = 0.0</text>\n<text text-anchor=\"start\" x=\"4734.5\" y=\"-830.8\" font-family=\"Helvetica,sans-Serif\" font-size=\"14.00\" fill=\"#000000\">samples = 86</text>\n<text text-anchor=\"start\" x=\"4640\" y=\"-815.8\" font-family=\"Helvetica,sans-Serif\" font-size=\"14.00\" fill=\"#000000\">value = [0, 0, 0, 0, 0, 0, 0, 86, 0, 0, 0, 0, 0, 0</text>\n<text text-anchor=\"start\" x=\"4717\" y=\"-800.8\" font-family=\"Helvetica,sans-Serif\" font-size=\"14.00\" fill=\"#000000\">0, 0, 0, 0, 0, 0, 0, 0]</text>\n</g>\n<!-- 55&#45;&gt;56 -->\n<g id=\"edge56\" class=\"edge\">\n<title>55&#45;&gt;56</title>\n<path fill=\"none\" stroke=\"#000000\" d=\"M4779.8117,-901.7677C4779.6406,-892.0161 4779.456,-881.4937 4779.2809,-871.509\"/>\n<polygon fill=\"#000000\" stroke=\"#000000\" points=\"4782.7777,-871.2906 4779.1027,-861.3535 4775.7787,-871.4134 4782.7777,-871.2906\"/>\n</g>\n<!-- 57 -->\n<g id=\"node58\" class=\"node\">\n<title>57</title>\n<path fill=\"#e58139\" stroke=\"#000000\" d=\"M5224,-861C5224,-861 4955,-861 4955,-861 4949,-861 4943,-855 4943,-849 4943,-849 4943,-805 4943,-805 4943,-799 4949,-793 4955,-793 4955,-793 5224,-793 5224,-793 5230,-793 5236,-799 5236,-805 5236,-805 5236,-849 5236,-849 5236,-855 5230,-861 5224,-861\"/>\n<text text-anchor=\"start\" x=\"5047\" y=\"-845.8\" font-family=\"Helvetica,sans-Serif\" font-size=\"14.00\" fill=\"#000000\">entropy = 0.0</text>\n<text text-anchor=\"start\" x=\"5045.5\" y=\"-830.8\" font-family=\"Helvetica,sans-Serif\" font-size=\"14.00\" fill=\"#000000\">samples = 77</text>\n<text text-anchor=\"start\" x=\"4951\" y=\"-815.8\" font-family=\"Helvetica,sans-Serif\" font-size=\"14.00\" fill=\"#000000\">value = [77, 0, 0, 0, 0, 0, 0, 0, 0, 0, 0, 0, 0, 0</text>\n<text text-anchor=\"start\" x=\"5028\" y=\"-800.8\" font-family=\"Helvetica,sans-Serif\" font-size=\"14.00\" fill=\"#000000\">0, 0, 0, 0, 0, 0, 0, 0]</text>\n</g>\n<!-- 55&#45;&gt;57 -->\n<g id=\"edge57\" class=\"edge\">\n<title>55&#45;&gt;57</title>\n<path fill=\"none\" stroke=\"#000000\" d=\"M4886.408,-901.9272C4919.1639,-889.8424 4955.1642,-876.5608 4987.6401,-864.5794\"/>\n<polygon fill=\"#000000\" stroke=\"#000000\" points=\"4988.9775,-867.8166 4997.1479,-861.0716 4986.5545,-861.2493 4988.9775,-867.8166\"/>\n</g>\n<!-- 59 -->\n<g id=\"node60\" class=\"node\">\n<title>59</title>\n<path fill=\"#fcfafe\" stroke=\"#000000\" d=\"M5675.5,-980C5675.5,-980 5415.5,-980 5415.5,-980 5409.5,-980 5403.5,-974 5403.5,-968 5403.5,-968 5403.5,-914 5403.5,-914 5403.5,-908 5409.5,-902 5415.5,-902 5415.5,-902 5675.5,-902 5675.5,-902 5681.5,-902 5687.5,-908 5687.5,-914 5687.5,-914 5687.5,-968 5687.5,-968 5687.5,-974 5681.5,-980 5675.5,-980\"/>\n<text text-anchor=\"start\" x=\"5511\" y=\"-965.8\" font-family=\"Helvetica,sans-Serif\" font-size=\"14.00\" fill=\"#000000\">X</text>\n<text text-anchor=\"start\" x=\"5521\" y=\"-965.8\" font-family=\"Helvetica,sans-Serif\" baseline-shift=\"sub\" font-size=\"14.00\" fill=\"#000000\">3</text>\n<text text-anchor=\"start\" x=\"5528\" y=\"-965.8\" font-family=\"Helvetica,sans-Serif\" font-size=\"14.00\" fill=\"#000000\"> ≤ 0.274</text>\n<text text-anchor=\"start\" x=\"5503\" y=\"-951.8\" font-family=\"Helvetica,sans-Serif\" font-size=\"14.00\" fill=\"#000000\">entropy = 1.0</text>\n<text text-anchor=\"start\" x=\"5497.5\" y=\"-937.8\" font-family=\"Helvetica,sans-Serif\" font-size=\"14.00\" fill=\"#000000\">samples = 164</text>\n<text text-anchor=\"start\" x=\"5411.5\" y=\"-923.8\" font-family=\"Helvetica,sans-Serif\" font-size=\"14.00\" fill=\"#000000\">value = [0, 0, 0, 0, 0, 0, 0, 0, 0, 0, 0, 0, 0, 0</text>\n<text text-anchor=\"start\" x=\"5476\" y=\"-909.8\" font-family=\"Helvetica,sans-Serif\" font-size=\"14.00\" fill=\"#000000\">0, 83, 0, 0, 0, 0, 0, 81]</text>\n</g>\n<!-- 58&#45;&gt;59 -->\n<g id=\"edge59\" class=\"edge\">\n<title>58&#45;&gt;59</title>\n<path fill=\"none\" stroke=\"#000000\" d=\"M5545.5,-1015.7677C5545.5,-1007.6172 5545.5,-998.9283 5545.5,-990.4649\"/>\n<polygon fill=\"#000000\" stroke=\"#000000\" points=\"5549.0001,-990.3046 5545.5,-980.3046 5542.0001,-990.3047 5549.0001,-990.3046\"/>\n</g>\n<!-- 62 -->\n<g id=\"node63\" class=\"node\">\n<title>62</title>\n<path fill=\"#fffffe\" stroke=\"#000000\" d=\"M6144,-980C6144,-980 5867,-980 5867,-980 5861,-980 5855,-974 5855,-968 5855,-968 5855,-914 5855,-914 5855,-908 5861,-902 5867,-902 5867,-902 6144,-902 6144,-902 6150,-902 6156,-908 6156,-914 6156,-914 6156,-968 6156,-968 6156,-974 6150,-980 6144,-980\"/>\n<text text-anchor=\"start\" x=\"5971\" y=\"-965.8\" font-family=\"Helvetica,sans-Serif\" font-size=\"14.00\" fill=\"#000000\">X</text>\n<text text-anchor=\"start\" x=\"5981\" y=\"-965.8\" font-family=\"Helvetica,sans-Serif\" baseline-shift=\"sub\" font-size=\"14.00\" fill=\"#000000\">1</text>\n<text text-anchor=\"start\" x=\"5988\" y=\"-965.8\" font-family=\"Helvetica,sans-Serif\" font-size=\"14.00\" fill=\"#000000\"> ≤ 0.489</text>\n<text text-anchor=\"start\" x=\"5954.5\" y=\"-951.8\" font-family=\"Helvetica,sans-Serif\" font-size=\"14.00\" fill=\"#000000\">entropy = 1.905</text>\n<text text-anchor=\"start\" x=\"5957.5\" y=\"-937.8\" font-family=\"Helvetica,sans-Serif\" font-size=\"14.00\" fill=\"#000000\">samples = 248</text>\n<text text-anchor=\"start\" x=\"5863\" y=\"-923.8\" font-family=\"Helvetica,sans-Serif\" font-size=\"14.00\" fill=\"#000000\">value = [0, 79, 0, 1, 0, 0, 0, 0, 68, 0, 0, 0, 0, 0</text>\n<text text-anchor=\"start\" x=\"5936\" y=\"-909.8\" font-family=\"Helvetica,sans-Serif\" font-size=\"14.00\" fill=\"#000000\">0, 0, 0, 22, 0, 0, 78, 0]</text>\n</g>\n<!-- 58&#45;&gt;62 -->\n<g id=\"edge62\" class=\"edge\">\n<title>58&#45;&gt;62</title>\n<path fill=\"none\" stroke=\"#000000\" d=\"M5696.1212,-1017.6721C5743.7998,-1005.8561 5796.6656,-992.7546 5845.0094,-980.7738\"/>\n<polygon fill=\"#000000\" stroke=\"#000000\" points=\"5846.0691,-984.1171 5854.9335,-978.3143 5844.3852,-977.3226 5846.0691,-984.1171\"/>\n</g>\n<!-- 60 -->\n<g id=\"node61\" class=\"node\">\n<title>60</title>\n<path fill=\"#e55039\" stroke=\"#000000\" d=\"M5526.5,-861C5526.5,-861 5266.5,-861 5266.5,-861 5260.5,-861 5254.5,-855 5254.5,-849 5254.5,-849 5254.5,-805 5254.5,-805 5254.5,-799 5260.5,-793 5266.5,-793 5266.5,-793 5526.5,-793 5526.5,-793 5532.5,-793 5538.5,-799 5538.5,-805 5538.5,-805 5538.5,-849 5538.5,-849 5538.5,-855 5532.5,-861 5526.5,-861\"/>\n<text text-anchor=\"start\" x=\"5354\" y=\"-845.8\" font-family=\"Helvetica,sans-Serif\" font-size=\"14.00\" fill=\"#000000\">entropy = 0.0</text>\n<text text-anchor=\"start\" x=\"5352.5\" y=\"-830.8\" font-family=\"Helvetica,sans-Serif\" font-size=\"14.00\" fill=\"#000000\">samples = 81</text>\n<text text-anchor=\"start\" x=\"5262.5\" y=\"-815.8\" font-family=\"Helvetica,sans-Serif\" font-size=\"14.00\" fill=\"#000000\">value = [0, 0, 0, 0, 0, 0, 0, 0, 0, 0, 0, 0, 0, 0</text>\n<text text-anchor=\"start\" x=\"5331\" y=\"-800.8\" font-family=\"Helvetica,sans-Serif\" font-size=\"14.00\" fill=\"#000000\">0, 0, 0, 0, 0, 0, 0, 81]</text>\n</g>\n<!-- 59&#45;&gt;60 -->\n<g id=\"edge60\" class=\"edge\">\n<title>59&#45;&gt;60</title>\n<path fill=\"none\" stroke=\"#000000\" d=\"M5494.2227,-901.7677C5479.7331,-890.6817 5463.9414,-878.5994 5449.3606,-867.4436\"/>\n<polygon fill=\"#000000\" stroke=\"#000000\" points=\"5451.4695,-864.6503 5441.4007,-861.3535 5447.216,-870.2098 5451.4695,-864.6503\"/>\n</g>\n<!-- 61 -->\n<g id=\"node62\" class=\"node\">\n<title>61</title>\n<path fill=\"#8f39e5\" stroke=\"#000000\" d=\"M5828.5,-861C5828.5,-861 5568.5,-861 5568.5,-861 5562.5,-861 5556.5,-855 5556.5,-849 5556.5,-849 5556.5,-805 5556.5,-805 5556.5,-799 5562.5,-793 5568.5,-793 5568.5,-793 5828.5,-793 5828.5,-793 5834.5,-793 5840.5,-799 5840.5,-805 5840.5,-805 5840.5,-849 5840.5,-849 5840.5,-855 5834.5,-861 5828.5,-861\"/>\n<text text-anchor=\"start\" x=\"5656\" y=\"-845.8\" font-family=\"Helvetica,sans-Serif\" font-size=\"14.00\" fill=\"#000000\">entropy = 0.0</text>\n<text text-anchor=\"start\" x=\"5654.5\" y=\"-830.8\" font-family=\"Helvetica,sans-Serif\" font-size=\"14.00\" fill=\"#000000\">samples = 83</text>\n<text text-anchor=\"start\" x=\"5564.5\" y=\"-815.8\" font-family=\"Helvetica,sans-Serif\" font-size=\"14.00\" fill=\"#000000\">value = [0, 0, 0, 0, 0, 0, 0, 0, 0, 0, 0, 0, 0, 0</text>\n<text text-anchor=\"start\" x=\"5633\" y=\"-800.8\" font-family=\"Helvetica,sans-Serif\" font-size=\"14.00\" fill=\"#000000\">0, 83, 0, 0, 0, 0, 0, 0]</text>\n</g>\n<!-- 59&#45;&gt;61 -->\n<g id=\"edge61\" class=\"edge\">\n<title>59&#45;&gt;61</title>\n<path fill=\"none\" stroke=\"#000000\" d=\"M5598.1539,-901.7677C5613.1054,-890.6274 5629.4071,-878.4809 5644.4405,-867.2797\"/>\n<polygon fill=\"#000000\" stroke=\"#000000\" points=\"5646.7175,-869.9478 5652.6452,-861.1663 5642.5351,-864.3346 5646.7175,-869.9478\"/>\n</g>\n<!-- 63 -->\n<g id=\"node64\" class=\"node\">\n<title>63</title>\n<path fill=\"#fcebee\" stroke=\"#000000\" d=\"M6140,-866C6140,-866 5871,-866 5871,-866 5865,-866 5859,-860 5859,-854 5859,-854 5859,-800 5859,-800 5859,-794 5865,-788 5871,-788 5871,-788 6140,-788 6140,-788 6146,-788 6152,-794 6152,-800 6152,-800 6152,-854 6152,-854 6152,-860 6146,-866 6140,-866\"/>\n<text text-anchor=\"start\" x=\"5971\" y=\"-851.8\" font-family=\"Helvetica,sans-Serif\" font-size=\"14.00\" fill=\"#000000\">X</text>\n<text text-anchor=\"start\" x=\"5981\" y=\"-851.8\" font-family=\"Helvetica,sans-Serif\" baseline-shift=\"sub\" font-size=\"14.00\" fill=\"#000000\">6</text>\n<text text-anchor=\"start\" x=\"5988\" y=\"-851.8\" font-family=\"Helvetica,sans-Serif\" font-size=\"14.00\" fill=\"#000000\"> ≤ 1.753</text>\n<text text-anchor=\"start\" x=\"5954.5\" y=\"-837.8\" font-family=\"Helvetica,sans-Serif\" font-size=\"14.00\" fill=\"#000000\">entropy = 1.461</text>\n<text text-anchor=\"start\" x=\"5957.5\" y=\"-823.8\" font-family=\"Helvetica,sans-Serif\" font-size=\"14.00\" fill=\"#000000\">samples = 168</text>\n<text text-anchor=\"start\" x=\"5867\" y=\"-809.8\" font-family=\"Helvetica,sans-Serif\" font-size=\"14.00\" fill=\"#000000\">value = [0, 0, 0, 1, 0, 0, 0, 0, 68, 0, 0, 0, 0, 0</text>\n<text text-anchor=\"start\" x=\"5936\" y=\"-795.8\" font-family=\"Helvetica,sans-Serif\" font-size=\"14.00\" fill=\"#000000\">0, 0, 0, 21, 0, 0, 78, 0]</text>\n</g>\n<!-- 62&#45;&gt;63 -->\n<g id=\"edge63\" class=\"edge\">\n<title>62&#45;&gt;63</title>\n<path fill=\"none\" stroke=\"#000000\" d=\"M6005.5,-901.7677C6005.5,-893.6172 6005.5,-884.9283 6005.5,-876.4649\"/>\n<polygon fill=\"#000000\" stroke=\"#000000\" points=\"6009.0001,-876.3046 6005.5,-866.3046 6002.0001,-876.3047 6009.0001,-876.3046\"/>\n</g>\n<!-- 84 -->\n<g id=\"node85\" class=\"node\">\n<title>84</title>\n<path fill=\"#e5af3c\" stroke=\"#000000\" d=\"M6451,-866C6451,-866 6182,-866 6182,-866 6176,-866 6170,-860 6170,-854 6170,-854 6170,-800 6170,-800 6170,-794 6176,-788 6182,-788 6182,-788 6451,-788 6451,-788 6457,-788 6463,-794 6463,-800 6463,-800 6463,-854 6463,-854 6463,-860 6457,-866 6451,-866\"/>\n<text text-anchor=\"start\" x=\"6282\" y=\"-851.8\" font-family=\"Helvetica,sans-Serif\" font-size=\"14.00\" fill=\"#000000\">X</text>\n<text text-anchor=\"start\" x=\"6292\" y=\"-851.8\" font-family=\"Helvetica,sans-Serif\" baseline-shift=\"sub\" font-size=\"14.00\" fill=\"#000000\">5</text>\n<text text-anchor=\"start\" x=\"6299\" y=\"-851.8\" font-family=\"Helvetica,sans-Serif\" font-size=\"14.00\" fill=\"#000000\"> ≤ 0.347</text>\n<text text-anchor=\"start\" x=\"6265.5\" y=\"-837.8\" font-family=\"Helvetica,sans-Serif\" font-size=\"14.00\" fill=\"#000000\">entropy = 0.097</text>\n<text text-anchor=\"start\" x=\"6272.5\" y=\"-823.8\" font-family=\"Helvetica,sans-Serif\" font-size=\"14.00\" fill=\"#000000\">samples = 80</text>\n<text text-anchor=\"start\" x=\"6178\" y=\"-809.8\" font-family=\"Helvetica,sans-Serif\" font-size=\"14.00\" fill=\"#000000\">value = [0, 79, 0, 0, 0, 0, 0, 0, 0, 0, 0, 0, 0, 0</text>\n<text text-anchor=\"start\" x=\"6255\" y=\"-795.8\" font-family=\"Helvetica,sans-Serif\" font-size=\"14.00\" fill=\"#000000\">0, 0, 0, 1, 0, 0, 0, 0]</text>\n</g>\n<!-- 62&#45;&gt;84 -->\n<g id=\"edge84\" class=\"edge\">\n<title>62&#45;&gt;84</title>\n<path fill=\"none\" stroke=\"#000000\" d=\"M6112.0934,-901.9272C6140.5295,-891.5037 6171.3948,-880.1897 6200.3179,-869.5876\"/>\n<polygon fill=\"#000000\" stroke=\"#000000\" points=\"6201.8613,-872.7497 6210.0458,-866.0218 6199.4521,-866.1773 6201.8613,-872.7497\"/>\n</g>\n<!-- 64 -->\n<g id=\"node65\" class=\"node\">\n<title>64</title>\n<path fill=\"#88efc4\" stroke=\"#000000\" d=\"M5834,-752C5834,-752 5565,-752 5565,-752 5559,-752 5553,-746 5553,-740 5553,-740 5553,-686 5553,-686 5553,-680 5559,-674 5565,-674 5565,-674 5834,-674 5834,-674 5840,-674 5846,-680 5846,-686 5846,-686 5846,-740 5846,-740 5846,-746 5840,-752 5834,-752\"/>\n<text text-anchor=\"start\" x=\"5662.5\" y=\"-737.8\" font-family=\"Helvetica,sans-Serif\" font-size=\"14.00\" fill=\"#000000\">X</text>\n<text text-anchor=\"start\" x=\"5672.5\" y=\"-737.8\" font-family=\"Helvetica,sans-Serif\" baseline-shift=\"sub\" font-size=\"14.00\" fill=\"#000000\">2</text>\n<text text-anchor=\"start\" x=\"5679.5\" y=\"-737.8\" font-family=\"Helvetica,sans-Serif\" font-size=\"14.00\" fill=\"#000000\"> ≤ &#45;0.052</text>\n<text text-anchor=\"start\" x=\"5648.5\" y=\"-723.8\" font-family=\"Helvetica,sans-Serif\" font-size=\"14.00\" fill=\"#000000\">entropy = 1.289</text>\n<text text-anchor=\"start\" x=\"5651.5\" y=\"-709.8\" font-family=\"Helvetica,sans-Serif\" font-size=\"14.00\" fill=\"#000000\">samples = 101</text>\n<text text-anchor=\"start\" x=\"5561\" y=\"-695.8\" font-family=\"Helvetica,sans-Serif\" font-size=\"14.00\" fill=\"#000000\">value = [0, 0, 0, 1, 0, 0, 0, 0, 68, 0, 0, 0, 0, 0</text>\n<text text-anchor=\"start\" x=\"5630\" y=\"-681.8\" font-family=\"Helvetica,sans-Serif\" font-size=\"14.00\" fill=\"#000000\">0, 0, 0, 18, 0, 0, 14, 0]</text>\n</g>\n<!-- 63&#45;&gt;64 -->\n<g id=\"edge64\" class=\"edge\">\n<title>63&#45;&gt;64</title>\n<path fill=\"none\" stroke=\"#000000\" d=\"M5900.6203,-787.9272C5872.6414,-777.5037 5842.2723,-766.1897 5813.8142,-755.5876\"/>\n<polygon fill=\"#000000\" stroke=\"#000000\" points=\"5814.8354,-752.2331 5804.2427,-752.0218 5812.3916,-758.7927 5814.8354,-752.2331\"/>\n</g>\n<!-- 81 -->\n<g id=\"node82\" class=\"node\">\n<title>81</title>\n<path fill=\"#e64258\" stroke=\"#000000\" d=\"M6136.5,-752C6136.5,-752 5876.5,-752 5876.5,-752 5870.5,-752 5864.5,-746 5864.5,-740 5864.5,-740 5864.5,-686 5864.5,-686 5864.5,-680 5870.5,-674 5876.5,-674 5876.5,-674 6136.5,-674 6136.5,-674 6142.5,-674 6148.5,-680 6148.5,-686 6148.5,-686 6148.5,-740 6148.5,-740 6148.5,-746 6142.5,-752 6136.5,-752\"/>\n<text text-anchor=\"start\" x=\"5972\" y=\"-737.8\" font-family=\"Helvetica,sans-Serif\" font-size=\"14.00\" fill=\"#000000\">X</text>\n<text text-anchor=\"start\" x=\"5982\" y=\"-737.8\" font-family=\"Helvetica,sans-Serif\" baseline-shift=\"sub\" font-size=\"14.00\" fill=\"#000000\">4</text>\n<text text-anchor=\"start\" x=\"5989\" y=\"-737.8\" font-family=\"Helvetica,sans-Serif\" font-size=\"14.00\" fill=\"#000000\"> ≤ 0.738</text>\n<text text-anchor=\"start\" x=\"5955.5\" y=\"-723.8\" font-family=\"Helvetica,sans-Serif\" font-size=\"14.00\" fill=\"#000000\">entropy = 0.264</text>\n<text text-anchor=\"start\" x=\"5962.5\" y=\"-709.8\" font-family=\"Helvetica,sans-Serif\" font-size=\"14.00\" fill=\"#000000\">samples = 67</text>\n<text text-anchor=\"start\" x=\"5872.5\" y=\"-695.8\" font-family=\"Helvetica,sans-Serif\" font-size=\"14.00\" fill=\"#000000\">value = [0, 0, 0, 0, 0, 0, 0, 0, 0, 0, 0, 0, 0, 0</text>\n<text text-anchor=\"start\" x=\"5941\" y=\"-681.8\" font-family=\"Helvetica,sans-Serif\" font-size=\"14.00\" fill=\"#000000\">0, 0, 0, 3, 0, 0, 64, 0]</text>\n</g>\n<!-- 63&#45;&gt;81 -->\n<g id=\"edge81\" class=\"edge\">\n<title>63&#45;&gt;81</title>\n<path fill=\"none\" stroke=\"#000000\" d=\"M6005.8441,-787.7677C6005.9156,-779.6172 6005.9919,-770.9283 6006.0661,-762.4649\"/>\n<polygon fill=\"#000000\" stroke=\"#000000\" points=\"6009.5673,-762.335 6006.1552,-752.3046 6002.5675,-762.2735 6009.5673,-762.335\"/>\n</g>\n<!-- 65 -->\n<g id=\"node66\" class=\"node\">\n<title>65</title>\n<path fill=\"#62eab1\" stroke=\"#000000\" d=\"M5528,-638C5528,-638 5259,-638 5259,-638 5253,-638 5247,-632 5247,-626 5247,-626 5247,-572 5247,-572 5247,-566 5253,-560 5259,-560 5259,-560 5528,-560 5528,-560 5534,-560 5540,-566 5540,-572 5540,-572 5540,-626 5540,-626 5540,-632 5534,-638 5528,-638\"/>\n<text text-anchor=\"start\" x=\"5356.5\" y=\"-623.8\" font-family=\"Helvetica,sans-Serif\" font-size=\"14.00\" fill=\"#000000\">X</text>\n<text text-anchor=\"start\" x=\"5366.5\" y=\"-623.8\" font-family=\"Helvetica,sans-Serif\" baseline-shift=\"sub\" font-size=\"14.00\" fill=\"#000000\">5</text>\n<text text-anchor=\"start\" x=\"5373.5\" y=\"-623.8\" font-family=\"Helvetica,sans-Serif\" font-size=\"14.00\" fill=\"#000000\"> ≤ &#45;0.605</text>\n<text text-anchor=\"start\" x=\"5342.5\" y=\"-609.8\" font-family=\"Helvetica,sans-Serif\" font-size=\"14.00\" fill=\"#000000\">entropy = 0.659</text>\n<text text-anchor=\"start\" x=\"5349.5\" y=\"-595.8\" font-family=\"Helvetica,sans-Serif\" font-size=\"14.00\" fill=\"#000000\">samples = 82</text>\n<text text-anchor=\"start\" x=\"5255\" y=\"-581.8\" font-family=\"Helvetica,sans-Serif\" font-size=\"14.00\" fill=\"#000000\">value = [0, 0, 0, 0, 0, 0, 0, 0, 68, 0, 0, 0, 0, 0</text>\n<text text-anchor=\"start\" x=\"5328\" y=\"-567.8\" font-family=\"Helvetica,sans-Serif\" font-size=\"14.00\" fill=\"#000000\">0, 0, 0, 0, 0, 0, 14, 0]</text>\n</g>\n<!-- 64&#45;&gt;65 -->\n<g id=\"edge65\" class=\"edge\">\n<title>64&#45;&gt;65</title>\n<path fill=\"none\" stroke=\"#000000\" d=\"M5594.6203,-673.9272C5566.6414,-663.5037 5536.2723,-652.1897 5507.8142,-641.5876\"/>\n<polygon fill=\"#000000\" stroke=\"#000000\" points=\"5508.8354,-638.2331 5498.2427,-638.0218 5506.3916,-644.7927 5508.8354,-638.2331\"/>\n</g>\n<!-- 78 -->\n<g id=\"node79\" class=\"node\">\n<title>78</title>\n<path fill=\"#e644de\" stroke=\"#000000\" d=\"M5830.5,-638C5830.5,-638 5570.5,-638 5570.5,-638 5564.5,-638 5558.5,-632 5558.5,-626 5558.5,-626 5558.5,-572 5558.5,-572 5558.5,-566 5564.5,-560 5570.5,-560 5570.5,-560 5830.5,-560 5830.5,-560 5836.5,-560 5842.5,-566 5842.5,-572 5842.5,-572 5842.5,-626 5842.5,-626 5842.5,-632 5836.5,-638 5830.5,-638\"/>\n<text text-anchor=\"start\" x=\"5663.5\" y=\"-623.8\" font-family=\"Helvetica,sans-Serif\" font-size=\"14.00\" fill=\"#000000\">X</text>\n<text text-anchor=\"start\" x=\"5673.5\" y=\"-623.8\" font-family=\"Helvetica,sans-Serif\" baseline-shift=\"sub\" font-size=\"14.00\" fill=\"#000000\">3</text>\n<text text-anchor=\"start\" x=\"5680.5\" y=\"-623.8\" font-family=\"Helvetica,sans-Serif\" font-size=\"14.00\" fill=\"#000000\"> ≤ &#45;0.832</text>\n<text text-anchor=\"start\" x=\"5649.5\" y=\"-609.8\" font-family=\"Helvetica,sans-Serif\" font-size=\"14.00\" fill=\"#000000\">entropy = 0.297</text>\n<text text-anchor=\"start\" x=\"5656.5\" y=\"-595.8\" font-family=\"Helvetica,sans-Serif\" font-size=\"14.00\" fill=\"#000000\">samples = 19</text>\n<text text-anchor=\"start\" x=\"5566.5\" y=\"-581.8\" font-family=\"Helvetica,sans-Serif\" font-size=\"14.00\" fill=\"#000000\">value = [0, 0, 0, 1, 0, 0, 0, 0, 0, 0, 0, 0, 0, 0</text>\n<text text-anchor=\"start\" x=\"5635\" y=\"-567.8\" font-family=\"Helvetica,sans-Serif\" font-size=\"14.00\" fill=\"#000000\">0, 0, 0, 18, 0, 0, 0, 0]</text>\n</g>\n<!-- 64&#45;&gt;78 -->\n<g id=\"edge78\" class=\"edge\">\n<title>64&#45;&gt;78</title>\n<path fill=\"none\" stroke=\"#000000\" d=\"M5699.8441,-673.7677C5699.9156,-665.6172 5699.9919,-656.9283 5700.0661,-648.4649\"/>\n<polygon fill=\"#000000\" stroke=\"#000000\" points=\"5703.5673,-648.335 5700.1552,-638.3046 5696.5675,-648.2735 5703.5673,-648.335\"/>\n</g>\n<!-- 66 -->\n<g id=\"node67\" class=\"node\">\n<title>66</title>\n<path fill=\"#e53950\" stroke=\"#000000\" d=\"M5216.5,-519C5216.5,-519 4956.5,-519 4956.5,-519 4950.5,-519 4944.5,-513 4944.5,-507 4944.5,-507 4944.5,-463 4944.5,-463 4944.5,-457 4950.5,-451 4956.5,-451 4956.5,-451 5216.5,-451 5216.5,-451 5222.5,-451 5228.5,-457 5228.5,-463 5228.5,-463 5228.5,-507 5228.5,-507 5228.5,-513 5222.5,-519 5216.5,-519\"/>\n<text text-anchor=\"start\" x=\"5044\" y=\"-503.8\" font-family=\"Helvetica,sans-Serif\" font-size=\"14.00\" fill=\"#000000\">entropy = 0.0</text>\n<text text-anchor=\"start\" x=\"5047\" y=\"-488.8\" font-family=\"Helvetica,sans-Serif\" font-size=\"14.00\" fill=\"#000000\">samples = 7</text>\n<text text-anchor=\"start\" x=\"4952.5\" y=\"-473.8\" font-family=\"Helvetica,sans-Serif\" font-size=\"14.00\" fill=\"#000000\">value = [0, 0, 0, 0, 0, 0, 0, 0, 0, 0, 0, 0, 0, 0</text>\n<text text-anchor=\"start\" x=\"5025\" y=\"-458.8\" font-family=\"Helvetica,sans-Serif\" font-size=\"14.00\" fill=\"#000000\">0, 0, 0, 0, 0, 0, 7, 0]</text>\n</g>\n<!-- 65&#45;&gt;66 -->\n<g id=\"edge66\" class=\"edge\">\n<title>65&#45;&gt;66</title>\n<path fill=\"none\" stroke=\"#000000\" d=\"M5288.2775,-559.9272C5255.7336,-547.8424 5219.9663,-534.5608 5187.7006,-522.5794\"/>\n<polygon fill=\"#000000\" stroke=\"#000000\" points=\"5188.8473,-519.2717 5178.2544,-519.0716 5186.4105,-525.8339 5188.8473,-519.2717\"/>\n</g>\n<!-- 67 -->\n<g id=\"node68\" class=\"node\">\n<title>67</title>\n<path fill=\"#4de8a7\" stroke=\"#000000\" d=\"M5528,-524C5528,-524 5259,-524 5259,-524 5253,-524 5247,-518 5247,-512 5247,-512 5247,-458 5247,-458 5247,-452 5253,-446 5259,-446 5259,-446 5528,-446 5528,-446 5534,-446 5540,-452 5540,-458 5540,-458 5540,-512 5540,-512 5540,-518 5534,-524 5528,-524\"/>\n<text text-anchor=\"start\" x=\"5356.5\" y=\"-509.8\" font-family=\"Helvetica,sans-Serif\" font-size=\"14.00\" fill=\"#000000\">X</text>\n<text text-anchor=\"start\" x=\"5366.5\" y=\"-509.8\" font-family=\"Helvetica,sans-Serif\" baseline-shift=\"sub\" font-size=\"14.00\" fill=\"#000000\">3</text>\n<text text-anchor=\"start\" x=\"5373.5\" y=\"-509.8\" font-family=\"Helvetica,sans-Serif\" font-size=\"14.00\" fill=\"#000000\"> ≤ &#45;0.539</text>\n<text text-anchor=\"start\" x=\"5342.5\" y=\"-495.8\" font-family=\"Helvetica,sans-Serif\" font-size=\"14.00\" fill=\"#000000\">entropy = 0.447</text>\n<text text-anchor=\"start\" x=\"5349.5\" y=\"-481.8\" font-family=\"Helvetica,sans-Serif\" font-size=\"14.00\" fill=\"#000000\">samples = 75</text>\n<text text-anchor=\"start\" x=\"5255\" y=\"-467.8\" font-family=\"Helvetica,sans-Serif\" font-size=\"14.00\" fill=\"#000000\">value = [0, 0, 0, 0, 0, 0, 0, 0, 68, 0, 0, 0, 0, 0</text>\n<text text-anchor=\"start\" x=\"5332\" y=\"-453.8\" font-family=\"Helvetica,sans-Serif\" font-size=\"14.00\" fill=\"#000000\">0, 0, 0, 0, 0, 0, 7, 0]</text>\n</g>\n<!-- 65&#45;&gt;67 -->\n<g id=\"edge67\" class=\"edge\">\n<title>65&#45;&gt;67</title>\n<path fill=\"none\" stroke=\"#000000\" d=\"M5393.5,-559.7677C5393.5,-551.6172 5393.5,-542.9283 5393.5,-534.4649\"/>\n<polygon fill=\"#000000\" stroke=\"#000000\" points=\"5397.0001,-534.3046 5393.5,-524.3046 5390.0001,-534.3047 5397.0001,-534.3046\"/>\n</g>\n<!-- 68 -->\n<g id=\"node69\" class=\"node\">\n<title>68</title>\n<path fill=\"#e53950\" stroke=\"#000000\" d=\"M5369.5,-405C5369.5,-405 5109.5,-405 5109.5,-405 5103.5,-405 5097.5,-399 5097.5,-393 5097.5,-393 5097.5,-349 5097.5,-349 5097.5,-343 5103.5,-337 5109.5,-337 5109.5,-337 5369.5,-337 5369.5,-337 5375.5,-337 5381.5,-343 5381.5,-349 5381.5,-349 5381.5,-393 5381.5,-393 5381.5,-399 5375.5,-405 5369.5,-405\"/>\n<text text-anchor=\"start\" x=\"5197\" y=\"-389.8\" font-family=\"Helvetica,sans-Serif\" font-size=\"14.00\" fill=\"#000000\">entropy = 0.0</text>\n<text text-anchor=\"start\" x=\"5200\" y=\"-374.8\" font-family=\"Helvetica,sans-Serif\" font-size=\"14.00\" fill=\"#000000\">samples = 3</text>\n<text text-anchor=\"start\" x=\"5105.5\" y=\"-359.8\" font-family=\"Helvetica,sans-Serif\" font-size=\"14.00\" fill=\"#000000\">value = [0, 0, 0, 0, 0, 0, 0, 0, 0, 0, 0, 0, 0, 0</text>\n<text text-anchor=\"start\" x=\"5178\" y=\"-344.8\" font-family=\"Helvetica,sans-Serif\" font-size=\"14.00\" fill=\"#000000\">0, 0, 0, 0, 0, 0, 3, 0]</text>\n</g>\n<!-- 67&#45;&gt;68 -->\n<g id=\"edge68\" class=\"edge\">\n<title>67&#45;&gt;68</title>\n<path fill=\"none\" stroke=\"#000000\" d=\"M5340.5019,-445.7677C5325.4527,-434.6274 5309.0444,-422.4809 5293.9129,-411.2797\"/>\n<polygon fill=\"#000000\" stroke=\"#000000\" points=\"5295.7744,-408.3031 5285.6545,-405.1663 5291.6095,-413.9293 5295.7744,-408.3031\"/>\n</g>\n<!-- 69 -->\n<g id=\"node70\" class=\"node\">\n<title>69</title>\n<path fill=\"#45e7a3\" stroke=\"#000000\" d=\"M5681,-410C5681,-410 5412,-410 5412,-410 5406,-410 5400,-404 5400,-398 5400,-398 5400,-344 5400,-344 5400,-338 5406,-332 5412,-332 5412,-332 5681,-332 5681,-332 5687,-332 5693,-338 5693,-344 5693,-344 5693,-398 5693,-398 5693,-404 5687,-410 5681,-410\"/>\n<text text-anchor=\"start\" x=\"5509.5\" y=\"-395.8\" font-family=\"Helvetica,sans-Serif\" font-size=\"14.00\" fill=\"#000000\">X</text>\n<text text-anchor=\"start\" x=\"5519.5\" y=\"-395.8\" font-family=\"Helvetica,sans-Serif\" baseline-shift=\"sub\" font-size=\"14.00\" fill=\"#000000\">1</text>\n<text text-anchor=\"start\" x=\"5526.5\" y=\"-395.8\" font-family=\"Helvetica,sans-Serif\" font-size=\"14.00\" fill=\"#000000\"> ≤ &#45;0.511</text>\n<text text-anchor=\"start\" x=\"5499.5\" y=\"-381.8\" font-family=\"Helvetica,sans-Serif\" font-size=\"14.00\" fill=\"#000000\">entropy = 0.31</text>\n<text text-anchor=\"start\" x=\"5502.5\" y=\"-367.8\" font-family=\"Helvetica,sans-Serif\" font-size=\"14.00\" fill=\"#000000\">samples = 72</text>\n<text text-anchor=\"start\" x=\"5408\" y=\"-353.8\" font-family=\"Helvetica,sans-Serif\" font-size=\"14.00\" fill=\"#000000\">value = [0, 0, 0, 0, 0, 0, 0, 0, 68, 0, 0, 0, 0, 0</text>\n<text text-anchor=\"start\" x=\"5485\" y=\"-339.8\" font-family=\"Helvetica,sans-Serif\" font-size=\"14.00\" fill=\"#000000\">0, 0, 0, 0, 0, 0, 4, 0]</text>\n</g>\n<!-- 67&#45;&gt;69 -->\n<g id=\"edge69\" class=\"edge\">\n<title>67&#45;&gt;69</title>\n<path fill=\"none\" stroke=\"#000000\" d=\"M5446.1539,-445.7677C5458.9673,-436.2204 5472.7725,-425.9342 5485.9211,-416.1373\"/>\n<polygon fill=\"#000000\" stroke=\"#000000\" points=\"5488.0807,-418.8929 5494.0083,-410.1115 5483.8983,-413.2797 5488.0807,-418.8929\"/>\n</g>\n<!-- 70 -->\n<g id=\"node71\" class=\"node\">\n<title>70</title>\n<path fill=\"#f6bdc5\" stroke=\"#000000\" d=\"M5523.5,-296C5523.5,-296 5263.5,-296 5263.5,-296 5257.5,-296 5251.5,-290 5251.5,-284 5251.5,-284 5251.5,-230 5251.5,-230 5251.5,-224 5257.5,-218 5263.5,-218 5263.5,-218 5523.5,-218 5523.5,-218 5529.5,-218 5535.5,-224 5535.5,-230 5535.5,-230 5535.5,-284 5535.5,-284 5535.5,-290 5529.5,-296 5523.5,-296\"/>\n<text text-anchor=\"start\" x=\"5359\" y=\"-281.8\" font-family=\"Helvetica,sans-Serif\" font-size=\"14.00\" fill=\"#000000\">X</text>\n<text text-anchor=\"start\" x=\"5369\" y=\"-281.8\" font-family=\"Helvetica,sans-Serif\" baseline-shift=\"sub\" font-size=\"14.00\" fill=\"#000000\">6</text>\n<text text-anchor=\"start\" x=\"5376\" y=\"-281.8\" font-family=\"Helvetica,sans-Serif\" font-size=\"14.00\" fill=\"#000000\"> ≤ 1.333</text>\n<text text-anchor=\"start\" x=\"5342.5\" y=\"-267.8\" font-family=\"Helvetica,sans-Serif\" font-size=\"14.00\" fill=\"#000000\">entropy = 0.971</text>\n<text text-anchor=\"start\" x=\"5354\" y=\"-253.8\" font-family=\"Helvetica,sans-Serif\" font-size=\"14.00\" fill=\"#000000\">samples = 5</text>\n<text text-anchor=\"start\" x=\"5259.5\" y=\"-239.8\" font-family=\"Helvetica,sans-Serif\" font-size=\"14.00\" fill=\"#000000\">value = [0, 0, 0, 0, 0, 0, 0, 0, 2, 0, 0, 0, 0, 0</text>\n<text text-anchor=\"start\" x=\"5332\" y=\"-225.8\" font-family=\"Helvetica,sans-Serif\" font-size=\"14.00\" fill=\"#000000\">0, 0, 0, 0, 0, 0, 3, 0]</text>\n</g>\n<!-- 69&#45;&gt;70 -->\n<g id=\"edge70\" class=\"edge\">\n<title>69&#45;&gt;70</title>\n<path fill=\"none\" stroke=\"#000000\" d=\"M5493.8461,-331.7677C5481.0327,-322.2204 5467.2275,-311.9342 5454.0789,-302.1373\"/>\n<polygon fill=\"#000000\" stroke=\"#000000\" points=\"5456.1017,-299.2797 5445.9917,-296.1115 5451.9193,-304.8929 5456.1017,-299.2797\"/>\n</g>\n<!-- 73 -->\n<g id=\"node74\" class=\"node\">\n<title>73</title>\n<path fill=\"#3ce59e\" stroke=\"#000000\" d=\"M5835,-296C5835,-296 5566,-296 5566,-296 5560,-296 5554,-290 5554,-284 5554,-284 5554,-230 5554,-230 5554,-224 5560,-218 5566,-218 5566,-218 5835,-218 5835,-218 5841,-218 5847,-224 5847,-230 5847,-230 5847,-284 5847,-284 5847,-290 5841,-296 5835,-296\"/>\n<text text-anchor=\"start\" x=\"5666\" y=\"-281.8\" font-family=\"Helvetica,sans-Serif\" font-size=\"14.00\" fill=\"#000000\">X</text>\n<text text-anchor=\"start\" x=\"5676\" y=\"-281.8\" font-family=\"Helvetica,sans-Serif\" baseline-shift=\"sub\" font-size=\"14.00\" fill=\"#000000\">5</text>\n<text text-anchor=\"start\" x=\"5683\" y=\"-281.8\" font-family=\"Helvetica,sans-Serif\" font-size=\"14.00\" fill=\"#000000\"> ≤ 1.179</text>\n<text text-anchor=\"start\" x=\"5649.5\" y=\"-267.8\" font-family=\"Helvetica,sans-Serif\" font-size=\"14.00\" fill=\"#000000\">entropy = 0.112</text>\n<text text-anchor=\"start\" x=\"5656.5\" y=\"-253.8\" font-family=\"Helvetica,sans-Serif\" font-size=\"14.00\" fill=\"#000000\">samples = 67</text>\n<text text-anchor=\"start\" x=\"5562\" y=\"-239.8\" font-family=\"Helvetica,sans-Serif\" font-size=\"14.00\" fill=\"#000000\">value = [0, 0, 0, 0, 0, 0, 0, 0, 66, 0, 0, 0, 0, 0</text>\n<text text-anchor=\"start\" x=\"5639\" y=\"-225.8\" font-family=\"Helvetica,sans-Serif\" font-size=\"14.00\" fill=\"#000000\">0, 0, 0, 0, 0, 0, 1, 0]</text>\n</g>\n<!-- 69&#45;&gt;73 -->\n<g id=\"edge73\" class=\"edge\">\n<title>69&#45;&gt;73</title>\n<path fill=\"none\" stroke=\"#000000\" d=\"M5599.4981,-331.7677C5612.3952,-322.2204 5626.2906,-311.9342 5639.5251,-302.1373\"/>\n<polygon fill=\"#000000\" stroke=\"#000000\" points=\"5641.7102,-304.8744 5647.6652,-296.1115 5637.5454,-299.2482 5641.7102,-304.8744\"/>\n</g>\n<!-- 71 -->\n<g id=\"node72\" class=\"node\">\n<title>71</title>\n<path fill=\"#39e59d\" stroke=\"#000000\" d=\"M5221.5,-177C5221.5,-177 4961.5,-177 4961.5,-177 4955.5,-177 4949.5,-171 4949.5,-165 4949.5,-165 4949.5,-121 4949.5,-121 4949.5,-115 4955.5,-109 4961.5,-109 4961.5,-109 5221.5,-109 5221.5,-109 5227.5,-109 5233.5,-115 5233.5,-121 5233.5,-121 5233.5,-165 5233.5,-165 5233.5,-171 5227.5,-177 5221.5,-177\"/>\n<text text-anchor=\"start\" x=\"5049\" y=\"-161.8\" font-family=\"Helvetica,sans-Serif\" font-size=\"14.00\" fill=\"#000000\">entropy = 0.0</text>\n<text text-anchor=\"start\" x=\"5052\" y=\"-146.8\" font-family=\"Helvetica,sans-Serif\" font-size=\"14.00\" fill=\"#000000\">samples = 2</text>\n<text text-anchor=\"start\" x=\"4957.5\" y=\"-131.8\" font-family=\"Helvetica,sans-Serif\" font-size=\"14.00\" fill=\"#000000\">value = [0, 0, 0, 0, 0, 0, 0, 0, 2, 0, 0, 0, 0, 0</text>\n<text text-anchor=\"start\" x=\"5030\" y=\"-116.8\" font-family=\"Helvetica,sans-Serif\" font-size=\"14.00\" fill=\"#000000\">0, 0, 0, 0, 0, 0, 0, 0]</text>\n</g>\n<!-- 70&#45;&gt;71 -->\n<g id=\"edge71\" class=\"edge\">\n<title>70&#45;&gt;71</title>\n<path fill=\"none\" stroke=\"#000000\" d=\"M5289.9912,-217.9272C5258.1148,-205.8943 5223.0946,-192.6748 5191.4613,-180.7337\"/>\n<polygon fill=\"#000000\" stroke=\"#000000\" points=\"5192.3517,-177.3288 5181.76,-177.0716 5189.8795,-183.8778 5192.3517,-177.3288\"/>\n</g>\n<!-- 72 -->\n<g id=\"node73\" class=\"node\">\n<title>72</title>\n<path fill=\"#e53950\" stroke=\"#000000\" d=\"M5523.5,-177C5523.5,-177 5263.5,-177 5263.5,-177 5257.5,-177 5251.5,-171 5251.5,-165 5251.5,-165 5251.5,-121 5251.5,-121 5251.5,-115 5257.5,-109 5263.5,-109 5263.5,-109 5523.5,-109 5523.5,-109 5529.5,-109 5535.5,-115 5535.5,-121 5535.5,-121 5535.5,-165 5535.5,-165 5535.5,-171 5529.5,-177 5523.5,-177\"/>\n<text text-anchor=\"start\" x=\"5351\" y=\"-161.8\" font-family=\"Helvetica,sans-Serif\" font-size=\"14.00\" fill=\"#000000\">entropy = 0.0</text>\n<text text-anchor=\"start\" x=\"5354\" y=\"-146.8\" font-family=\"Helvetica,sans-Serif\" font-size=\"14.00\" fill=\"#000000\">samples = 3</text>\n<text text-anchor=\"start\" x=\"5259.5\" y=\"-131.8\" font-family=\"Helvetica,sans-Serif\" font-size=\"14.00\" fill=\"#000000\">value = [0, 0, 0, 0, 0, 0, 0, 0, 0, 0, 0, 0, 0, 0</text>\n<text text-anchor=\"start\" x=\"5332\" y=\"-116.8\" font-family=\"Helvetica,sans-Serif\" font-size=\"14.00\" fill=\"#000000\">0, 0, 0, 0, 0, 0, 3, 0]</text>\n</g>\n<!-- 70&#45;&gt;72 -->\n<g id=\"edge72\" class=\"edge\">\n<title>70&#45;&gt;72</title>\n<path fill=\"none\" stroke=\"#000000\" d=\"M5393.5,-217.7677C5393.5,-208.0161 5393.5,-197.4937 5393.5,-187.509\"/>\n<polygon fill=\"#000000\" stroke=\"#000000\" points=\"5397.0001,-187.3535 5393.5,-177.3535 5390.0001,-187.3536 5397.0001,-187.3535\"/>\n</g>\n<!-- 74 -->\n<g id=\"node75\" class=\"node\">\n<title>74</title>\n<path fill=\"#39e59d\" stroke=\"#000000\" d=\"M5835,-177C5835,-177 5566,-177 5566,-177 5560,-177 5554,-171 5554,-165 5554,-165 5554,-121 5554,-121 5554,-115 5560,-109 5566,-109 5566,-109 5835,-109 5835,-109 5841,-109 5847,-115 5847,-121 5847,-121 5847,-165 5847,-165 5847,-171 5841,-177 5835,-177\"/>\n<text text-anchor=\"start\" x=\"5658\" y=\"-161.8\" font-family=\"Helvetica,sans-Serif\" font-size=\"14.00\" fill=\"#000000\">entropy = 0.0</text>\n<text text-anchor=\"start\" x=\"5656.5\" y=\"-146.8\" font-family=\"Helvetica,sans-Serif\" font-size=\"14.00\" fill=\"#000000\">samples = 62</text>\n<text text-anchor=\"start\" x=\"5562\" y=\"-131.8\" font-family=\"Helvetica,sans-Serif\" font-size=\"14.00\" fill=\"#000000\">value = [0, 0, 0, 0, 0, 0, 0, 0, 62, 0, 0, 0, 0, 0</text>\n<text text-anchor=\"start\" x=\"5639\" y=\"-116.8\" font-family=\"Helvetica,sans-Serif\" font-size=\"14.00\" fill=\"#000000\">0, 0, 0, 0, 0, 0, 0, 0]</text>\n</g>\n<!-- 73&#45;&gt;74 -->\n<g id=\"edge74\" class=\"edge\">\n<title>73&#45;&gt;74</title>\n<path fill=\"none\" stroke=\"#000000\" d=\"M5700.5,-217.7677C5700.5,-208.0161 5700.5,-197.4937 5700.5,-187.509\"/>\n<polygon fill=\"#000000\" stroke=\"#000000\" points=\"5704.0001,-187.3535 5700.5,-177.3535 5697.0001,-187.3536 5704.0001,-187.3535\"/>\n</g>\n<!-- 75 -->\n<g id=\"node76\" class=\"node\">\n<title>75</title>\n<path fill=\"#6aecb6\" stroke=\"#000000\" d=\"M6137.5,-182C6137.5,-182 5877.5,-182 5877.5,-182 5871.5,-182 5865.5,-176 5865.5,-170 5865.5,-170 5865.5,-116 5865.5,-116 5865.5,-110 5871.5,-104 5877.5,-104 5877.5,-104 6137.5,-104 6137.5,-104 6143.5,-104 6149.5,-110 6149.5,-116 6149.5,-116 6149.5,-170 6149.5,-170 6149.5,-176 6143.5,-182 6137.5,-182\"/>\n<text text-anchor=\"start\" x=\"5973\" y=\"-167.8\" font-family=\"Helvetica,sans-Serif\" font-size=\"14.00\" fill=\"#000000\">X</text>\n<text text-anchor=\"start\" x=\"5983\" y=\"-167.8\" font-family=\"Helvetica,sans-Serif\" baseline-shift=\"sub\" font-size=\"14.00\" fill=\"#000000\">5</text>\n<text text-anchor=\"start\" x=\"5990\" y=\"-167.8\" font-family=\"Helvetica,sans-Serif\" font-size=\"14.00\" fill=\"#000000\"> ≤ 1.206</text>\n<text text-anchor=\"start\" x=\"5956.5\" y=\"-153.8\" font-family=\"Helvetica,sans-Serif\" font-size=\"14.00\" fill=\"#000000\">entropy = 0.722</text>\n<text text-anchor=\"start\" x=\"5968\" y=\"-139.8\" font-family=\"Helvetica,sans-Serif\" font-size=\"14.00\" fill=\"#000000\">samples = 5</text>\n<text text-anchor=\"start\" x=\"5873.5\" y=\"-125.8\" font-family=\"Helvetica,sans-Serif\" font-size=\"14.00\" fill=\"#000000\">value = [0, 0, 0, 0, 0, 0, 0, 0, 4, 0, 0, 0, 0, 0</text>\n<text text-anchor=\"start\" x=\"5946\" y=\"-111.8\" font-family=\"Helvetica,sans-Serif\" font-size=\"14.00\" fill=\"#000000\">0, 0, 0, 0, 0, 0, 1, 0]</text>\n</g>\n<!-- 73&#45;&gt;75 -->\n<g id=\"edge75\" class=\"edge\">\n<title>73&#45;&gt;75</title>\n<path fill=\"none\" stroke=\"#000000\" d=\"M5805.7225,-217.9272C5833.7928,-207.5037 5864.2611,-196.1897 5892.8122,-185.5876\"/>\n<polygon fill=\"#000000\" stroke=\"#000000\" points=\"5894.2589,-188.784 5902.415,-182.0218 5891.8221,-182.2219 5894.2589,-188.784\"/>\n</g>\n<!-- 76 -->\n<g id=\"node77\" class=\"node\">\n<title>76</title>\n<path fill=\"#e53950\" stroke=\"#000000\" d=\"M5986.5,-68C5986.5,-68 5726.5,-68 5726.5,-68 5720.5,-68 5714.5,-62 5714.5,-56 5714.5,-56 5714.5,-12 5714.5,-12 5714.5,-6 5720.5,0 5726.5,0 5726.5,0 5986.5,0 5986.5,0 5992.5,0 5998.5,-6 5998.5,-12 5998.5,-12 5998.5,-56 5998.5,-56 5998.5,-62 5992.5,-68 5986.5,-68\"/>\n<text text-anchor=\"start\" x=\"5814\" y=\"-52.8\" font-family=\"Helvetica,sans-Serif\" font-size=\"14.00\" fill=\"#000000\">entropy = 0.0</text>\n<text text-anchor=\"start\" x=\"5817\" y=\"-37.8\" font-family=\"Helvetica,sans-Serif\" font-size=\"14.00\" fill=\"#000000\">samples = 1</text>\n<text text-anchor=\"start\" x=\"5722.5\" y=\"-22.8\" font-family=\"Helvetica,sans-Serif\" font-size=\"14.00\" fill=\"#000000\">value = [0, 0, 0, 0, 0, 0, 0, 0, 0, 0, 0, 0, 0, 0</text>\n<text text-anchor=\"start\" x=\"5795\" y=\"-7.8\" font-family=\"Helvetica,sans-Serif\" font-size=\"14.00\" fill=\"#000000\">0, 0, 0, 0, 0, 0, 1, 0]</text>\n</g>\n<!-- 75&#45;&gt;76 -->\n<g id=\"edge76\" class=\"edge\">\n<title>75&#45;&gt;76</title>\n<path fill=\"none\" stroke=\"#000000\" d=\"M5953.412,-103.9564C5939.9567,-94.2436 5925.5123,-83.8168 5911.9907,-74.0562\"/>\n<polygon fill=\"#000000\" stroke=\"#000000\" points=\"5913.8647,-71.0923 5903.7079,-68.0772 5909.7676,-76.7681 5913.8647,-71.0923\"/>\n</g>\n<!-- 77 -->\n<g id=\"node78\" class=\"node\">\n<title>77</title>\n<path fill=\"#39e59d\" stroke=\"#000000\" d=\"M6288.5,-68C6288.5,-68 6028.5,-68 6028.5,-68 6022.5,-68 6016.5,-62 6016.5,-56 6016.5,-56 6016.5,-12 6016.5,-12 6016.5,-6 6022.5,0 6028.5,0 6028.5,0 6288.5,0 6288.5,0 6294.5,0 6300.5,-6 6300.5,-12 6300.5,-12 6300.5,-56 6300.5,-56 6300.5,-62 6294.5,-68 6288.5,-68\"/>\n<text text-anchor=\"start\" x=\"6116\" y=\"-52.8\" font-family=\"Helvetica,sans-Serif\" font-size=\"14.00\" fill=\"#000000\">entropy = 0.0</text>\n<text text-anchor=\"start\" x=\"6119\" y=\"-37.8\" font-family=\"Helvetica,sans-Serif\" font-size=\"14.00\" fill=\"#000000\">samples = 4</text>\n<text text-anchor=\"start\" x=\"6024.5\" y=\"-22.8\" font-family=\"Helvetica,sans-Serif\" font-size=\"14.00\" fill=\"#000000\">value = [0, 0, 0, 0, 0, 0, 0, 0, 4, 0, 0, 0, 0, 0</text>\n<text text-anchor=\"start\" x=\"6097\" y=\"-7.8\" font-family=\"Helvetica,sans-Serif\" font-size=\"14.00\" fill=\"#000000\">0, 0, 0, 0, 0, 0, 0, 0]</text>\n</g>\n<!-- 75&#45;&gt;77 -->\n<g id=\"edge77\" class=\"edge\">\n<title>75&#45;&gt;77</title>\n<path fill=\"none\" stroke=\"#000000\" d=\"M6061.588,-103.9564C6075.0433,-94.2436 6089.4877,-83.8168 6103.0093,-74.0562\"/>\n<polygon fill=\"#000000\" stroke=\"#000000\" points=\"6105.2324,-76.7681 6111.2921,-68.0772 6101.1353,-71.0923 6105.2324,-76.7681\"/>\n</g>\n<!-- 79 -->\n<g id=\"node80\" class=\"node\">\n<title>79</title>\n<path fill=\"#bde539\" stroke=\"#000000\" d=\"M5830.5,-519C5830.5,-519 5570.5,-519 5570.5,-519 5564.5,-519 5558.5,-513 5558.5,-507 5558.5,-507 5558.5,-463 5558.5,-463 5558.5,-457 5564.5,-451 5570.5,-451 5570.5,-451 5830.5,-451 5830.5,-451 5836.5,-451 5842.5,-457 5842.5,-463 5842.5,-463 5842.5,-507 5842.5,-507 5842.5,-513 5836.5,-519 5830.5,-519\"/>\n<text text-anchor=\"start\" x=\"5658\" y=\"-503.8\" font-family=\"Helvetica,sans-Serif\" font-size=\"14.00\" fill=\"#000000\">entropy = 0.0</text>\n<text text-anchor=\"start\" x=\"5661\" y=\"-488.8\" font-family=\"Helvetica,sans-Serif\" font-size=\"14.00\" fill=\"#000000\">samples = 1</text>\n<text text-anchor=\"start\" x=\"5566.5\" y=\"-473.8\" font-family=\"Helvetica,sans-Serif\" font-size=\"14.00\" fill=\"#000000\">value = [0, 0, 0, 1, 0, 0, 0, 0, 0, 0, 0, 0, 0, 0</text>\n<text text-anchor=\"start\" x=\"5639\" y=\"-458.8\" font-family=\"Helvetica,sans-Serif\" font-size=\"14.00\" fill=\"#000000\">0, 0, 0, 0, 0, 0, 0, 0]</text>\n</g>\n<!-- 78&#45;&gt;79 -->\n<g id=\"edge79\" class=\"edge\">\n<title>78&#45;&gt;79</title>\n<path fill=\"none\" stroke=\"#000000\" d=\"M5700.5,-559.7677C5700.5,-550.0161 5700.5,-539.4937 5700.5,-529.509\"/>\n<polygon fill=\"#000000\" stroke=\"#000000\" points=\"5704.0001,-529.3535 5700.5,-519.3535 5697.0001,-529.3536 5704.0001,-529.3535\"/>\n</g>\n<!-- 80 -->\n<g id=\"node81\" class=\"node\">\n<title>80</title>\n<path fill=\"#e539dc\" stroke=\"#000000\" d=\"M6132.5,-519C6132.5,-519 5872.5,-519 5872.5,-519 5866.5,-519 5860.5,-513 5860.5,-507 5860.5,-507 5860.5,-463 5860.5,-463 5860.5,-457 5866.5,-451 5872.5,-451 5872.5,-451 6132.5,-451 6132.5,-451 6138.5,-451 6144.5,-457 6144.5,-463 6144.5,-463 6144.5,-507 6144.5,-507 6144.5,-513 6138.5,-519 6132.5,-519\"/>\n<text text-anchor=\"start\" x=\"5960\" y=\"-503.8\" font-family=\"Helvetica,sans-Serif\" font-size=\"14.00\" fill=\"#000000\">entropy = 0.0</text>\n<text text-anchor=\"start\" x=\"5958.5\" y=\"-488.8\" font-family=\"Helvetica,sans-Serif\" font-size=\"14.00\" fill=\"#000000\">samples = 18</text>\n<text text-anchor=\"start\" x=\"5868.5\" y=\"-473.8\" font-family=\"Helvetica,sans-Serif\" font-size=\"14.00\" fill=\"#000000\">value = [0, 0, 0, 0, 0, 0, 0, 0, 0, 0, 0, 0, 0, 0</text>\n<text text-anchor=\"start\" x=\"5937\" y=\"-458.8\" font-family=\"Helvetica,sans-Serif\" font-size=\"14.00\" fill=\"#000000\">0, 0, 0, 18, 0, 0, 0, 0]</text>\n</g>\n<!-- 78&#45;&gt;80 -->\n<g id=\"edge80\" class=\"edge\">\n<title>78&#45;&gt;80</title>\n<path fill=\"none\" stroke=\"#000000\" d=\"M5804.0088,-559.9272C5835.8852,-547.8943 5870.9054,-534.6748 5902.5387,-522.7337\"/>\n<polygon fill=\"#000000\" stroke=\"#000000\" points=\"5904.1205,-525.8778 5912.24,-519.0716 5901.6483,-519.3288 5904.1205,-525.8778\"/>\n</g>\n<!-- 82 -->\n<g id=\"node83\" class=\"node\">\n<title>82</title>\n<path fill=\"#e53950\" stroke=\"#000000\" d=\"M6134.5,-633C6134.5,-633 5874.5,-633 5874.5,-633 5868.5,-633 5862.5,-627 5862.5,-621 5862.5,-621 5862.5,-577 5862.5,-577 5862.5,-571 5868.5,-565 5874.5,-565 5874.5,-565 6134.5,-565 6134.5,-565 6140.5,-565 6146.5,-571 6146.5,-577 6146.5,-577 6146.5,-621 6146.5,-621 6146.5,-627 6140.5,-633 6134.5,-633\"/>\n<text text-anchor=\"start\" x=\"5962\" y=\"-617.8\" font-family=\"Helvetica,sans-Serif\" font-size=\"14.00\" fill=\"#000000\">entropy = 0.0</text>\n<text text-anchor=\"start\" x=\"5960.5\" y=\"-602.8\" font-family=\"Helvetica,sans-Serif\" font-size=\"14.00\" fill=\"#000000\">samples = 64</text>\n<text text-anchor=\"start\" x=\"5870.5\" y=\"-587.8\" font-family=\"Helvetica,sans-Serif\" font-size=\"14.00\" fill=\"#000000\">value = [0, 0, 0, 0, 0, 0, 0, 0, 0, 0, 0, 0, 0, 0</text>\n<text text-anchor=\"start\" x=\"5939\" y=\"-572.8\" font-family=\"Helvetica,sans-Serif\" font-size=\"14.00\" fill=\"#000000\">0, 0, 0, 0, 0, 0, 64, 0]</text>\n</g>\n<!-- 81&#45;&gt;82 -->\n<g id=\"edge82\" class=\"edge\">\n<title>81&#45;&gt;82</title>\n<path fill=\"none\" stroke=\"#000000\" d=\"M6005.8117,-673.7677C6005.6406,-664.0161 6005.456,-653.4937 6005.2809,-643.509\"/>\n<polygon fill=\"#000000\" stroke=\"#000000\" points=\"6008.7777,-643.2906 6005.1027,-633.3535 6001.7787,-643.4134 6008.7777,-643.2906\"/>\n</g>\n<!-- 83 -->\n<g id=\"node84\" class=\"node\">\n<title>83</title>\n<path fill=\"#e539dc\" stroke=\"#000000\" d=\"M6436.5,-633C6436.5,-633 6176.5,-633 6176.5,-633 6170.5,-633 6164.5,-627 6164.5,-621 6164.5,-621 6164.5,-577 6164.5,-577 6164.5,-571 6170.5,-565 6176.5,-565 6176.5,-565 6436.5,-565 6436.5,-565 6442.5,-565 6448.5,-571 6448.5,-577 6448.5,-577 6448.5,-621 6448.5,-621 6448.5,-627 6442.5,-633 6436.5,-633\"/>\n<text text-anchor=\"start\" x=\"6264\" y=\"-617.8\" font-family=\"Helvetica,sans-Serif\" font-size=\"14.00\" fill=\"#000000\">entropy = 0.0</text>\n<text text-anchor=\"start\" x=\"6267\" y=\"-602.8\" font-family=\"Helvetica,sans-Serif\" font-size=\"14.00\" fill=\"#000000\">samples = 3</text>\n<text text-anchor=\"start\" x=\"6172.5\" y=\"-587.8\" font-family=\"Helvetica,sans-Serif\" font-size=\"14.00\" fill=\"#000000\">value = [0, 0, 0, 0, 0, 0, 0, 0, 0, 0, 0, 0, 0, 0</text>\n<text text-anchor=\"start\" x=\"6245\" y=\"-572.8\" font-family=\"Helvetica,sans-Serif\" font-size=\"14.00\" fill=\"#000000\">0, 0, 0, 3, 0, 0, 0, 0]</text>\n</g>\n<!-- 81&#45;&gt;83 -->\n<g id=\"edge83\" class=\"edge\">\n<title>81&#45;&gt;83</title>\n<path fill=\"none\" stroke=\"#000000\" d=\"M6109.3233,-673.9272C6140.9887,-661.8943 6175.7769,-648.6748 6207.2007,-636.7337\"/>\n<polygon fill=\"#000000\" stroke=\"#000000\" points=\"6208.7332,-639.8956 6216.8378,-633.0716 6206.2466,-633.3521 6208.7332,-639.8956\"/>\n</g>\n<!-- 85 -->\n<g id=\"node86\" class=\"node\">\n<title>85</title>\n<path fill=\"#e5ae39\" stroke=\"#000000\" d=\"M6450,-747C6450,-747 6181,-747 6181,-747 6175,-747 6169,-741 6169,-735 6169,-735 6169,-691 6169,-691 6169,-685 6175,-679 6181,-679 6181,-679 6450,-679 6450,-679 6456,-679 6462,-685 6462,-691 6462,-691 6462,-735 6462,-735 6462,-741 6456,-747 6450,-747\"/>\n<text text-anchor=\"start\" x=\"6273\" y=\"-731.8\" font-family=\"Helvetica,sans-Serif\" font-size=\"14.00\" fill=\"#000000\">entropy = 0.0</text>\n<text text-anchor=\"start\" x=\"6271.5\" y=\"-716.8\" font-family=\"Helvetica,sans-Serif\" font-size=\"14.00\" fill=\"#000000\">samples = 79</text>\n<text text-anchor=\"start\" x=\"6177\" y=\"-701.8\" font-family=\"Helvetica,sans-Serif\" font-size=\"14.00\" fill=\"#000000\">value = [0, 79, 0, 0, 0, 0, 0, 0, 0, 0, 0, 0, 0, 0</text>\n<text text-anchor=\"start\" x=\"6254\" y=\"-686.8\" font-family=\"Helvetica,sans-Serif\" font-size=\"14.00\" fill=\"#000000\">0, 0, 0, 0, 0, 0, 0, 0]</text>\n</g>\n<!-- 84&#45;&gt;85 -->\n<g id=\"edge85\" class=\"edge\">\n<title>84&#45;&gt;85</title>\n<path fill=\"none\" stroke=\"#000000\" d=\"M6316.1559,-787.7677C6316.0703,-778.0161 6315.978,-767.4937 6315.8904,-757.509\"/>\n<polygon fill=\"#000000\" stroke=\"#000000\" points=\"6319.389,-757.3224 6315.8013,-747.3535 6312.3893,-757.3839 6319.389,-757.3224\"/>\n</g>\n<!-- 86 -->\n<g id=\"node87\" class=\"node\">\n<title>86</title>\n<path fill=\"#e539dc\" stroke=\"#000000\" d=\"M6752.5,-747C6752.5,-747 6492.5,-747 6492.5,-747 6486.5,-747 6480.5,-741 6480.5,-735 6480.5,-735 6480.5,-691 6480.5,-691 6480.5,-685 6486.5,-679 6492.5,-679 6492.5,-679 6752.5,-679 6752.5,-679 6758.5,-679 6764.5,-685 6764.5,-691 6764.5,-691 6764.5,-735 6764.5,-735 6764.5,-741 6758.5,-747 6752.5,-747\"/>\n<text text-anchor=\"start\" x=\"6580\" y=\"-731.8\" font-family=\"Helvetica,sans-Serif\" font-size=\"14.00\" fill=\"#000000\">entropy = 0.0</text>\n<text text-anchor=\"start\" x=\"6583\" y=\"-716.8\" font-family=\"Helvetica,sans-Serif\" font-size=\"14.00\" fill=\"#000000\">samples = 1</text>\n<text text-anchor=\"start\" x=\"6488.5\" y=\"-701.8\" font-family=\"Helvetica,sans-Serif\" font-size=\"14.00\" fill=\"#000000\">value = [0, 0, 0, 0, 0, 0, 0, 0, 0, 0, 0, 0, 0, 0</text>\n<text text-anchor=\"start\" x=\"6561\" y=\"-686.8\" font-family=\"Helvetica,sans-Serif\" font-size=\"14.00\" fill=\"#000000\">0, 0, 0, 1, 0, 0, 0, 0]</text>\n</g>\n<!-- 84&#45;&gt;86 -->\n<g id=\"edge86\" class=\"edge\">\n<title>84&#45;&gt;86</title>\n<path fill=\"none\" stroke=\"#000000\" d=\"M6421.3797,-787.9272C6453.8176,-775.8424 6489.4684,-762.5608 6521.629,-750.5794\"/>\n<polygon fill=\"#000000\" stroke=\"#000000\" points=\"6522.8956,-753.8426 6531.0445,-747.0716 6520.4518,-747.283 6522.8956,-753.8426\"/>\n</g>\n</g>\n</svg>\n"
          },
          "metadata": {},
          "execution_count": 148
        }
      ]
    },
    {
      "cell_type": "markdown",
      "metadata": {
        "id": "MC-EQZVjr1PV"
      },
      "source": [
        "## Random Forest"
      ]
    },
    {
      "cell_type": "code",
      "metadata": {
        "id": "AFAngU8uxArC"
      },
      "source": [
        "from sklearn.ensemble import RandomForestClassifier\n",
        "clf_rf = RandomForestClassifier(max_depth=10, random_state=0, n_estimators=100)\n",
        "clf_rf.fit(X_train, y_train)\n",
        "rf_predicted_values = clf_rf.predict(X_test)"
      ],
      "execution_count": 149,
      "outputs": []
    },
    {
      "cell_type": "code",
      "metadata": {
        "colab": {
          "base_uri": "https://localhost:8080/"
        },
        "id": "VvBdgExNg4HU",
        "outputId": "034d7fe3-c007-47f8-bc8c-ff37a1f9973d"
      },
      "source": [
        "print(\"Accuracy: {}\".format(accuracy_score(y_test, rf_predicted_values)))\n",
        "print(\"f1 score: {}\".format(f1_score(y_test, rf_predicted_values, average='weighted')))\n",
        "print(\"Precision score: {}\".format(precision_score(y_test,rf_predicted_values, average='weighted')))\n",
        "print(\"Recall score: {}\".format(recall_score(y_test,rf_predicted_values,average = 'weighted')))\n",
        "print(confusion_matrix(y_test,rf_predicted_values))"
      ],
      "execution_count": 150,
      "outputs": [
        {
          "output_type": "stream",
          "name": "stdout",
          "text": [
            "Accuracy: 0.9931818181818182\n",
            "f1 score: 0.9931754816901672\n",
            "Precision score: 0.9937348484848485\n",
            "Recall score: 0.9931818181818182\n",
            "[[23  0  0  0  0  0  0  0  0  0  0  0  0  0  0  0  0  0  0  0  0  0]\n",
            " [ 0 21  0  0  0  0  0  0  0  0  0  0  0  0  0  0  0  0  0  0  0  0]\n",
            " [ 0  0 20  0  0  0  0  0  0  0  0  0  0  0  0  0  0  0  0  0  0  0]\n",
            " [ 0  0  0 26  0  0  0  0  0  0  0  0  0  0  0  0  0  0  0  0  0  0]\n",
            " [ 0  0  0  0 27  0  0  0  0  0  0  0  0  0  0  0  0  0  0  0  0  0]\n",
            " [ 0  0  0  0  0 17  0  0  0  0  0  0  0  0  0  0  0  0  0  0  0  0]\n",
            " [ 0  0  0  0  0  0 17  0  0  0  0  0  0  0  0  0  0  0  0  0  0  0]\n",
            " [ 0  0  0  0  0  0  0 14  0  0  0  0  0  0  0  0  0  0  0  0  0  0]\n",
            " [ 0  0  0  0  0  0  0  0 23  0  0  0  0  0  0  0  0  0  0  0  0  0]\n",
            " [ 0  0  0  0  0  0  0  0  0 20  0  0  0  0  0  0  0  0  0  0  0  0]\n",
            " [ 0  0  0  0  0  0  0  0  0  0 11  0  0  0  0  0  0  0  0  0  0  0]\n",
            " [ 0  0  0  0  0  0  0  0  0  0  0 21  0  0  0  0  0  0  0  0  0  0]\n",
            " [ 0  0  0  0  0  0  0  0  0  0  0  0 19  0  0  0  0  0  0  0  0  0]\n",
            " [ 0  0  0  0  0  0  0  0  0  0  1  0  0 23  0  0  0  0  0  0  0  0]\n",
            " [ 0  0  0  0  0  0  0  0  0  0  0  0  0  0 19  0  0  0  0  0  0  0]\n",
            " [ 0  0  0  0  0  0  0  0  0  0  0  0  0  0  0 17  0  0  0  0  0  0]\n",
            " [ 0  0  0  0  0  0  0  0  0  0  0  0  0  0  0  0 14  0  0  0  0  0]\n",
            " [ 0  0  0  0  0  0  0  0  0  0  0  0  0  0  0  0  0 23  0  0  0  0]\n",
            " [ 0  0  0  0  0  0  0  0  0  0  0  0  0  0  0  0  0  0 23  0  0  0]\n",
            " [ 0  0  0  0  0  0  0  0  0  0  0  0  0  0  0  0  0  0  0 23  0  0]\n",
            " [ 0  0  0  0  0  0  0  0  2  0  0  0  0  0  0  0  0  0  0  0 17  0]\n",
            " [ 0  0  0  0  0  0  0  0  0  0  0  0  0  0  0  0  0  0  0  0  0 19]]\n"
          ]
        }
      ]
    },
    {
      "cell_type": "markdown",
      "metadata": {
        "id": "4fgoMqDpigzy"
      },
      "source": [
        "## Multi-Layer Perceptron"
      ]
    },
    {
      "cell_type": "code",
      "metadata": {
        "id": "WfmQxs0uikHC"
      },
      "source": [
        "from sklearn.neural_network import MLPClassifier\n",
        "mlp = MLPClassifier(hidden_layer_sizes=(50,45,30,25,15,), random_state=1, max_iter=300, warm_start=True).fit(X_train, y_train)"
      ],
      "execution_count": 151,
      "outputs": []
    },
    {
      "cell_type": "code",
      "metadata": {
        "id": "Ou_6i2v4kjyb"
      },
      "source": [
        "mlp_predicted_values=mlp.predict(X_test)"
      ],
      "execution_count": 152,
      "outputs": []
    },
    {
      "cell_type": "code",
      "metadata": {
        "colab": {
          "base_uri": "https://localhost:8080/"
        },
        "id": "6LSCj7nokqC9",
        "outputId": "d4266359-031b-4a4e-af7f-81303992ecb2"
      },
      "source": [
        "print(\"Accuracy: {}\".format(accuracy_score(y_test, mlp_predicted_values)))\n",
        "print(\"f1 score: {}\".format(f1_score(y_test, mlp_predicted_values, average='weighted')))\n",
        "print(\"Precision score: {}\".format(precision_score(y_test,mlp_predicted_values, average='weighted')))\n",
        "print(\"Recall score: {}\".format(recall_score(y_test,mlp_predicted_values,average = 'weighted')))\n",
        "print(confusion_matrix(y_test,mlp_predicted_values))"
      ],
      "execution_count": 153,
      "outputs": [
        {
          "output_type": "stream",
          "name": "stdout",
          "text": [
            "Accuracy: 0.975\n",
            "f1 score: 0.9754264311076949\n",
            "Precision score: 0.9790055315055315\n",
            "Recall score: 0.975\n",
            "[[23  0  0  0  0  0  0  0  0  0  0  0  0  0  0  0  0  0  0  0  0  0]\n",
            " [ 0 21  0  0  0  0  0  0  0  0  0  0  0  0  0  0  0  0  0  0  0  0]\n",
            " [ 0  0 19  0  0  0  0  0  0  0  1  0  0  0  0  0  0  0  0  0  0  0]\n",
            " [ 0  0  0 26  0  0  0  0  0  0  0  0  0  0  0  0  0  0  0  0  0  0]\n",
            " [ 0  0  0  0 27  0  0  0  0  0  0  0  0  0  0  0  0  0  0  0  0  0]\n",
            " [ 0  0  0  0  0 16  0  0  1  0  0  0  0  0  0  0  0  0  0  0  0  0]\n",
            " [ 0  0  0  0  0  0 17  0  0  0  0  0  0  0  0  0  0  0  0  0  0  0]\n",
            " [ 0  0  0  0  0  0  0 14  0  0  0  0  0  0  0  0  0  0  0  0  0  0]\n",
            " [ 0  0  0  0  0  0  0  0 23  0  0  0  0  0  0  0  0  0  0  0  0  0]\n",
            " [ 0  0  0  0  0  0  0  0  0 20  0  0  0  0  0  0  0  0  0  0  0  0]\n",
            " [ 0  0  0  0  0  0  0  0  0  0 11  0  0  0  0  0  0  0  0  0  0  0]\n",
            " [ 0  0  0  0  0  0  1  0  0  0  0 19  0  0  0  0  0  0  1  0  0  0]\n",
            " [ 0  0  0  0  0  0  0  0  0  0  0  0 19  0  0  0  0  0  0  0  0  0]\n",
            " [ 0  0  0  0  0  0  0  0  0  0  3  0  0 21  0  0  0  0  0  0  0  0]\n",
            " [ 0  0  0  0  0  0  0  0  0  0  0  0  0  0 19  0  0  0  0  0  0  0]\n",
            " [ 0  0  0  0  0  0  0  0  0  0  0  0  0  0  0 17  0  0  0  0  0  0]\n",
            " [ 0  0  0  0  0  0  0  0  0  0  0  0  0  0  0  0 14  0  0  0  0  0]\n",
            " [ 0  0  0  0  0  0  0  0  0  0  0  0  0  0  0  0  0 23  0  0  0  0]\n",
            " [ 0  0  0  0  0  0  0  0  0  1  0  0  0  0  0  0  0  0 22  0  0  0]\n",
            " [ 0  0  0  0  0  0  0  0  0  0  0  0  0  0  0  0  0  0  0 23  0  0]\n",
            " [ 0  0  0  0  0  0  0  0  3  0  0  0  0  0  0  0  0  0  0  0 16  0]\n",
            " [ 0  0  0  0  0  0  0  0  0  0  0  0  0  0  0  0  0  0  0  0  0 19]]\n"
          ]
        }
      ]
    }
  ]
}